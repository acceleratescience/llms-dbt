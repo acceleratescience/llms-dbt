{
 "cells": [
  {
   "cell_type": "markdown",
   "metadata": {
    "slideshow": {
     "slide_type": "slide"
    }
   },
   "source": [
    "# Working with documents\n",
    "In this lesson, we will learn how to work with documents.\n",
    "\n",
    "\n",
    "## Nvidia Financial Report\n",
    "The first document that we will use is the Nvidia CFO Commentary on Second Quarter Fiscal 2025 Results.\n",
    "\n",
    "The first page is a table containing financial information. Pages 2-4 is the CFO commentary. We will extract the text from the second page and analyze it, before moving on to the first page to extract the financial information."
   ]
  },
  {
   "cell_type": "markdown",
   "metadata": {
    "slideshow": {
     "slide_type": "slide"
    }
   },
   "source": [
    "We will make use of some LlamaIndex tools. Throughout this Module, we will work with LlamaIndex, which has some nice features that make it easy to work with documents. The first tool is the `PyMuPDFReader` class, which is a wrapper around the `fitz` library. This allows us to read text from a PDF document."
   ]
  },
  {
   "cell_type": "code",
   "execution_count": 14,
   "metadata": {
    "slideshow": {
     "slide_type": "slide"
    }
   },
   "outputs": [],
   "source": [
    "from llama_index.readers.file import PyMuPDFReader\n",
    "from pydantic import BaseModel, Field\n",
    "from openai import OpenAI\n",
    "\n",
    "from rich.pretty import pprint\n",
    "from utils import TemplateManager\n",
    "\n",
    "import os\n",
    "import dotenv\n",
    "\n",
    "dotenv.load_dotenv()\n",
    "\n",
    "OPENAI_API_KEY = os.getenv(\"OPENAI_API_KEY\")"
   ]
  },
  {
   "cell_type": "code",
   "execution_count": 2,
   "metadata": {
    "slideshow": {
     "slide_type": "slide"
    }
   },
   "outputs": [],
   "source": [
    "loader = PyMuPDFReader()\n",
    "documents = loader.load(file_path=\"data/nvidia-commentary.pdf\")"
   ]
  },
  {
   "cell_type": "code",
   "execution_count": 3,
   "metadata": {
    "slideshow": {
     "slide_type": "slide"
    }
   },
   "outputs": [
    {
     "data": {
      "text/plain": [
       "[Document(id_='92c01183-79b1-4f8a-bf79-1afca15a1b6d', embedding=None, metadata={'total_pages': 8, 'file_path': 'data/nvidia-commentary.pdf', 'source': '1'}, excluded_embed_metadata_keys=[], excluded_llm_metadata_keys=[], relationships={}, text=' \\n \\n \\n \\n \\n \\n \\n                 \\nCFO Commentary on Second Quarter Fiscal 2025 Results\\nQ2 Fiscal 2025 Summary\\nGAAP\\n($ in millions, except earnings per \\nshare)\\nQ2 FY25\\nQ1 FY25\\nQ2 FY24\\nQ/Q\\nY/Y\\nRevenue\\n$30,040\\n$26,044\\n$13,507\\nUp 15%\\nUp 122%\\nGross margin\\n 75.1 %\\n 78.4 %\\n 70.1 %\\nDown 3.3 pts\\nUp 5.0 pts\\nOperating expenses\\n$3,932\\n$3,497\\n$2,662\\nUp 12%\\nUp 48%\\nOperating income\\n$18,642\\n$16,909\\n$6,800\\nUp 10%\\nUp 174%\\nNet income\\n$16,599\\n$14,881\\n$6,188\\nUp 12%\\nUp 168%\\nDiluted earnings per share\\n$0.67\\n$0.60\\n$0.25\\nUp 12%\\nUp 168%\\nNon-GAAP\\n($ in millions, except earnings per \\nshare)\\nQ2 FY25\\nQ1 FY25\\nQ2 FY24\\nQ/Q\\nY/Y\\nRevenue\\n$30,040\\n$26,044\\n$13,507\\nUp 15%\\nUp 122%\\nGross margin\\n 75.7 %\\n 78.9 %\\n 71.2 %\\nDown 3.2 pts\\nUp 4.5 pts\\nOperating expenses\\n$2,792\\n$2,501\\n$1,838\\nUp 12%\\nUp 52%\\nOperating income\\n$19,937\\n$18,059\\n$7,776\\nUp 10%\\nUp 156%\\nNet income\\n$16,952\\n$15,238\\n$6,740\\nUp 11%\\nUp 152%\\nDiluted earnings per share\\n$0.68\\n$0.61\\n$0.27\\nUp 11%\\nUp 152%\\nRevenue by Reportable Segments\\n($ in millions)\\nQ2 FY25\\nQ1 FY25\\nQ2 FY24\\nQ/Q\\nY/Y\\nCompute & Networking\\n$26,446\\n$22,675\\n$10,402\\nUp 17%\\nUp 154%\\nGraphics\\n3,594\\n3,369\\n3,105\\nUp 7%\\nUp 16%\\nTotal\\n$30,040\\n$26,044\\n$13,507\\nUp 15%\\nUp 122%\\nRevenue by Market Platform\\n($ in millions)\\nQ2 FY25\\nQ1 FY25\\nQ2 FY24\\nQ/Q\\nY/Y\\nData Center\\n$26,272\\n$22,563\\n$10,323\\nUp 16%\\nUp 154%\\nCompute\\n22,604\\n19,392\\n8,612\\nUp 17%\\nUp 162%\\nNetworking\\n3,668\\n3,171\\n1,711\\nUp 16%\\nUp 114%\\nGaming\\n2,880\\n2,647\\n2,486\\nUp 9%\\nUp 16%\\nProfessional Visualization\\n454\\n427\\n379\\nUp 6%\\nUp 20%\\nAutomotive\\n346\\n329\\n253\\nUp 5%\\nUp 37%\\nOEM and Other\\n88\\n78\\n66\\nUp 13%\\nUp 33%\\nTotal\\n$30,040\\n$26,044\\n$13,507\\nUp 15%\\nUp 122%\\n', mimetype='text/plain', start_char_idx=None, end_char_idx=None, text_template='{metadata_str}\\n\\n{content}', metadata_template='{key}: {value}', metadata_seperator='\\n'),\n",
       " Document(id_='e7d20acd-2d02-471b-88e4-8a23b9169190', embedding=None, metadata={'total_pages': 8, 'file_path': 'data/nvidia-commentary.pdf', 'source': '2'}, excluded_embed_metadata_keys=[], excluded_llm_metadata_keys=[], relationships={}, text='We specialize in markets where our computing platforms can provide tremendous acceleration for \\napplications. These platforms incorporate processors, interconnects, software, algorithms, systems \\nand services to deliver unique value. Our platforms address four large markets where our expertise is \\ncritical: Data Center, Gaming, Professional Visualization, and Automotive.\\nOn June 7, 2024, we completed a 10-for-1 forward stock split. All share and per share amounts \\npresented have been retroactively adjusted to reflect the stock split.\\nRevenue\\nRevenue was a record $30.0 billion, up 122% from a year ago and up 15% sequentially.\\nData Center revenue was a record, up 154% from a year ago and up 16% sequentially. The strong \\nsequential and year-on-year growth was driven by demand for our Hopper GPU computing platform \\nfor training and inferencing of large language models, recommendation engines, and generative AI \\napplications. Sequential growth was driven by consumer internet and enterprise companies.  Cloud \\nservice providers represented roughly 45% of our Data Center revenue, and more than 50% stemmed \\nfrom consumer internet and enterprise companies.  Strong year-on-year growth was driven by all \\ncustomer types from both compute and networking revenue. Customers continue to accelerate their \\nHopper architecture purchases while gearing up to adopt Blackwell. Data Center compute revenue \\nwas $22.6 billion, up 162% from a year ago and up 17% sequentially. Networking revenue was $3.7 \\nbillion, up 114% from a year ago driven by InfiniBand and Ethernet for AI revenue, which includes \\nSpectrum-X end-to-end ethernet platform. Networking revenue sequentially was up 16% and \\nincludes a doubling of Ethernet for AI revenue.\\nWe shipped customer samples of our Blackwell architecture in the second quarter. We executed a \\nchange to the Blackwell GPU mask to improve production yield. Blackwell production ramp is \\nscheduled to begin in the fourth quarter and continue into fiscal 2026.  In the fourth quarter, we \\nexpect to ship several billion dollars in Blackwell revenue. Hopper demand is strong, and shipments \\nare expected to increase in the second half of fiscal 2025.\\nGaming revenue was up 16% from a year ago and up 9% sequentially. These increases reflect higher \\nsales of our GeForce RTX 40 Series GPUs and game console SOCs. We had solid demand in the \\nsecond quarter for our gaming GPUs as part of the back-to-school season.\\nProfessional Visualization revenue was up 20% from a year ago and up 6% sequentially. These \\nincreases were driven by the continued ramp of RTX GPU workstations based on our Ada \\narchitecture.\\nAutomotive revenue was up 37% from a year ago and up 5% sequentially. These increases were \\ndriven by AI Cockpit solutions and self-driving platforms.\\nGross Margin\\nGAAP and non-GAAP gross margins increased from a year ago on strong Data Center revenue growth \\nprimarily driven by our Hopper GPU computing platform. Sequentially, gross margins decreased \\nprimarily driven by inventory provisions for low-yielding Blackwell material and a higher mix of new \\nproducts within Data Center.\\nExpenses\\nGAAP operating expenses were up 48% from a year ago and up 12% sequentially, and non-GAAP \\noperating expenses were up 52% from a year ago and up 12% sequentially. These increases were \\nlargely driven by compensation and benefits, reflecting growth in employees and compensation.\\n', mimetype='text/plain', start_char_idx=None, end_char_idx=None, text_template='{metadata_str}\\n\\n{content}', metadata_template='{key}: {value}', metadata_seperator='\\n'),\n",
       " Document(id_='881da1e8-2681-456d-a47b-ec82894111a0', embedding=None, metadata={'total_pages': 8, 'file_path': 'data/nvidia-commentary.pdf', 'source': '3'}, excluded_embed_metadata_keys=[], excluded_llm_metadata_keys=[], relationships={}, text='Other Income & Expense and Income Tax\\nGAAP other income and expense (OI&E) includes interest income, interest expense, gains and losses \\nfrom non-affiliated investments and publicly-held equity securities. Non-GAAP OI&E primarily \\nexcludes the gains or losses from non-affiliated investments and publicly-held equity securities.\\nInterest income was $444 million, up from a year ago and sequentially, primarily reflecting higher \\ncash balances. Net realized and unrealized gains from non-affiliated investments and publicly-held \\nequity securities were $193 million, reflecting fair value adjustments.\\nGAAP effective tax rate was 13.6%, an increase from a year ago reflecting the lower effect of tax \\nbenefits from the foreign derived intangible income deduction relative to the increase in pre-tax \\nincome.  Non-GAAP effective tax rate was 16.6%.\\nBalance Sheet and Cash Flow\\nCash, cash equivalents and marketable securities were $34.8 billion, up from $16.0 billion a year ago \\nand $31.4 billion a quarter ago. The increases primarily reflect higher revenue partially offset by \\nhigher cash taxes, stock repurchases and repayment of $1.25 billion of our notes at maturity.\\nAccounts receivable was $14.1 billion with 43 days sales outstanding (DSO). Accounts receivable \\nreflects $2.8 billion of customer payments received prior to next quarter’s invoice due date.\\nInventory was $6.7 billion with 81 days sales of inventory (DSI). Purchase commitments and \\nobligations for inventory and manufacturing capacity were $27.8 billion, including new commitments \\nfor Blackwell capacity and components. Prepaid supply agreements were $4.7 billion.\\nOther non-inventory purchase obligations were $12.0 billion, including $9.8 billion of multi-year cloud \\nservice agreements. We expect cloud service agreements to be used to support our research and \\ndevelopment efforts and our DGX Cloud offerings.\\nCash flow from operating activities was $14.5 billion, up from $6.3 billion a year ago and down from \\n$15.3 billion a quarter ago. The year-on-year increase reflects higher revenue partially offset by \\nhigher cash taxes paid. The sequential decrease reflects cash taxes paid partially offset by higher \\nrevenue.\\nWe utilized cash of $7.4 billion towards shareholder returns, including $7.2 billion in share \\nrepurchases and $246 million in cash dividends.  Our dividend increased by 150% to one cent per \\nshare in the second quarter.\\nOn August 26, 2024, our Board of Directors approved an additional $50.0 billion to our share \\nrepurchase authorization, without expiration.\\nThird Quarter of Fiscal 2025 Outlook\\nOutlook for the third quarter of fiscal 2025 is as follows:\\n•\\nRevenue is expected to be $32.5 billion, plus or minus 2%.\\n•\\nGAAP and non-GAAP gross margins are expected to be 74.4% and 75.0%, respectively, plus or \\nminus 50 basis points. For the full year, gross margins are expected to be in the mid-70% \\nrange.\\n•\\nGAAP and non-GAAP operating expenses are expected to be approximately $4.3 billion and \\n$3.0 billion, respectively. Full-year operating expenses are expected to grow in the mid to \\nupper 40% range.\\n', mimetype='text/plain', start_char_idx=None, end_char_idx=None, text_template='{metadata_str}\\n\\n{content}', metadata_template='{key}: {value}', metadata_seperator='\\n'),\n",
       " Document(id_='6c21f6cb-227d-430d-9191-04e2b0f84b6a', embedding=None, metadata={'total_pages': 8, 'file_path': 'data/nvidia-commentary.pdf', 'source': '4'}, excluded_embed_metadata_keys=[], excluded_llm_metadata_keys=[], relationships={}, text=\"•\\nGAAP and non-GAAP other income and expense are expected to be an income of \\napproximately $350 million, excluding gains and losses from non-affiliated investments and \\npublicly-held equity securities.\\n•\\nGAAP and non-GAAP tax rates are expected to be 17%, plus or minus 1%, excluding any \\ndiscrete items.\\n___________________________\\nFor further information, contact:\\nStewart Stecker\\nMylene Mangalindan\\nInvestor Relations\\nCorporate Communications\\nNVIDIA Corporation\\nNVIDIA Corporation\\nsstecker@nvidia.com\\nmmangalindan@nvidia.com\\nNon-GAAP Measures\\nTo supplement NVIDIA’s condensed consolidated financial statements presented in accordance with \\nGAAP, the company uses non-GAAP measures of certain components of financial performance. \\nThese non-GAAP measures include non-GAAP gross profit, non-GAAP gross margin, non-GAAP \\noperating expenses, non-GAAP income from operations, non-GAAP other income (expense), net, non-\\nGAAP net income, non-GAAP net income, or earnings, per diluted share, and free cash flow. In order \\nfor NVIDIA’s investors to be better able to compare its current results with those of previous periods, \\nthe company has shown a reconciliation of GAAP to non-GAAP financial measures. These \\nreconciliations adjust the related GAAP financial measures to exclude stock-based compensation \\nexpense, acquisition-related and other costs, other, gains from non-affiliated investments and \\npublicly-held equity securities, net, interest expense related to amortization of debt discount, and the \\nassociated tax impact of these items where applicable. Free cash flow is calculated as GAAP net cash \\nprovided by operating activities less both purchases related to property and equipment and \\nintangible assets and principal payments on property and equipment and intangible assets. NVIDIA \\nbelieves the presentation of its non-GAAP financial measures enhances the user's overall \\nunderstanding of the company’s historical financial performance. The presentation of the company’s \\nnon-GAAP financial measures is not meant to be considered in isolation or as a substitute for the \\ncompany’s financial results prepared in accordance with GAAP, and the company’s non-GAAP \\nmeasures may be different from non-GAAP measures used by other companies.\\nCertain statements in this CFO Commentary including, but not limited to, statements as to: our computing platforms \\nproviding tremendous acceleration for applications and delivering unique value; markets where our expertise is critical; \\ncustomers continuing to accelerate their Hopper architecture purchases while gearing up to adopt Blackwell; the Blackwell \\nGPU mask change improving production yield; Blackwell production ramp and revenue timing; expected Blackwell revenue; \\nHopper demand being strong and expected increase in shipments in the second half of fiscal 2025; cloud service \\nagreements being used to support our research and development efforts and our DGX Cloud offerings; our expected full-\\nyear gross margins and operating expenses; and our financial outlook and expected tax rates for the third quarter of fiscal \\n2025 are forward-looking statements that are subject to risks and uncertainties that could cause results to be materially \\ndifferent than expectations. Important factors that could cause actual results to differ materially include: global economic \\nconditions; our reliance on third parties to manufacture, assemble, package and test our products; the impact of \\ntechnological development and competition; development of new products and technologies or enhancements to our \\nexisting product and technologies; market acceptance of our products or our partners’ products; design, manufacturing or \\nsoftware defects; changes in consumer preferences or demands; changes in industry standards and interfaces; and \\nunexpected loss of performance of our products or technologies when integrated into systems; as well as other factors \\ndetailed from time to time in the most recent reports NVIDIA files with the Securities and Exchange Commission, or SEC, \\nincluding, but not limited to, its annual report on Form 10-K and quarterly reports on Form 10-Q. Copies of reports filed with \\nthe SEC are posted on the company’s website and are available from NVIDIA without charge. These forward-looking \\nstatements are not guarantees of future performance and speak only as of the date hereof, and, except as required by law, \\nNVIDIA disclaims any obligation to update these forward-looking statements to reflect future events or circumstances.\\n\", mimetype='text/plain', start_char_idx=None, end_char_idx=None, text_template='{metadata_str}\\n\\n{content}', metadata_template='{key}: {value}', metadata_seperator='\\n'),\n",
       " Document(id_='d3f87c32-b818-4f6d-8c24-176879d2c33d', embedding=None, metadata={'total_pages': 8, 'file_path': 'data/nvidia-commentary.pdf', 'source': '5'}, excluded_embed_metadata_keys=[], excluded_llm_metadata_keys=[], relationships={}, text='# # #\\n© 2024 NVIDIA Corporation. All rights reserved. NVIDIA and the NVIDIA logo are trademarks and/or registered trademarks \\nof NVIDIA Corporation in the U.S. and/or other countries. Other company and product names may be trademarks of the \\nrespective companies with which they are associated. Features, pricing, availability, and specifications are subject to change \\nwithout notice.\\n', mimetype='text/plain', start_char_idx=None, end_char_idx=None, text_template='{metadata_str}\\n\\n{content}', metadata_template='{key}: {value}', metadata_seperator='\\n'),\n",
       " Document(id_='280f94ad-c320-4ed6-a2af-0603afea97e5', embedding=None, metadata={'total_pages': 8, 'file_path': 'data/nvidia-commentary.pdf', 'source': '6'}, excluded_embed_metadata_keys=[], excluded_llm_metadata_keys=[], relationships={}, text='NVIDIA CORPORATION\\nRECONCILIATION OF GAAP TO NON-GAAP FINANCIAL MEASURES\\n (In millions, except per share data) \\n (Unaudited) \\n\\xa0\\nThree Months Ended\\nSix Months Ended\\n\\xa0\\nJuly 28,\\nApril 28,\\nJuly 30,\\nJuly 28,\\nJuly 30,\\n2024\\n2024\\n2023\\n2024\\n2023\\nGAAP gross profit\\n$ 22,574 \\n$ \\n20,406 \\n$ \\n9,462 \\n$ 42,979 \\n$ 14,110 \\n  GAAP gross margin\\n 75.1 %\\n 78.4 %\\n 70.1 %\\n 76.6 %\\n 68.2 %\\nAcquisition-related and other \\ncosts (A)\\n \\n118 \\n \\n119 \\n \\n119 \\n \\n238 \\n \\n239 \\nStock-based compensation \\nexpense (B)\\n \\n40 \\n \\n36 \\n \\n31 \\n \\n75 \\n \\n58 \\nOther (C)\\n \\n(3) \\n \\n(1) \\n \\n2 \\n \\n(4) \\n \\n10 \\nNon-GAAP gross profit\\n$ 22,729 \\n$ \\n20,560 \\n$ \\n9,614 \\n$ 43,288 \\n$ 14,417 \\n  Non-GAAP gross margin\\n 75.7 %\\n 78.9 %\\n 71.2 %\\n 77.2 %\\n 69.7 %\\nGAAP operating expenses\\n$ \\n3,932 \\n$ \\n3,497 \\n$ \\n2,662 \\n$ \\n7,428 \\n$ \\n5,169 \\nStock-based compensation \\nexpense (B)\\n \\n(1,114) \\n \\n(975) \\n \\n(811) \\n \\n(2,089) \\n \\n(1,518) \\nAcquisition-related and other \\ncosts (A)\\n \\n(26) \\n \\n(21) \\n \\n(18) \\n \\n(48) \\n \\n(72) \\nOther (C) \\n \\n— \\n \\n— \\n \\n5 \\n \\n— \\n \\n10 \\nNon-GAAP operating expenses\\n$ \\n2,792 \\n$ \\n2,501 \\n$ \\n1,838 \\n$ \\n5,291 \\n$ \\n3,589 \\nGAAP operating income\\n$ 18,642 \\n$ \\n16,909 \\n$ \\n6,800 \\n$ 35,551 \\n$ \\n8,941 \\nTotal impact of non-GAAP \\nadjustments to operating income\\n \\n1,295 \\n \\n1,150 \\n \\n976 \\n \\n2,446 \\n \\n1,887 \\nNon-GAAP operating income\\n$ 19,937 \\n$ \\n18,059 \\n$ \\n7,776 \\n$ 37,997 \\n$ 10,828 \\nGAAP other income (expense), net\\n$ \\n572 \\n$ \\n370 \\n$ \\n181 \\n$ \\n942 \\n$ \\n249 \\nGains from non-affiliated \\ninvestments and publicly-held \\nequity securities, net\\n \\n(193) \\n \\n(69) \\n \\n(62) \\n \\n(264) \\n \\n(46) \\nInterest expense related to \\namortization of debt discount\\n \\n1 \\n \\n1 \\n \\n1 \\n \\n2 \\n \\n2 \\nNon-GAAP other income (expense), \\nnet\\n$ \\n380 \\n$ \\n302 \\n$ \\n120 \\n$ \\n680 \\n$ \\n205 \\nGAAP net income\\n$ 16,599 \\n$ \\n14,881 \\n$ \\n6,188 \\n$ 31,480 \\n$ \\n8,232 \\nTotal pre-tax impact of non-GAAP \\nadjustments\\n \\n1,103 \\n \\n1,082 \\n \\n915 \\n \\n2,184 \\n \\n1,843 \\nIncome tax impact of non-GAAP \\nadjustments (D)\\n \\n(750) \\n \\n(725) \\n \\n(363) \\n \\n(1,475) \\n \\n(622) \\nNon-GAAP net income \\n$ 16,952 \\n$ \\n15,238 \\n$ \\n6,740 \\n$ 32,189 \\n$ \\n9,453 \\n', mimetype='text/plain', start_char_idx=None, end_char_idx=None, text_template='{metadata_str}\\n\\n{content}', metadata_template='{key}: {value}', metadata_seperator='\\n'),\n",
       " Document(id_='113cde56-ec14-4c55-a5bd-311157b95b0e', embedding=None, metadata={'total_pages': 8, 'file_path': 'data/nvidia-commentary.pdf', 'source': '7'}, excluded_embed_metadata_keys=[], excluded_llm_metadata_keys=[], relationships={}, text='Three Months Ended\\nSix Months Ended\\nJuly 28,\\nApril 28,\\nJuly 30,\\nJuly 28,\\nJuly 30,\\n2024\\n2024\\n2023\\n2024\\n2023\\nDiluted net income per share\\nGAAP\\n$ \\n0.67 \\n$ \\n0.60 \\n$ \\n0.25 \\n$ \\n1.27 \\n$ \\n0.33 \\nNon-GAAP \\n$ \\n0.68 \\n$ \\n0.61 \\n$ \\n0.27 \\n$ \\n1.29 \\n$ \\n0.38 \\nWeighted average shares used in \\ndiluted net income per share \\ncomputation\\n \\n24,848 \\n \\n24,890 \\n \\n24,994 \\n \\n24,869 \\n \\n24,948 \\nGAAP net cash provided by \\noperating activities\\n$ \\n14,489 \\n$ \\n15,345 \\n$ \\n6,348 \\n$ \\n29,833 \\n$ \\n9,259 \\nPurchases related to property \\nand equipment and intangible \\nassets\\n \\n(977)  \\n(369)  \\n(289)  \\n(1,346)  \\n(537) \\nPrincipal payments on \\nproperty and equipment and \\nintangible assets\\n \\n(29)  \\n(40)  \\n(11)  \\n(69)  \\n(31) \\nFree cash flow\\n$ \\n13,483 \\n$ \\n14,936 \\n$ \\n6,048 \\n$ \\n28,418 \\n$ \\n8,691 \\n(A) Acquisition-related and other costs are comprised of amortization of intangible assets, transaction costs, \\nand certain compensation charges and are included in the following line items:\\nThree Months Ended\\nSix Months Ended\\n\\xa0\\nJuly 28,\\nApril 28,\\nJuly 30,\\nJuly 28,\\nJuly 30,\\n2024\\n2024\\n2023\\n2024\\n2023\\nCost of revenue\\n$ \\n118 $ \\n119 $ \\n119 $ \\n238 $ \\n239 \\nResearch and development\\n$ \\n17 $ \\n12 $ \\n12 $ \\n30 $ \\n24 \\nSales, general and \\nadministrative\\n$ \\n9 $ \\n8 $ \\n6 $ \\n18 $ \\n48 \\n(B) Stock-based compensation consists of the following:\\nThree Months Ended\\nSix Months Ended\\nJuly 28,\\nApril 28,\\nJuly 30,\\nJuly 28,\\nJuly 30,\\n2024\\n2024\\n2023\\n2024\\n2023\\nCost of revenue\\n$ \\n40 $ \\n36 $ \\n31 $ \\n75 $ \\n58 \\nResearch and development\\n$ \\n832 $ \\n727 $ \\n600 $ \\n1,559 $ \\n1,124 \\nSales, general and \\nadministrative\\n$ \\n282 $ \\n248 $ \\n211 $ \\n530 $ \\n394 \\n(C) Other consists of IP-related costs and assets held for sale related adjustments.\\n(D) Income tax impact of non-GAAP adjustments, including the recognition of excess tax benefits or \\ndeficiencies related to stock-based compensation under GAAP accounting standard (ASU 2016-09).\\n', mimetype='text/plain', start_char_idx=None, end_char_idx=None, text_template='{metadata_str}\\n\\n{content}', metadata_template='{key}: {value}', metadata_seperator='\\n'),\n",
       " Document(id_='1146916e-b258-48f6-8b51-efdf7a2f02d1', embedding=None, metadata={'total_pages': 8, 'file_path': 'data/nvidia-commentary.pdf', 'source': '8'}, excluded_embed_metadata_keys=[], excluded_llm_metadata_keys=[], relationships={}, text='NVIDIA CORPORATION\\nRECONCILIATION OF GAAP TO NON-GAAP OUTLOOK\\nQ3 FY2025\\nOutlook\\n($ in millions)\\nGAAP gross margin\\n 74.4 %\\nImpact of stock-based compensation expense, acquisition-related costs, and other \\ncosts\\n 0.6 %\\nNon-GAAP gross margin\\n 75.0 %\\nGAAP operating expenses\\n$ \\n4,250 \\nStock-based compensation expense, acquisition-related costs, and other costs\\n \\n(1,250) \\nNon-GAAP operating expenses\\n$ \\n3,000 \\n', mimetype='text/plain', start_char_idx=None, end_char_idx=None, text_template='{metadata_str}\\n\\n{content}', metadata_template='{key}: {value}', metadata_seperator='\\n')]"
      ]
     },
     "execution_count": 3,
     "metadata": {},
     "output_type": "execute_result"
    }
   ],
   "source": [
    "documents"
   ]
  },
  {
   "cell_type": "markdown",
   "metadata": {
    "slideshow": {
     "slide_type": "slide"
    }
   },
   "source": [
    "We see that we get a list of `Document` objects. Let's take a look at the first document."
   ]
  },
  {
   "cell_type": "code",
   "execution_count": 3,
   "metadata": {
    "slideshow": {
     "slide_type": "slide"
    }
   },
   "outputs": [
    {
     "data": {
      "text/html": [
       "<pre style=\"white-space:pre;overflow-x:auto;line-height:normal;font-family:Menlo,'DejaVu Sans Mono',consolas,'Courier New',monospace\"><span style=\"color: #800080; text-decoration-color: #800080; font-weight: bold\">Document</span><span style=\"font-weight: bold\">(</span>\n",
       "<span style=\"color: #7fbf7f; text-decoration-color: #7fbf7f\">│   </span><span style=\"color: #808000; text-decoration-color: #808000\">id_</span>=<span style=\"color: #008000; text-decoration-color: #008000\">'2bd9d17e-1467-4377-8fab-8651150b1d35'</span>,\n",
       "<span style=\"color: #7fbf7f; text-decoration-color: #7fbf7f\">│   </span><span style=\"color: #808000; text-decoration-color: #808000\">embedding</span>=<span style=\"color: #800080; text-decoration-color: #800080; font-style: italic\">None</span>,\n",
       "<span style=\"color: #7fbf7f; text-decoration-color: #7fbf7f\">│   </span><span style=\"color: #808000; text-decoration-color: #808000\">metadata</span>=<span style=\"font-weight: bold\">{</span><span style=\"color: #008000; text-decoration-color: #008000\">'total_pages'</span>: <span style=\"color: #008080; text-decoration-color: #008080; font-weight: bold\">8</span>, <span style=\"color: #008000; text-decoration-color: #008000\">'file_path'</span>: <span style=\"color: #008000; text-decoration-color: #008000\">'data/nvidia-commentary.pdf'</span>, <span style=\"color: #008000; text-decoration-color: #008000\">'source'</span>: <span style=\"color: #008000; text-decoration-color: #008000\">'1'</span><span style=\"font-weight: bold\">}</span>,\n",
       "<span style=\"color: #7fbf7f; text-decoration-color: #7fbf7f\">│   </span><span style=\"color: #808000; text-decoration-color: #808000\">excluded_embed_metadata_keys</span>=<span style=\"font-weight: bold\">[]</span>,\n",
       "<span style=\"color: #7fbf7f; text-decoration-color: #7fbf7f\">│   </span><span style=\"color: #808000; text-decoration-color: #808000\">excluded_llm_metadata_keys</span>=<span style=\"font-weight: bold\">[]</span>,\n",
       "<span style=\"color: #7fbf7f; text-decoration-color: #7fbf7f\">│   </span><span style=\"color: #808000; text-decoration-color: #808000\">relationships</span>=<span style=\"font-weight: bold\">{}</span>,\n",
       "<span style=\"color: #7fbf7f; text-decoration-color: #7fbf7f\">│   </span><span style=\"color: #808000; text-decoration-color: #808000\">metadata_template</span>=<span style=\"color: #008000; text-decoration-color: #008000\">'{key}: {value}'</span>,\n",
       "<span style=\"color: #7fbf7f; text-decoration-color: #7fbf7f\">│   </span><span style=\"color: #808000; text-decoration-color: #808000\">metadata_separator</span>=<span style=\"color: #008000; text-decoration-color: #008000\">'\\n'</span>,\n",
       "<span style=\"color: #7fbf7f; text-decoration-color: #7fbf7f\">│   </span><span style=\"color: #808000; text-decoration-color: #808000\">text_resource</span>=<span style=\"color: #800080; text-decoration-color: #800080; font-weight: bold\">MediaResource</span><span style=\"font-weight: bold\">(</span>\n",
       "<span style=\"color: #7fbf7f; text-decoration-color: #7fbf7f\">│   │   </span><span style=\"color: #808000; text-decoration-color: #808000\">embeddings</span>=<span style=\"color: #800080; text-decoration-color: #800080; font-style: italic\">None</span>,\n",
       "<span style=\"color: #7fbf7f; text-decoration-color: #7fbf7f\">│   │   </span><span style=\"color: #808000; text-decoration-color: #808000\">data</span>=<span style=\"color: #800080; text-decoration-color: #800080; font-style: italic\">None</span>,\n",
       "<span style=\"color: #7fbf7f; text-decoration-color: #7fbf7f\">│   │   </span><span style=\"color: #808000; text-decoration-color: #808000\">text</span>=<span style=\"color: #008000; text-decoration-color: #008000\">' \\n \\n \\n \\n \\n \\n \\n                 \\nCFO Commentary on Second Quarter Fiscal 2025 Results\\nQ2 Fiscal 2025 Summary\\nGAAP\\n($ in millions, except earnings per \\nshare)\\nQ2 FY25\\nQ1 FY25\\nQ2 FY24\\nQ/Q\\nY/Y\\nRevenue\\n$30,040\\n$26,044\\n$13,507\\nUp 15%\\nUp 122%\\nGross margin\\n 75.1 %\\n 78.4 %\\n 70.1 %\\nDown 3.3 pts\\nUp 5.0 pts\\nOperating expenses\\n$3,932\\n$3,497\\n$2,662\\nUp 12%\\nUp 48%\\nOperating income\\n$18,642\\n$16,909\\n$6,800\\nUp 10%\\nUp 174%\\nNet income\\n$16,599\\n$14,881\\n$6,188\\nUp 12%\\nUp 168%\\nDiluted earnings per share\\n$0.67\\n$0.60\\n$0.25\\nUp 12%\\nUp 168%\\nNon-GAAP\\n($ in millions, except earnings per \\nshare)\\nQ2 FY25\\nQ1 FY25\\nQ2 FY24\\nQ/Q\\nY/Y\\nRevenue\\n$30,040\\n$26,044\\n$13,507\\nUp 15%\\nUp 122%\\nGross margin\\n 75.7 %\\n 78.9 %\\n 71.2 %\\nDown 3.2 pts\\nUp 4.5 pts\\nOperating expenses\\n$2,792\\n$2,501\\n$1,838\\nUp 12%\\nUp 52%\\nOperating income\\n$19,937\\n$18,059\\n$7,776\\nUp 10%\\nUp 156%\\nNet income\\n$16,952\\n$15,238\\n$6,740\\nUp 11%\\nUp 152%\\nDiluted earnings per share\\n$0.68\\n$0.61\\n$0.27\\nUp 11%\\nUp 152%\\nRevenue by Reportable Segments\\n($ in millions)\\nQ2 FY25\\nQ1 FY25\\nQ2 FY24\\nQ/Q\\nY/Y\\nCompute &amp; Networking\\n$26,446\\n$22,675\\n$10,402\\nUp 17%\\nUp 154%\\nGraphics\\n3,594\\n3,369\\n3,105\\nUp 7%\\nUp 16%\\nTotal\\n$30,040\\n$26,044\\n$13,507\\nUp 15%\\nUp 122%\\nRevenue by Market Platform\\n($ in millions)\\nQ2 FY25\\nQ1 FY25\\nQ2 FY24\\nQ/Q\\nY/Y\\nData Center\\n$26,272\\n$22,563\\n$10,323\\nUp 16%\\nUp 154%\\nCompute\\n22,604\\n19,392\\n8,612\\nUp 17%\\nUp 162%\\nNetworking\\n3,668\\n3,171\\n1,711\\nUp 16%\\nUp 114%\\nGaming\\n2,880\\n2,647\\n2,486\\nUp 9%\\nUp 16%\\nProfessional Visualization\\n454\\n427\\n379\\nUp 6%\\nUp 20%\\nAutomotive\\n346\\n329\\n253\\nUp 5%\\nUp 37%\\nOEM and Other\\n88\\n78\\n66\\nUp 13%\\nUp 33%\\nTotal\\n$30,040\\n$26,044\\n$13,507\\nUp 15%\\nUp 122%\\n'</span>,\n",
       "<span style=\"color: #7fbf7f; text-decoration-color: #7fbf7f\">│   │   </span><span style=\"color: #808000; text-decoration-color: #808000\">path</span>=<span style=\"color: #800080; text-decoration-color: #800080; font-style: italic\">None</span>,\n",
       "<span style=\"color: #7fbf7f; text-decoration-color: #7fbf7f\">│   │   </span><span style=\"color: #808000; text-decoration-color: #808000\">url</span>=<span style=\"color: #800080; text-decoration-color: #800080; font-style: italic\">None</span>,\n",
       "<span style=\"color: #7fbf7f; text-decoration-color: #7fbf7f\">│   │   </span><span style=\"color: #808000; text-decoration-color: #808000\">mimetype</span>=<span style=\"color: #800080; text-decoration-color: #800080; font-style: italic\">None</span>\n",
       "<span style=\"color: #7fbf7f; text-decoration-color: #7fbf7f\">│   </span><span style=\"font-weight: bold\">)</span>,\n",
       "<span style=\"color: #7fbf7f; text-decoration-color: #7fbf7f\">│   </span><span style=\"color: #808000; text-decoration-color: #808000\">image_resource</span>=<span style=\"color: #800080; text-decoration-color: #800080; font-style: italic\">None</span>,\n",
       "<span style=\"color: #7fbf7f; text-decoration-color: #7fbf7f\">│   </span><span style=\"color: #808000; text-decoration-color: #808000\">audio_resource</span>=<span style=\"color: #800080; text-decoration-color: #800080; font-style: italic\">None</span>,\n",
       "<span style=\"color: #7fbf7f; text-decoration-color: #7fbf7f\">│   </span><span style=\"color: #808000; text-decoration-color: #808000\">video_resource</span>=<span style=\"color: #800080; text-decoration-color: #800080; font-style: italic\">None</span>,\n",
       "<span style=\"color: #7fbf7f; text-decoration-color: #7fbf7f\">│   </span><span style=\"color: #808000; text-decoration-color: #808000\">text_template</span>=<span style=\"color: #008000; text-decoration-color: #008000\">'{metadata_str}\\n\\n{content}'</span>\n",
       "<span style=\"font-weight: bold\">)</span>\n",
       "</pre>\n"
      ],
      "text/plain": [
       "\u001b[1;35mDocument\u001b[0m\u001b[1m(\u001b[0m\n",
       "\u001b[2;32m│   \u001b[0m\u001b[33mid_\u001b[0m=\u001b[32m'2bd9d17e-1467-4377-8fab-8651150b1d35'\u001b[0m,\n",
       "\u001b[2;32m│   \u001b[0m\u001b[33membedding\u001b[0m=\u001b[3;35mNone\u001b[0m,\n",
       "\u001b[2;32m│   \u001b[0m\u001b[33mmetadata\u001b[0m=\u001b[1m{\u001b[0m\u001b[32m'total_pages'\u001b[0m: \u001b[1;36m8\u001b[0m, \u001b[32m'file_path'\u001b[0m: \u001b[32m'data/nvidia-commentary.pdf'\u001b[0m, \u001b[32m'source'\u001b[0m: \u001b[32m'1'\u001b[0m\u001b[1m}\u001b[0m,\n",
       "\u001b[2;32m│   \u001b[0m\u001b[33mexcluded_embed_metadata_keys\u001b[0m=\u001b[1m[\u001b[0m\u001b[1m]\u001b[0m,\n",
       "\u001b[2;32m│   \u001b[0m\u001b[33mexcluded_llm_metadata_keys\u001b[0m=\u001b[1m[\u001b[0m\u001b[1m]\u001b[0m,\n",
       "\u001b[2;32m│   \u001b[0m\u001b[33mrelationships\u001b[0m=\u001b[1m{\u001b[0m\u001b[1m}\u001b[0m,\n",
       "\u001b[2;32m│   \u001b[0m\u001b[33mmetadata_template\u001b[0m=\u001b[32m'\u001b[0m\u001b[32m{\u001b[0m\u001b[32mkey\u001b[0m\u001b[32m}\u001b[0m\u001b[32m: \u001b[0m\u001b[32m{\u001b[0m\u001b[32mvalue\u001b[0m\u001b[32m}\u001b[0m\u001b[32m'\u001b[0m,\n",
       "\u001b[2;32m│   \u001b[0m\u001b[33mmetadata_separator\u001b[0m=\u001b[32m'\\n'\u001b[0m,\n",
       "\u001b[2;32m│   \u001b[0m\u001b[33mtext_resource\u001b[0m=\u001b[1;35mMediaResource\u001b[0m\u001b[1m(\u001b[0m\n",
       "\u001b[2;32m│   │   \u001b[0m\u001b[33membeddings\u001b[0m=\u001b[3;35mNone\u001b[0m,\n",
       "\u001b[2;32m│   │   \u001b[0m\u001b[33mdata\u001b[0m=\u001b[3;35mNone\u001b[0m,\n",
       "\u001b[2;32m│   │   \u001b[0m\u001b[33mtext\u001b[0m=\u001b[32m' \\n \\n \\n \\n \\n \\n \\n                 \\nCFO Commentary on Second Quarter Fiscal 2025 Results\\nQ2 Fiscal 2025 Summary\\nGAAP\\n\u001b[0m\u001b[32m(\u001b[0m\u001b[32m$ in millions, except earnings per \\nshare\u001b[0m\u001b[32m)\u001b[0m\u001b[32m\\nQ2 FY25\\nQ1 FY25\\nQ2 FY24\\nQ/Q\\nY/Y\\nRevenue\\n$30,040\\n$26,044\\n$13,507\\nUp 15%\\nUp 122%\\nGross margin\\n 75.1 %\\n 78.4 %\\n 70.1 %\\nDown 3.3 pts\\nUp 5.0 pts\\nOperating expenses\\n$3,932\\n$3,497\\n$2,662\\nUp 12%\\nUp 48%\\nOperating income\\n$18,642\\n$16,909\\n$6,800\\nUp 10%\\nUp 174%\\nNet income\\n$16,599\\n$14,881\\n$6,188\\nUp 12%\\nUp 168%\\nDiluted earnings per share\\n$0.67\\n$0.60\\n$0.25\\nUp 12%\\nUp 168%\\nNon-GAAP\\n\u001b[0m\u001b[32m(\u001b[0m\u001b[32m$ in millions, except earnings per \\nshare\u001b[0m\u001b[32m)\u001b[0m\u001b[32m\\nQ2 FY25\\nQ1 FY25\\nQ2 FY24\\nQ/Q\\nY/Y\\nRevenue\\n$30,040\\n$26,044\\n$13,507\\nUp 15%\\nUp 122%\\nGross margin\\n 75.7 %\\n 78.9 %\\n 71.2 %\\nDown 3.2 pts\\nUp 4.5 pts\\nOperating expenses\\n$2,792\\n$2,501\\n$1,838\\nUp 12%\\nUp 52%\\nOperating income\\n$19,937\\n$18,059\\n$7,776\\nUp 10%\\nUp 156%\\nNet income\\n$16,952\\n$15,238\\n$6,740\\nUp 11%\\nUp 152%\\nDiluted earnings per share\\n$0.68\\n$0.61\\n$0.27\\nUp 11%\\nUp 152%\\nRevenue by Reportable Segments\\n\u001b[0m\u001b[32m(\u001b[0m\u001b[32m$ in millions\u001b[0m\u001b[32m)\u001b[0m\u001b[32m\\nQ2 FY25\\nQ1 FY25\\nQ2 FY24\\nQ/Q\\nY/Y\\nCompute & Networking\\n$26,446\\n$22,675\\n$10,402\\nUp 17%\\nUp 154%\\nGraphics\\n3,594\\n3,369\\n3,105\\nUp 7%\\nUp 16%\\nTotal\\n$30,040\\n$26,044\\n$13,507\\nUp 15%\\nUp 122%\\nRevenue by Market Platform\\n\u001b[0m\u001b[32m(\u001b[0m\u001b[32m$ in millions\u001b[0m\u001b[32m)\u001b[0m\u001b[32m\\nQ2 FY25\\nQ1 FY25\\nQ2 FY24\\nQ/Q\\nY/Y\\nData Center\\n$26,272\\n$22,563\\n$10,323\\nUp 16%\\nUp 154%\\nCompute\\n22,604\\n19,392\\n8,612\\nUp 17%\\nUp 162%\\nNetworking\\n3,668\\n3,171\\n1,711\\nUp 16%\\nUp 114%\\nGaming\\n2,880\\n2,647\\n2,486\\nUp 9%\\nUp 16%\\nProfessional Visualization\\n454\\n427\\n379\\nUp 6%\\nUp 20%\\nAutomotive\\n346\\n329\\n253\\nUp 5%\\nUp 37%\\nOEM and Other\\n88\\n78\\n66\\nUp 13%\\nUp 33%\\nTotal\\n$30,040\\n$26,044\\n$13,507\\nUp 15%\\nUp 122%\\n'\u001b[0m,\n",
       "\u001b[2;32m│   │   \u001b[0m\u001b[33mpath\u001b[0m=\u001b[3;35mNone\u001b[0m,\n",
       "\u001b[2;32m│   │   \u001b[0m\u001b[33murl\u001b[0m=\u001b[3;35mNone\u001b[0m,\n",
       "\u001b[2;32m│   │   \u001b[0m\u001b[33mmimetype\u001b[0m=\u001b[3;35mNone\u001b[0m\n",
       "\u001b[2;32m│   \u001b[0m\u001b[1m)\u001b[0m,\n",
       "\u001b[2;32m│   \u001b[0m\u001b[33mimage_resource\u001b[0m=\u001b[3;35mNone\u001b[0m,\n",
       "\u001b[2;32m│   \u001b[0m\u001b[33maudio_resource\u001b[0m=\u001b[3;35mNone\u001b[0m,\n",
       "\u001b[2;32m│   \u001b[0m\u001b[33mvideo_resource\u001b[0m=\u001b[3;35mNone\u001b[0m,\n",
       "\u001b[2;32m│   \u001b[0m\u001b[33mtext_template\u001b[0m=\u001b[32m'\u001b[0m\u001b[32m{\u001b[0m\u001b[32mmetadata_str\u001b[0m\u001b[32m}\u001b[0m\u001b[32m\\n\\n\u001b[0m\u001b[32m{\u001b[0m\u001b[32mcontent\u001b[0m\u001b[32m}\u001b[0m\u001b[32m'\u001b[0m\n",
       "\u001b[1m)\u001b[0m\n"
      ]
     },
     "metadata": {},
     "output_type": "display_data"
    }
   ],
   "source": [
    "pprint(documents[0])"
   ]
  },
  {
   "cell_type": "markdown",
   "metadata": {
    "slideshow": {
     "slide_type": "slide"
    }
   },
   "source": [
    "Each document has (among other things):\n",
    "\n",
    "- A unique identifier `id_`\n",
    "- An `embedding`, if indeed it was embedded\n",
    "- Some `metadata` indicating things like:\n",
    "    - Number of pages\n",
    "    - File path\n",
    "- The `text` itself"
   ]
  },
  {
   "cell_type": "code",
   "execution_count": 4,
   "metadata": {
    "slideshow": {
     "slide_type": "slide"
    }
   },
   "outputs": [
    {
     "name": "stdout",
     "output_type": "stream",
     "text": [
      "We specialize in markets where our computing platforms can provide tremendous acceleration for \n",
      "applications. These platforms incorporate processors, interconnects, software, algorithms, systems \n",
      "and services to deliver unique value. Our platforms address four large markets where our expertise is \n",
      "critical: Data Center, Gaming, Professional Visualization, and Automotive.\n",
      "On June 7, 2024, we completed a 10-for-1 forward stock split. All share and per share amounts \n",
      "presented have been retroactively adjusted to reflect the stock split.\n",
      "Revenue\n",
      "Revenue was a record $30.0 billion, up 122% from a year ago and up 15% sequentially.\n",
      "Data Center revenue was a record, up 154% from a year ago and up 16% sequentially. The strong \n",
      "sequential and year-on-year growth was driven by demand for our Hopper GPU computing platform \n",
      "for training and inferencing of large language models, recommendation engines, and generative AI \n",
      "applications. Sequential growth was driven by consumer internet and enterprise companies.  Cloud \n",
      "service providers represented roughly 45% of our Data Center revenue, and more than 50% stemmed \n",
      "from consumer internet and enterprise companies.  Strong year-on-year growth was driven by all \n",
      "customer types from both compute and networking revenue. Customers continue to accelerate their \n",
      "Hopper architecture purchases while gearing up to adopt Blackwell. Data Center compute revenue \n",
      "was $22.6 billion, up 162% from a year ago and up 17% sequentially. Networking revenue was $3.7 \n",
      "billion, up 114% from a year ago driven by InfiniBand and Ethernet for AI revenue, which includes \n",
      "Spectrum-X end-to-end ethernet platform. Networking revenue sequentially was up 16% and \n",
      "includes a doubling of Ethernet for AI revenue.\n",
      "We shipped customer samples of our Blackwell architecture in the second quarter. We executed a \n",
      "change to the Blackwell GPU mask to improve production yield. Blackwell production ramp is \n",
      "scheduled to begin in the fourth quarter and continue into fiscal 2026.  In the fourth quarter, we \n",
      "expect to ship several billion dollars in Blackwell revenue. Hopper demand is strong, and shipments \n",
      "are expected to increase in the second half of fiscal 2025.\n",
      "Gaming revenue was up 16% from a year ago and up 9% sequentially. These increases reflect higher \n",
      "sales of our GeForce RTX 40 Series GPUs and game console SOCs. We had solid demand in the \n",
      "second quarter for our gaming GPUs as part of the back-to-school season.\n",
      "Professional Visualization revenue was up 20% from a year ago and up 6% sequentially. These \n",
      "increases were driven by the continued ramp of RTX GPU workstations based on our Ada \n",
      "architecture.\n",
      "Automotive revenue was up 37% from a year ago and up 5% sequentially. These increases were \n",
      "driven by AI Cockpit solutions and self-driving platforms.\n",
      "Gross Margin\n",
      "GAAP and non-GAAP gross margins increased from a year ago on strong Data Center revenue growth \n",
      "primarily driven by our Hopper GPU computing platform. Sequentially, gross margins decreased \n",
      "primarily driven by inventory provisions for low-yielding Blackwell material and a higher mix of new \n",
      "products within Data Center.\n",
      "Expenses\n",
      "GAAP operating expenses were up 48% from a year ago and up 12% sequentially, and non-GAAP \n",
      "operating expenses were up 52% from a year ago and up 12% sequentially. These increases were \n",
      "largely driven by compensation and benefits, reflecting growth in employees and compensation.\n"
     ]
    }
   ],
   "source": [
    "print(documents[1].text)"
   ]
  },
  {
   "cell_type": "markdown",
   "metadata": {
    "slideshow": {
     "slide_type": "slide"
    }
   },
   "source": [
    "We first break the document up into multiple sections. The first section is the table on the first page. The second section is the CFO commentary on pages 2-4. Finally, all the financial information in the last section."
   ]
  },
  {
   "cell_type": "code",
   "execution_count": 5,
   "metadata": {
    "slideshow": {
     "slide_type": "slide"
    }
   },
   "outputs": [],
   "source": [
    "summary_table = documents[0].text\n",
    "text = documents[1:3]\n",
    "table_text = documents[5:]\n",
    "\n",
    "cfo_summary = \"\"\n",
    "financials = \"\"\n",
    "\n",
    "for doc in text:\n",
    "    cfo_summary += doc.text\n",
    "\n",
    "for table in table_text:\n",
    "    financials += table.text"
   ]
  },
  {
   "cell_type": "markdown",
   "metadata": {
    "slideshow": {
     "slide_type": "slide"
    }
   },
   "source": [
    "## CFO Commentary\n",
    "Probably the most naive way of giving an LLM extra information is to simply stuff it all into the model context. This technique is perhaps unsurprisingly called \"stuffing\"!\n",
    "\n",
    "We want to extract some key figures and information from the document:\n",
    "\n",
    "- Revenue\n",
    "- Accounts receivable\n",
    "- Cash and securities\n",
    "- Inventory\n",
    "- Dividends\n",
    "- General outlook (a short paragraph about the future outlook)\n",
    "\n",
    "Here is the jinja template:"
   ]
  },
  {
   "cell_type": "markdown",
   "metadata": {
    "slideshow": {
     "slide_type": "slide"
    }
   },
   "source": [
    "---\n",
    "```jinja\n",
    "You are an expert at extracting information from financial documents. You will be shown a commentary on Quarter Fiscal results. You will extract the following information:\n",
    "\n",
    "- Revenue\n",
    "- Accounts receivable\n",
    "- Cash and securities\n",
    "- Inventory\n",
    "- Dividends\n",
    "- General outlook\n",
    "\n",
    "If the information is given in terms of billions of dollars, you will convert it to an interger value. For example, if the value is given as 1.5 billion, you will convert it to 1500000000.\n",
    "\n",
    "Provide the information in JSON format.\n",
    "\n",
    "Here is the schema:\n",
    "\n",
    "{{ schema }}\n",
    "\n",
    "```\n",
    "---"
   ]
  },
  {
   "cell_type": "markdown",
   "metadata": {
    "slideshow": {
     "slide_type": "slide"
    }
   },
   "source": [
    "### Pydantic Object\n",
    "We create a pydantic object to parse the JSON output."
   ]
  },
  {
   "cell_type": "code",
   "execution_count": 6,
   "metadata": {
    "slideshow": {
     "slide_type": "slide"
    }
   },
   "outputs": [],
   "source": [
    "class Commentary(BaseModel):\n",
    "    revenue: int = Field(0, description=\"Revenue\")\n",
    "    accounts_receivable: int = Field(0, description=\"Accounts Receivable\")\n",
    "    cash_and_securities: int = Field(0, description=\"Cash and Securities\")\n",
    "    inventory: int = Field(0, description=\"Inventory\")\n",
    "    dividends: int = Field(0, description=\"Dividends\")\n",
    "    general_outlook: str = Field(\"unknown\", description=\"General Outlook\")\n"
   ]
  },
  {
   "cell_type": "code",
   "execution_count": 7,
   "metadata": {
    "slideshow": {
     "slide_type": "slide"
    }
   },
   "outputs": [
    {
     "data": {
      "text/html": [
       "<pre style=\"white-space:pre;overflow-x:auto;line-height:normal;font-family:Menlo,'DejaVu Sans Mono',consolas,'Courier New',monospace\"><span style=\"color: #800080; text-decoration-color: #800080; font-weight: bold\">Commentary</span><span style=\"font-weight: bold\">(</span>\n",
       "<span style=\"color: #7fbf7f; text-decoration-color: #7fbf7f\">│   </span><span style=\"color: #808000; text-decoration-color: #808000\">revenue</span>=<span style=\"color: #008080; text-decoration-color: #008080; font-weight: bold\">0</span>,\n",
       "<span style=\"color: #7fbf7f; text-decoration-color: #7fbf7f\">│   </span><span style=\"color: #808000; text-decoration-color: #808000\">accounts_receivable</span>=<span style=\"color: #008080; text-decoration-color: #008080; font-weight: bold\">0</span>,\n",
       "<span style=\"color: #7fbf7f; text-decoration-color: #7fbf7f\">│   </span><span style=\"color: #808000; text-decoration-color: #808000\">cash_and_securities</span>=<span style=\"color: #008080; text-decoration-color: #008080; font-weight: bold\">0</span>,\n",
       "<span style=\"color: #7fbf7f; text-decoration-color: #7fbf7f\">│   </span><span style=\"color: #808000; text-decoration-color: #808000\">inventory</span>=<span style=\"color: #008080; text-decoration-color: #008080; font-weight: bold\">0</span>,\n",
       "<span style=\"color: #7fbf7f; text-decoration-color: #7fbf7f\">│   </span><span style=\"color: #808000; text-decoration-color: #808000\">dividends</span>=<span style=\"color: #008080; text-decoration-color: #008080; font-weight: bold\">0</span>,\n",
       "<span style=\"color: #7fbf7f; text-decoration-color: #7fbf7f\">│   </span><span style=\"color: #808000; text-decoration-color: #808000\">general_outlook</span>=<span style=\"color: #008000; text-decoration-color: #008000\">'unknown'</span>\n",
       "<span style=\"font-weight: bold\">)</span>\n",
       "</pre>\n"
      ],
      "text/plain": [
       "\u001b[1;35mCommentary\u001b[0m\u001b[1m(\u001b[0m\n",
       "\u001b[2;32m│   \u001b[0m\u001b[33mrevenue\u001b[0m=\u001b[1;36m0\u001b[0m,\n",
       "\u001b[2;32m│   \u001b[0m\u001b[33maccounts_receivable\u001b[0m=\u001b[1;36m0\u001b[0m,\n",
       "\u001b[2;32m│   \u001b[0m\u001b[33mcash_and_securities\u001b[0m=\u001b[1;36m0\u001b[0m,\n",
       "\u001b[2;32m│   \u001b[0m\u001b[33minventory\u001b[0m=\u001b[1;36m0\u001b[0m,\n",
       "\u001b[2;32m│   \u001b[0m\u001b[33mdividends\u001b[0m=\u001b[1;36m0\u001b[0m,\n",
       "\u001b[2;32m│   \u001b[0m\u001b[33mgeneral_outlook\u001b[0m=\u001b[32m'unknown'\u001b[0m\n",
       "\u001b[1m)\u001b[0m\n"
      ]
     },
     "metadata": {},
     "output_type": "display_data"
    }
   ],
   "source": [
    "commentary = Commentary()\n",
    "pprint(commentary, expand_all=True)"
   ]
  },
  {
   "cell_type": "markdown",
   "metadata": {
    "slideshow": {
     "slide_type": "slide"
    }
   },
   "source": [
    "We will use the `TemplateManager` class from the last module to render the jinja template."
   ]
  },
  {
   "cell_type": "code",
   "execution_count": 8,
   "metadata": {
    "slideshow": {
     "slide_type": "slide"
    }
   },
   "outputs": [],
   "source": [
    "template_manager = TemplateManager('./prompts')"
   ]
  },
  {
   "cell_type": "code",
   "execution_count": 9,
   "metadata": {
    "slideshow": {
     "slide_type": "slide"
    }
   },
   "outputs": [],
   "source": [
    "system_commentary_prompt = template_manager.render(\n",
    "    'system_commentary.jinja',\n",
    "    schema=commentary.model_json_schema()\n",
    ")"
   ]
  },
  {
   "cell_type": "code",
   "execution_count": 10,
   "metadata": {
    "slideshow": {
     "slide_type": "slide"
    }
   },
   "outputs": [
    {
     "name": "stdout",
     "output_type": "stream",
     "text": [
      "You are an expert at extracting information from financial documents. You will be shown a commentary on Quarter Fiscal results. You will extract the following information:\n",
      "\n",
      "- Revenue\n",
      "- Accounts receivable\n",
      "- Cash and securities\n",
      "- Inventory\n",
      "- Dividends\n",
      "- General outlook\n",
      "\n",
      "If the information is given in terms of billions of dollars, you will convert it to an interger value. For example, if the value is given as 1.5 billion, you will convert it to 1500000000.\n",
      "\n",
      "Provide the information in JSON format.\n",
      "\n",
      "Here is the schema:\n",
      "\n",
      "{'properties': {'revenue': {'default': 0, 'description': 'Revenue', 'title': 'Revenue', 'type': 'integer'}, 'accounts_receivable': {'default': 0, 'description': 'Accounts Receivable', 'title': 'Accounts Receivable', 'type': 'integer'}, 'cash_and_securities': {'default': 0, 'description': 'Cash and Securities', 'title': 'Cash And Securities', 'type': 'integer'}, 'inventory': {'default': 0, 'description': 'Inventory', 'title': 'Inventory', 'type': 'integer'}, 'dividends': {'default': 0, 'description': 'Dividends', 'title': 'Dividends', 'type': 'integer'}, 'general_outlook': {'default': 'unknown', 'description': 'General Outlook', 'title': 'General Outlook', 'type': 'string'}}, 'title': 'Commentary', 'type': 'object'}\n"
     ]
    }
   ],
   "source": [
    "print(system_commentary_prompt)"
   ]
  },
  {
   "cell_type": "code",
   "execution_count": null,
   "metadata": {
    "slideshow": {
     "slide_type": "slide"
    }
   },
   "outputs": [],
   "source": [
    "client = OpenAI(api_key=OPENAI_API_KEY)\n",
    "\n",
    "def generate(system: str, text: str, **kwargs) -> str:\n",
    "    response = client.chat.completions.create(\n",
    "        model=\"gpt-4o-mini\",\n",
    "        messages = [\n",
    "            {\"role\": \"system\", \"content\": system},\n",
    "            {\"role\": \"user\", \"content\": text},\n",
    "        ],\n",
    "        **kwargs\n",
    "    )\n",
    "\n",
    "    return response"
   ]
  },
  {
   "cell_type": "code",
   "execution_count": 16,
   "metadata": {
    "slideshow": {
     "slide_type": "slide"
    }
   },
   "outputs": [],
   "source": [
    "response = generate(system_commentary_prompt, cfo_summary, response_format={ \"type\": \"json_object\" }).choices[0].message.content\n",
    "\n",
    "import json\n",
    "nvidia_commentary = Commentary(**json.loads(response))"
   ]
  },
  {
   "cell_type": "code",
   "execution_count": 17,
   "metadata": {
    "slideshow": {
     "slide_type": "slide"
    }
   },
   "outputs": [
    {
     "data": {
      "text/html": [
       "<pre style=\"white-space:pre;overflow-x:auto;line-height:normal;font-family:Menlo,'DejaVu Sans Mono',consolas,'Courier New',monospace\"><span style=\"color: #800080; text-decoration-color: #800080; font-weight: bold\">Commentary</span><span style=\"font-weight: bold\">(</span>\n",
       "<span style=\"color: #7fbf7f; text-decoration-color: #7fbf7f\">│   </span><span style=\"color: #808000; text-decoration-color: #808000\">revenue</span>=<span style=\"color: #008080; text-decoration-color: #008080; font-weight: bold\">30000000000</span>,\n",
       "<span style=\"color: #7fbf7f; text-decoration-color: #7fbf7f\">│   </span><span style=\"color: #808000; text-decoration-color: #808000\">accounts_receivable</span>=<span style=\"color: #008080; text-decoration-color: #008080; font-weight: bold\">14100000000</span>,\n",
       "<span style=\"color: #7fbf7f; text-decoration-color: #7fbf7f\">│   </span><span style=\"color: #808000; text-decoration-color: #808000\">cash_and_securities</span>=<span style=\"color: #008080; text-decoration-color: #008080; font-weight: bold\">34800000000</span>,\n",
       "<span style=\"color: #7fbf7f; text-decoration-color: #7fbf7f\">│   </span><span style=\"color: #808000; text-decoration-color: #808000\">inventory</span>=<span style=\"color: #008080; text-decoration-color: #008080; font-weight: bold\">6700000000</span>,\n",
       "<span style=\"color: #7fbf7f; text-decoration-color: #7fbf7f\">│   </span><span style=\"color: #808000; text-decoration-color: #808000\">dividends</span>=<span style=\"color: #008080; text-decoration-color: #008080; font-weight: bold\">246000000</span>,\n",
       "<span style=\"color: #7fbf7f; text-decoration-color: #7fbf7f\">│   </span><span style=\"color: #808000; text-decoration-color: #808000\">general_outlook</span>=<span style=\"color: #008000; text-decoration-color: #008000\">'Revenue is expected to be $32.5 billion, plus or minus 2%. GAAP and non-GAAP gross margins are expected to be 74.4% and 75.0%, respectively, plus or minus 50 basis points. For the full year, gross margins are expected to be in the mid-70% range. GAAP and non-GAAP operating expenses are expected to be approximately $4.3 billion and $3.0 billion, respectively. Full-year operating expenses are expected to grow in the mid to upper 40% range.'</span>\n",
       "<span style=\"font-weight: bold\">)</span>\n",
       "</pre>\n"
      ],
      "text/plain": [
       "\u001b[1;35mCommentary\u001b[0m\u001b[1m(\u001b[0m\n",
       "\u001b[2;32m│   \u001b[0m\u001b[33mrevenue\u001b[0m=\u001b[1;36m30000000000\u001b[0m,\n",
       "\u001b[2;32m│   \u001b[0m\u001b[33maccounts_receivable\u001b[0m=\u001b[1;36m14100000000\u001b[0m,\n",
       "\u001b[2;32m│   \u001b[0m\u001b[33mcash_and_securities\u001b[0m=\u001b[1;36m34800000000\u001b[0m,\n",
       "\u001b[2;32m│   \u001b[0m\u001b[33minventory\u001b[0m=\u001b[1;36m6700000000\u001b[0m,\n",
       "\u001b[2;32m│   \u001b[0m\u001b[33mdividends\u001b[0m=\u001b[1;36m246000000\u001b[0m,\n",
       "\u001b[2;32m│   \u001b[0m\u001b[33mgeneral_outlook\u001b[0m=\u001b[32m'Revenue is expected to be $32.5 billion, plus or minus 2%. GAAP and non-GAAP gross margins are expected to be 74.4% and 75.0%, respectively, plus or minus 50 basis points. For the full year, gross margins are expected to be in the mid-70% range. GAAP and non-GAAP operating expenses are expected to be approximately $4.3 billion and $3.0 billion, respectively. Full-year operating expenses are expected to grow in the mid to upper 40% range.'\u001b[0m\n",
       "\u001b[1m)\u001b[0m\n"
      ]
     },
     "metadata": {},
     "output_type": "display_data"
    }
   ],
   "source": [
    "pprint(nvidia_commentary)"
   ]
  },
  {
   "cell_type": "markdown",
   "metadata": {
    "slideshow": {
     "slide_type": "slide"
    }
   },
   "source": [
    "OK, so this is impressive. But it's relatively straight forward to extract this information from the document. Let's try something a little tougher..."
   ]
  },
  {
   "cell_type": "markdown",
   "metadata": {
    "slideshow": {
     "slide_type": "slide"
    }
   },
   "source": [
    "## Summary table\n",
    "The first page of the document contains a table with a summary financial information. Let's see if we can extract the information from the table into a markdown format. We write a prompt specifically aimed at extracting this information."
   ]
  },
  {
   "cell_type": "markdown",
   "metadata": {
    "slideshow": {
     "slide_type": "slide"
    }
   },
   "source": [
    "---\n",
    "```jinja\n",
    "You are an expert in extracting financial tables from unstructured text. You will be given a table in a pdf document and you need to output the extracted data in Markdown format.\n",
    "```\n",
    "---"
   ]
  },
  {
   "cell_type": "code",
   "execution_count": 18,
   "metadata": {
    "slideshow": {
     "slide_type": "slide"
    }
   },
   "outputs": [
    {
     "name": "stdout",
     "output_type": "stream",
     "text": [
      "You are an expert in extracting financial tables from unstructured text. You will be given a table in a pdf document and you need to output the extracted data in Markdown format.\n"
     ]
    }
   ],
   "source": [
    "system_table_prompt = template_manager.render(\n",
    "    'system_table.jinja'\n",
    ")\n",
    "\n",
    "print(system_table_prompt)"
   ]
  },
  {
   "cell_type": "markdown",
   "metadata": {
    "slideshow": {
     "slide_type": "slide"
    }
   },
   "source": [
    "We set the temperature low to avoid any \"creativity\"."
   ]
  },
  {
   "cell_type": "code",
   "execution_count": 19,
   "metadata": {
    "slideshow": {
     "slide_type": "slide"
    }
   },
   "outputs": [],
   "source": [
    "response = generate(system_table_prompt, summary_table, temperature=0.0)"
   ]
  },
  {
   "cell_type": "code",
   "execution_count": 20,
   "metadata": {
    "slideshow": {
     "slide_type": "slide"
    }
   },
   "outputs": [
    {
     "name": "stdout",
     "output_type": "stream",
     "text": [
      "## Q2 Fiscal 2025 Summary\n",
      "\n",
      "### GAAP\n",
      "| ($ in millions, except earnings per share) | Q2 FY25 | Q1 FY25 | Q2 FY24 | Q/Q   | Y/Y   |\n",
      "|--------------------------------------------|---------|---------|---------|-------|-------|\n",
      "| Revenue                                    | $30,040 | $26,044 | $13,507 | Up 15%| Up 122%|\n",
      "| Gross margin                               | 75.1 %  | 78.4 %  | 70.1 %  | Down 3.3 pts | Up 5.0 pts |\n",
      "| Operating expenses                         | $3,932  | $3,497  | $2,662  | Up 12%| Up 48% |\n",
      "| Operating income                           | $18,642 | $16,909 | $6,800  | Up 10%| Up 174%|\n",
      "| Net income                                 | $16,599 | $14,881 | $6,188  | Up 12%| Up 168%|\n",
      "| Diluted earnings per share                 | $0.67   | $0.60   | $0.25   | Up 12%| Up 168%|\n",
      "\n",
      "### Non-GAAP\n",
      "| ($ in millions, except earnings per share) | Q2 FY25 | Q1 FY25 | Q2 FY24 | Q/Q   | Y/Y   |\n",
      "|--------------------------------------------|---------|---------|---------|-------|-------|\n",
      "| Revenue                                    | $30,040 | $26,044 | $13,507 | Up 15%| Up 122%|\n",
      "| Gross margin                               | 75.7 %  | 78.9 %  | 71.2 %  | Down 3.2 pts | Up 4.5 pts |\n",
      "| Operating expenses                         | $2,792  | $2,501  | $1,838  | Up 12%| Up 52% |\n",
      "| Operating income                           | $19,937 | $18,059 | $7,776  | Up 10%| Up 156%|\n",
      "| Net income                                 | $16,952 | $15,238 | $6,740  | Up 11%| Up 152%|\n",
      "| Diluted earnings per share                 | $0.68   | $0.61   | $0.27   | Up 11%| Up 152%|\n",
      "\n",
      "## Revenue by Reportable Segments\n",
      "| ($ in millions)        | Q2 FY25 | Q1 FY25 | Q2 FY24 | Q/Q   | Y/Y   |\n",
      "|------------------------|---------|---------|---------|-------|-------|\n",
      "| Compute & Networking   | $26,446 | $22,675 | $10,402 | Up 17%| Up 154%|\n",
      "| Graphics               | $3,594  | $3,369  | $3,105  | Up 7% | Up 16% |\n",
      "| Total                  | $30,040 | $26,044 | $13,507 | Up 15%| Up 122%|\n",
      "\n",
      "## Revenue by Market Platform\n",
      "| ($ in millions)            | Q2 FY25 | Q1 FY25 | Q2 FY24 | Q/Q   | Y/Y   |\n",
      "|----------------------------|---------|---------|---------|-------|-------|\n",
      "| Data Center                | $26,272 | $22,563 | $10,323 | Up 16%| Up 154%|\n",
      "| Compute                    | $22,604 | $19,392 | $8,612  | Up 17%| Up 162%|\n",
      "| Networking                 | $3,668  | $3,171  | $1,711  | Up 16%| Up 114%|\n",
      "| Gaming                     | $2,880  | $2,647  | $2,486  | Up 9% | Up 16% |\n",
      "| Professional Visualization | $454    | $427    | $379    | Up 6% | Up 20% |\n",
      "| Automotive                 | $346    | $329    | $253    | Up 5% | Up 37% |\n",
      "| OEM and Other              | $88     | $78     | $66     | Up 13%| Up 33% |\n",
      "| Total                      | $30,040 | $26,044 | $13,507 | Up 15%| Up 122%|\n"
     ]
    }
   ],
   "source": [
    "print(response.choices[0].message.content)"
   ]
  },
  {
   "cell_type": "markdown",
   "metadata": {
    "slideshow": {
     "slide_type": "slide"
    }
   },
   "source": [
    "Let's put this into a markdown cell."
   ]
  },
  {
   "cell_type": "markdown",
   "metadata": {
    "slideshow": {
     "slide_type": "slide"
    }
   },
   "source": [
    "## CFO Commentary on Second Quarter Fiscal 2025 Results\n",
    "\n",
    "### Q2 Fiscal 2025 Summary\n",
    "\n",
    "#### GAAP\n",
    "| ($ in millions, except earnings per share) | Q2 FY25 | Q1 FY25 | Q2 FY24 | Q/Q   | Y/Y   |\n",
    "|--------------------------------------------|---------|---------|---------|-------|-------|\n",
    "| Revenue                                    | $30,040 | $26,044 | $13,507 | Up 15%| Up 122%|\n",
    "| Gross margin                               | 75.1 %  | 78.4 %  | 70.1 %  | Down 3.3 pts | Up 5.0 pts |\n",
    "| Operating expenses                         | $3,932  | $3,497  | $2,662  | Up 12%| Up 48% |\n",
    "| Operating income                           | $18,642 | $16,909 | $6,800  | Up 10%| Up 174%|\n",
    "| Net income                                 | $16,599 | $14,881 | $6,188  | Up 12%| Up 168%|\n",
    "| Diluted earnings per share                 | $0.67   | $0.60   | $0.25   | Up 12%| Up 168%|\n",
    "\n",
    "#### Non-GAAP\n",
    "| ($ in millions, except earnings per share) | Q2 FY25 | Q1 FY25 | Q2 FY24 | Q/Q   | Y/Y   |\n",
    "|--------------------------------------------|---------|---------|---------|-------|-------|\n",
    "| Revenue                                    | $30,040 | $26,044 | $13,507 | Up 15%| Up 122%|\n",
    "| Gross margin                               | 75.7 %  | 78.9 %  | 71.2 %  | Down 3.2 pts | Up 4.5 pts |\n",
    "| Operating expenses                         | $2,792  | $2,501  | $1,838  | Up 12%| Up 52% |\n",
    "| Operating income                           | $19,937 | $18,059 | $7,776  | Up 10%| Up 156%|\n",
    "| Net income                                 | $16,952 | $15,238 | $6,740  | Up 11%| Up 152%|\n",
    "| Diluted earnings per share                 | $0.68   | $0.61   | $0.27   | Up 11%| Up 152%|\n",
    "\n",
    "### Revenue by Reportable Segments\n",
    "| ($ in millions)        | Q2 FY25 | Q1 FY25 | Q2 FY24 | Q/Q   | Y/Y   |\n",
    "|------------------------|---------|---------|---------|-------|-------|\n",
    "| Compute & Networking   | $26,446 | $22,675 | $10,402 | Up 17%| Up 154%|\n",
    "| Graphics               | $3,594  | $3,369  | $3,105  | Up 7% | Up 16% |\n",
    "| Total                  | $30,040 | $26,044 | $13,507 | Up 15%| Up 122%|\n",
    "\n",
    "### Revenue by Market Platform\n",
    "| ($ in millions)            | Q2 FY25 | Q1 FY25 | Q2 FY24 | Q/Q   | Y/Y   |\n",
    "|----------------------------|---------|---------|---------|-------|-------|\n",
    "| Data Center                | $26,272 | $22,563 | $10,323 | Up 16%| Up 154%|\n",
    "| Compute                    | $22,604 | $19,392 | $8,612  | Up 17%| Up 162%|\n",
    "| Networking                 | $3,668  | $3,171  | $1,711  | Up 16%| Up 114%|\n",
    "| Gaming                     | $2,880  | $2,647  | $2,486  | Up 9% | Up 16% |\n",
    "| Professional Visualization | $454    | $427    | $379    | Up 6% | Up 20% |\n",
    "| Automotive                 | $346    | $329    | $253    | Up 5% | Up 37% |\n",
    "| OEM and Other              | $88     | $78     | $66     | Up 13%| Up 33% |\n",
    "| Total                      | $30,040 | $26,044 | $13,507 | Up 15%| Up 122%|\n"
   ]
  },
  {
   "cell_type": "markdown",
   "metadata": {
    "slideshow": {
     "slide_type": "slide"
    }
   },
   "source": [
    "Compare this to the pdf version and see if there are any discrepancies. You'll probably find that this works really quite well. What would be really useful is if the model could convert this information into a more structured format."
   ]
  },
  {
   "cell_type": "code",
   "execution_count": 21,
   "metadata": {
    "slideshow": {
     "slide_type": "slide"
    }
   },
   "outputs": [
    {
     "name": "stdout",
     "output_type": "stream",
     "text": [
      "You are an expert at converting markdown into JSON. You will be shown a markdown file with a table. You will then convert the table into the appropriate JSON format.\n",
      "\n",
      "Remove all the markdown syntax. Remove all '$' and '%' and 'pts' symbols, and include them in the key instead. For example \"Q/Q\" : \"10%\" should be \"Q/Q (%)\": 10.\n",
      "\n",
      "If a value is 'Up x' then the value should be positive, and if a value is 'Down x', then the value should negative. Any numerical values should be convertable to floats.\n",
      "\n",
      "Provide the output in valid JSON format.\n"
     ]
    }
   ],
   "source": [
    "system_json_prompt = template_manager.render(\n",
    "    'json_prompt.jinja', force_reload=True\n",
    ")\n",
    "\n",
    "print(system_json_prompt)"
   ]
  },
  {
   "cell_type": "code",
   "execution_count": null,
   "metadata": {
    "slideshow": {
     "slide_type": "slide"
    }
   },
   "outputs": [],
   "source": [
    "json_response = generate(system_json_prompt, response.choices[0].message.content, response_format={ \"type\": \"json_object\" }).choices[0].message.content"
   ]
  },
  {
   "cell_type": "code",
   "execution_count": 40,
   "metadata": {
    "slideshow": {
     "slide_type": "slide"
    }
   },
   "outputs": [],
   "source": [
    "# dump the json response to a file\n",
    "with open('data/nvidia_commentary.json', 'w') as f:\n",
    "    json.dump(json.loads(json_response), f)"
   ]
  },
  {
   "cell_type": "code",
   "execution_count": 39,
   "metadata": {
    "slideshow": {
     "slide_type": "slide"
    }
   },
   "outputs": [
    {
     "data": {
      "text/html": [
       "<pre style=\"white-space:pre;overflow-x:auto;line-height:normal;font-family:Menlo,'DejaVu Sans Mono',consolas,'Courier New',monospace\"><span style=\"font-weight: bold\">{</span>\n",
       "<span style=\"color: #7fbf7f; text-decoration-color: #7fbf7f\">│   </span><span style=\"color: #008000; text-decoration-color: #008000\">'GAAP'</span>: <span style=\"font-weight: bold\">[</span>\n",
       "<span style=\"color: #7fbf7f; text-decoration-color: #7fbf7f\">│   │   </span><span style=\"font-weight: bold\">{</span>\n",
       "<span style=\"color: #7fbf7f; text-decoration-color: #7fbf7f\">│   │   │   </span><span style=\"color: #008000; text-decoration-color: #008000\">'Description'</span>: <span style=\"color: #008000; text-decoration-color: #008000\">'Revenue'</span>,\n",
       "<span style=\"color: #7fbf7f; text-decoration-color: #7fbf7f\">│   │   │   </span><span style=\"color: #008000; text-decoration-color: #008000\">'Q2 FY25'</span>: <span style=\"color: #008080; text-decoration-color: #008080; font-weight: bold\">30040</span>,\n",
       "<span style=\"color: #7fbf7f; text-decoration-color: #7fbf7f\">│   │   │   </span><span style=\"color: #008000; text-decoration-color: #008000\">'Q1 FY25'</span>: <span style=\"color: #008080; text-decoration-color: #008080; font-weight: bold\">26044</span>,\n",
       "<span style=\"color: #7fbf7f; text-decoration-color: #7fbf7f\">│   │   │   </span><span style=\"color: #008000; text-decoration-color: #008000\">'Q2 FY24'</span>: <span style=\"color: #008080; text-decoration-color: #008080; font-weight: bold\">13507</span>,\n",
       "<span style=\"color: #7fbf7f; text-decoration-color: #7fbf7f\">│   │   │   </span><span style=\"color: #008000; text-decoration-color: #008000\">'Q/Q (%)'</span>: <span style=\"color: #008080; text-decoration-color: #008080; font-weight: bold\">15</span>,\n",
       "<span style=\"color: #7fbf7f; text-decoration-color: #7fbf7f\">│   │   │   </span><span style=\"color: #008000; text-decoration-color: #008000\">'Y/Y (%)'</span>: <span style=\"color: #008080; text-decoration-color: #008080; font-weight: bold\">122</span>\n",
       "<span style=\"color: #7fbf7f; text-decoration-color: #7fbf7f\">│   │   </span><span style=\"font-weight: bold\">}</span>,\n",
       "<span style=\"color: #7fbf7f; text-decoration-color: #7fbf7f\">│   │   </span><span style=\"font-weight: bold\">{</span>\n",
       "<span style=\"color: #7fbf7f; text-decoration-color: #7fbf7f\">│   │   │   </span><span style=\"color: #008000; text-decoration-color: #008000\">'Description'</span>: <span style=\"color: #008000; text-decoration-color: #008000\">'Gross margin (%)'</span>,\n",
       "<span style=\"color: #7fbf7f; text-decoration-color: #7fbf7f\">│   │   │   </span><span style=\"color: #008000; text-decoration-color: #008000\">'Q2 FY25'</span>: <span style=\"color: #008080; text-decoration-color: #008080; font-weight: bold\">75.1</span>,\n",
       "<span style=\"color: #7fbf7f; text-decoration-color: #7fbf7f\">│   │   │   </span><span style=\"color: #008000; text-decoration-color: #008000\">'Q1 FY25'</span>: <span style=\"color: #008080; text-decoration-color: #008080; font-weight: bold\">78.4</span>,\n",
       "<span style=\"color: #7fbf7f; text-decoration-color: #7fbf7f\">│   │   │   </span><span style=\"color: #008000; text-decoration-color: #008000\">'Q2 FY24'</span>: <span style=\"color: #008080; text-decoration-color: #008080; font-weight: bold\">70.1</span>,\n",
       "<span style=\"color: #7fbf7f; text-decoration-color: #7fbf7f\">│   │   │   </span><span style=\"color: #008000; text-decoration-color: #008000\">'Q/Q (pts)'</span>: <span style=\"color: #008080; text-decoration-color: #008080; font-weight: bold\">-3.3</span>,\n",
       "<span style=\"color: #7fbf7f; text-decoration-color: #7fbf7f\">│   │   │   </span><span style=\"color: #008000; text-decoration-color: #008000\">'Y/Y (pts)'</span>: <span style=\"color: #008080; text-decoration-color: #008080; font-weight: bold\">5.0</span>\n",
       "<span style=\"color: #7fbf7f; text-decoration-color: #7fbf7f\">│   │   </span><span style=\"font-weight: bold\">}</span>,\n",
       "<span style=\"color: #7fbf7f; text-decoration-color: #7fbf7f\">│   │   </span><span style=\"font-weight: bold\">{</span>\n",
       "<span style=\"color: #7fbf7f; text-decoration-color: #7fbf7f\">│   │   │   </span><span style=\"color: #008000; text-decoration-color: #008000\">'Description'</span>: <span style=\"color: #008000; text-decoration-color: #008000\">'Operating expenses'</span>,\n",
       "<span style=\"color: #7fbf7f; text-decoration-color: #7fbf7f\">│   │   │   </span><span style=\"color: #008000; text-decoration-color: #008000\">'Q2 FY25'</span>: <span style=\"color: #008080; text-decoration-color: #008080; font-weight: bold\">3932</span>,\n",
       "<span style=\"color: #7fbf7f; text-decoration-color: #7fbf7f\">│   │   │   </span><span style=\"color: #008000; text-decoration-color: #008000\">'Q1 FY25'</span>: <span style=\"color: #008080; text-decoration-color: #008080; font-weight: bold\">3497</span>,\n",
       "<span style=\"color: #7fbf7f; text-decoration-color: #7fbf7f\">│   │   │   </span><span style=\"color: #008000; text-decoration-color: #008000\">'Q2 FY24'</span>: <span style=\"color: #008080; text-decoration-color: #008080; font-weight: bold\">2662</span>,\n",
       "<span style=\"color: #7fbf7f; text-decoration-color: #7fbf7f\">│   │   │   </span><span style=\"color: #008000; text-decoration-color: #008000\">'Q/Q (%)'</span>: <span style=\"color: #008080; text-decoration-color: #008080; font-weight: bold\">12</span>,\n",
       "<span style=\"color: #7fbf7f; text-decoration-color: #7fbf7f\">│   │   │   </span><span style=\"color: #008000; text-decoration-color: #008000\">'Y/Y (%)'</span>: <span style=\"color: #008080; text-decoration-color: #008080; font-weight: bold\">48</span>\n",
       "<span style=\"color: #7fbf7f; text-decoration-color: #7fbf7f\">│   │   </span><span style=\"font-weight: bold\">}</span>,\n",
       "<span style=\"color: #7fbf7f; text-decoration-color: #7fbf7f\">│   │   </span><span style=\"font-weight: bold\">{</span>\n",
       "<span style=\"color: #7fbf7f; text-decoration-color: #7fbf7f\">│   │   │   </span><span style=\"color: #008000; text-decoration-color: #008000\">'Description'</span>: <span style=\"color: #008000; text-decoration-color: #008000\">'Operating income'</span>,\n",
       "<span style=\"color: #7fbf7f; text-decoration-color: #7fbf7f\">│   │   │   </span><span style=\"color: #008000; text-decoration-color: #008000\">'Q2 FY25'</span>: <span style=\"color: #008080; text-decoration-color: #008080; font-weight: bold\">18642</span>,\n",
       "<span style=\"color: #7fbf7f; text-decoration-color: #7fbf7f\">│   │   │   </span><span style=\"color: #008000; text-decoration-color: #008000\">'Q1 FY25'</span>: <span style=\"color: #008080; text-decoration-color: #008080; font-weight: bold\">16909</span>,\n",
       "<span style=\"color: #7fbf7f; text-decoration-color: #7fbf7f\">│   │   │   </span><span style=\"color: #008000; text-decoration-color: #008000\">'Q2 FY24'</span>: <span style=\"color: #008080; text-decoration-color: #008080; font-weight: bold\">6800</span>,\n",
       "<span style=\"color: #7fbf7f; text-decoration-color: #7fbf7f\">│   │   │   </span><span style=\"color: #008000; text-decoration-color: #008000\">'Q/Q (%)'</span>: <span style=\"color: #008080; text-decoration-color: #008080; font-weight: bold\">10</span>,\n",
       "<span style=\"color: #7fbf7f; text-decoration-color: #7fbf7f\">│   │   │   </span><span style=\"color: #008000; text-decoration-color: #008000\">'Y/Y (%)'</span>: <span style=\"color: #008080; text-decoration-color: #008080; font-weight: bold\">174</span>\n",
       "<span style=\"color: #7fbf7f; text-decoration-color: #7fbf7f\">│   │   </span><span style=\"font-weight: bold\">}</span>,\n",
       "<span style=\"color: #7fbf7f; text-decoration-color: #7fbf7f\">│   │   </span><span style=\"font-weight: bold\">{</span>\n",
       "<span style=\"color: #7fbf7f; text-decoration-color: #7fbf7f\">│   │   │   </span><span style=\"color: #008000; text-decoration-color: #008000\">'Description'</span>: <span style=\"color: #008000; text-decoration-color: #008000\">'Net income'</span>,\n",
       "<span style=\"color: #7fbf7f; text-decoration-color: #7fbf7f\">│   │   │   </span><span style=\"color: #008000; text-decoration-color: #008000\">'Q2 FY25'</span>: <span style=\"color: #008080; text-decoration-color: #008080; font-weight: bold\">16599</span>,\n",
       "<span style=\"color: #7fbf7f; text-decoration-color: #7fbf7f\">│   │   │   </span><span style=\"color: #008000; text-decoration-color: #008000\">'Q1 FY25'</span>: <span style=\"color: #008080; text-decoration-color: #008080; font-weight: bold\">14881</span>,\n",
       "<span style=\"color: #7fbf7f; text-decoration-color: #7fbf7f\">│   │   │   </span><span style=\"color: #008000; text-decoration-color: #008000\">'Q2 FY24'</span>: <span style=\"color: #008080; text-decoration-color: #008080; font-weight: bold\">6188</span>,\n",
       "<span style=\"color: #7fbf7f; text-decoration-color: #7fbf7f\">│   │   │   </span><span style=\"color: #008000; text-decoration-color: #008000\">'Q/Q (%)'</span>: <span style=\"color: #008080; text-decoration-color: #008080; font-weight: bold\">12</span>,\n",
       "<span style=\"color: #7fbf7f; text-decoration-color: #7fbf7f\">│   │   │   </span><span style=\"color: #008000; text-decoration-color: #008000\">'Y/Y (%)'</span>: <span style=\"color: #008080; text-decoration-color: #008080; font-weight: bold\">168</span>\n",
       "<span style=\"color: #7fbf7f; text-decoration-color: #7fbf7f\">│   │   </span><span style=\"font-weight: bold\">}</span>,\n",
       "<span style=\"color: #7fbf7f; text-decoration-color: #7fbf7f\">│   │   </span><span style=\"font-weight: bold\">{</span>\n",
       "<span style=\"color: #7fbf7f; text-decoration-color: #7fbf7f\">│   │   │   </span><span style=\"color: #008000; text-decoration-color: #008000\">'Description'</span>: <span style=\"color: #008000; text-decoration-color: #008000\">'Diluted earnings per share'</span>,\n",
       "<span style=\"color: #7fbf7f; text-decoration-color: #7fbf7f\">│   │   │   </span><span style=\"color: #008000; text-decoration-color: #008000\">'Q2 FY25'</span>: <span style=\"color: #008080; text-decoration-color: #008080; font-weight: bold\">0.67</span>,\n",
       "<span style=\"color: #7fbf7f; text-decoration-color: #7fbf7f\">│   │   │   </span><span style=\"color: #008000; text-decoration-color: #008000\">'Q1 FY25'</span>: <span style=\"color: #008080; text-decoration-color: #008080; font-weight: bold\">0.6</span>,\n",
       "<span style=\"color: #7fbf7f; text-decoration-color: #7fbf7f\">│   │   │   </span><span style=\"color: #008000; text-decoration-color: #008000\">'Q2 FY24'</span>: <span style=\"color: #008080; text-decoration-color: #008080; font-weight: bold\">0.25</span>,\n",
       "<span style=\"color: #7fbf7f; text-decoration-color: #7fbf7f\">│   │   │   </span><span style=\"color: #008000; text-decoration-color: #008000\">'Q/Q (%)'</span>: <span style=\"color: #008080; text-decoration-color: #008080; font-weight: bold\">12</span>,\n",
       "<span style=\"color: #7fbf7f; text-decoration-color: #7fbf7f\">│   │   │   </span><span style=\"color: #008000; text-decoration-color: #008000\">'Y/Y (%)'</span>: <span style=\"color: #008080; text-decoration-color: #008080; font-weight: bold\">168</span>\n",
       "<span style=\"color: #7fbf7f; text-decoration-color: #7fbf7f\">│   │   </span><span style=\"font-weight: bold\">}</span>\n",
       "<span style=\"color: #7fbf7f; text-decoration-color: #7fbf7f\">│   </span><span style=\"font-weight: bold\">]</span>,\n",
       "<span style=\"color: #7fbf7f; text-decoration-color: #7fbf7f\">│   </span><span style=\"color: #008000; text-decoration-color: #008000\">'Non-GAAP'</span>: <span style=\"font-weight: bold\">[</span>\n",
       "<span style=\"color: #7fbf7f; text-decoration-color: #7fbf7f\">│   │   </span><span style=\"font-weight: bold\">{</span>\n",
       "<span style=\"color: #7fbf7f; text-decoration-color: #7fbf7f\">│   │   │   </span><span style=\"color: #008000; text-decoration-color: #008000\">'Description'</span>: <span style=\"color: #008000; text-decoration-color: #008000\">'Revenue'</span>,\n",
       "<span style=\"color: #7fbf7f; text-decoration-color: #7fbf7f\">│   │   │   </span><span style=\"color: #008000; text-decoration-color: #008000\">'Q2 FY25'</span>: <span style=\"color: #008080; text-decoration-color: #008080; font-weight: bold\">30040</span>,\n",
       "<span style=\"color: #7fbf7f; text-decoration-color: #7fbf7f\">│   │   │   </span><span style=\"color: #008000; text-decoration-color: #008000\">'Q1 FY25'</span>: <span style=\"color: #008080; text-decoration-color: #008080; font-weight: bold\">26044</span>,\n",
       "<span style=\"color: #7fbf7f; text-decoration-color: #7fbf7f\">│   │   │   </span><span style=\"color: #008000; text-decoration-color: #008000\">'Q2 FY24'</span>: <span style=\"color: #008080; text-decoration-color: #008080; font-weight: bold\">13507</span>,\n",
       "<span style=\"color: #7fbf7f; text-decoration-color: #7fbf7f\">│   │   │   </span><span style=\"color: #008000; text-decoration-color: #008000\">'Q/Q (%)'</span>: <span style=\"color: #008080; text-decoration-color: #008080; font-weight: bold\">15</span>,\n",
       "<span style=\"color: #7fbf7f; text-decoration-color: #7fbf7f\">│   │   │   </span><span style=\"color: #008000; text-decoration-color: #008000\">'Y/Y (%)'</span>: <span style=\"color: #008080; text-decoration-color: #008080; font-weight: bold\">122</span>\n",
       "<span style=\"color: #7fbf7f; text-decoration-color: #7fbf7f\">│   │   </span><span style=\"font-weight: bold\">}</span>,\n",
       "<span style=\"color: #7fbf7f; text-decoration-color: #7fbf7f\">│   │   </span><span style=\"font-weight: bold\">{</span>\n",
       "<span style=\"color: #7fbf7f; text-decoration-color: #7fbf7f\">│   │   │   </span><span style=\"color: #008000; text-decoration-color: #008000\">'Description'</span>: <span style=\"color: #008000; text-decoration-color: #008000\">'Gross margin (%)'</span>,\n",
       "<span style=\"color: #7fbf7f; text-decoration-color: #7fbf7f\">│   │   │   </span><span style=\"color: #008000; text-decoration-color: #008000\">'Q2 FY25'</span>: <span style=\"color: #008080; text-decoration-color: #008080; font-weight: bold\">75.7</span>,\n",
       "<span style=\"color: #7fbf7f; text-decoration-color: #7fbf7f\">│   │   │   </span><span style=\"color: #008000; text-decoration-color: #008000\">'Q1 FY25'</span>: <span style=\"color: #008080; text-decoration-color: #008080; font-weight: bold\">78.9</span>,\n",
       "<span style=\"color: #7fbf7f; text-decoration-color: #7fbf7f\">│   │   │   </span><span style=\"color: #008000; text-decoration-color: #008000\">'Q2 FY24'</span>: <span style=\"color: #008080; text-decoration-color: #008080; font-weight: bold\">71.2</span>,\n",
       "<span style=\"color: #7fbf7f; text-decoration-color: #7fbf7f\">│   │   │   </span><span style=\"color: #008000; text-decoration-color: #008000\">'Q/Q (pts)'</span>: <span style=\"color: #008080; text-decoration-color: #008080; font-weight: bold\">-3.2</span>,\n",
       "<span style=\"color: #7fbf7f; text-decoration-color: #7fbf7f\">│   │   │   </span><span style=\"color: #008000; text-decoration-color: #008000\">'Y/Y (pts)'</span>: <span style=\"color: #008080; text-decoration-color: #008080; font-weight: bold\">4.5</span>\n",
       "<span style=\"color: #7fbf7f; text-decoration-color: #7fbf7f\">│   │   </span><span style=\"font-weight: bold\">}</span>,\n",
       "<span style=\"color: #7fbf7f; text-decoration-color: #7fbf7f\">│   │   </span><span style=\"font-weight: bold\">{</span>\n",
       "<span style=\"color: #7fbf7f; text-decoration-color: #7fbf7f\">│   │   │   </span><span style=\"color: #008000; text-decoration-color: #008000\">'Description'</span>: <span style=\"color: #008000; text-decoration-color: #008000\">'Operating expenses'</span>,\n",
       "<span style=\"color: #7fbf7f; text-decoration-color: #7fbf7f\">│   │   │   </span><span style=\"color: #008000; text-decoration-color: #008000\">'Q2 FY25'</span>: <span style=\"color: #008080; text-decoration-color: #008080; font-weight: bold\">2792</span>,\n",
       "<span style=\"color: #7fbf7f; text-decoration-color: #7fbf7f\">│   │   │   </span><span style=\"color: #008000; text-decoration-color: #008000\">'Q1 FY25'</span>: <span style=\"color: #008080; text-decoration-color: #008080; font-weight: bold\">2501</span>,\n",
       "<span style=\"color: #7fbf7f; text-decoration-color: #7fbf7f\">│   │   │   </span><span style=\"color: #008000; text-decoration-color: #008000\">'Q2 FY24'</span>: <span style=\"color: #008080; text-decoration-color: #008080; font-weight: bold\">1838</span>,\n",
       "<span style=\"color: #7fbf7f; text-decoration-color: #7fbf7f\">│   │   │   </span><span style=\"color: #008000; text-decoration-color: #008000\">'Q/Q (%)'</span>: <span style=\"color: #008080; text-decoration-color: #008080; font-weight: bold\">12</span>,\n",
       "<span style=\"color: #7fbf7f; text-decoration-color: #7fbf7f\">│   │   │   </span><span style=\"color: #008000; text-decoration-color: #008000\">'Y/Y (%)'</span>: <span style=\"color: #008080; text-decoration-color: #008080; font-weight: bold\">52</span>\n",
       "<span style=\"color: #7fbf7f; text-decoration-color: #7fbf7f\">│   │   </span><span style=\"font-weight: bold\">}</span>,\n",
       "<span style=\"color: #7fbf7f; text-decoration-color: #7fbf7f\">│   │   </span><span style=\"font-weight: bold\">{</span>\n",
       "<span style=\"color: #7fbf7f; text-decoration-color: #7fbf7f\">│   │   │   </span><span style=\"color: #008000; text-decoration-color: #008000\">'Description'</span>: <span style=\"color: #008000; text-decoration-color: #008000\">'Operating income'</span>,\n",
       "<span style=\"color: #7fbf7f; text-decoration-color: #7fbf7f\">│   │   │   </span><span style=\"color: #008000; text-decoration-color: #008000\">'Q2 FY25'</span>: <span style=\"color: #008080; text-decoration-color: #008080; font-weight: bold\">19937</span>,\n",
       "<span style=\"color: #7fbf7f; text-decoration-color: #7fbf7f\">│   │   │   </span><span style=\"color: #008000; text-decoration-color: #008000\">'Q1 FY25'</span>: <span style=\"color: #008080; text-decoration-color: #008080; font-weight: bold\">18059</span>,\n",
       "<span style=\"color: #7fbf7f; text-decoration-color: #7fbf7f\">│   │   │   </span><span style=\"color: #008000; text-decoration-color: #008000\">'Q2 FY24'</span>: <span style=\"color: #008080; text-decoration-color: #008080; font-weight: bold\">7776</span>,\n",
       "<span style=\"color: #7fbf7f; text-decoration-color: #7fbf7f\">│   │   │   </span><span style=\"color: #008000; text-decoration-color: #008000\">'Q/Q (%)'</span>: <span style=\"color: #008080; text-decoration-color: #008080; font-weight: bold\">10</span>,\n",
       "<span style=\"color: #7fbf7f; text-decoration-color: #7fbf7f\">│   │   │   </span><span style=\"color: #008000; text-decoration-color: #008000\">'Y/Y (%)'</span>: <span style=\"color: #008080; text-decoration-color: #008080; font-weight: bold\">156</span>\n",
       "<span style=\"color: #7fbf7f; text-decoration-color: #7fbf7f\">│   │   </span><span style=\"font-weight: bold\">}</span>,\n",
       "<span style=\"color: #7fbf7f; text-decoration-color: #7fbf7f\">│   │   </span><span style=\"font-weight: bold\">{</span>\n",
       "<span style=\"color: #7fbf7f; text-decoration-color: #7fbf7f\">│   │   │   </span><span style=\"color: #008000; text-decoration-color: #008000\">'Description'</span>: <span style=\"color: #008000; text-decoration-color: #008000\">'Net income'</span>,\n",
       "<span style=\"color: #7fbf7f; text-decoration-color: #7fbf7f\">│   │   │   </span><span style=\"color: #008000; text-decoration-color: #008000\">'Q2 FY25'</span>: <span style=\"color: #008080; text-decoration-color: #008080; font-weight: bold\">16952</span>,\n",
       "<span style=\"color: #7fbf7f; text-decoration-color: #7fbf7f\">│   │   │   </span><span style=\"color: #008000; text-decoration-color: #008000\">'Q1 FY25'</span>: <span style=\"color: #008080; text-decoration-color: #008080; font-weight: bold\">15238</span>,\n",
       "<span style=\"color: #7fbf7f; text-decoration-color: #7fbf7f\">│   │   │   </span><span style=\"color: #008000; text-decoration-color: #008000\">'Q2 FY24'</span>: <span style=\"color: #008080; text-decoration-color: #008080; font-weight: bold\">6740</span>,\n",
       "<span style=\"color: #7fbf7f; text-decoration-color: #7fbf7f\">│   │   │   </span><span style=\"color: #008000; text-decoration-color: #008000\">'Q/Q (%)'</span>: <span style=\"color: #008080; text-decoration-color: #008080; font-weight: bold\">11</span>,\n",
       "<span style=\"color: #7fbf7f; text-decoration-color: #7fbf7f\">│   │   │   </span><span style=\"color: #008000; text-decoration-color: #008000\">'Y/Y (%)'</span>: <span style=\"color: #008080; text-decoration-color: #008080; font-weight: bold\">152</span>\n",
       "<span style=\"color: #7fbf7f; text-decoration-color: #7fbf7f\">│   │   </span><span style=\"font-weight: bold\">}</span>,\n",
       "<span style=\"color: #7fbf7f; text-decoration-color: #7fbf7f\">│   │   </span><span style=\"font-weight: bold\">{</span>\n",
       "<span style=\"color: #7fbf7f; text-decoration-color: #7fbf7f\">│   │   │   </span><span style=\"color: #008000; text-decoration-color: #008000\">'Description'</span>: <span style=\"color: #008000; text-decoration-color: #008000\">'Diluted earnings per share'</span>,\n",
       "<span style=\"color: #7fbf7f; text-decoration-color: #7fbf7f\">│   │   │   </span><span style=\"color: #008000; text-decoration-color: #008000\">'Q2 FY25'</span>: <span style=\"color: #008080; text-decoration-color: #008080; font-weight: bold\">0.68</span>,\n",
       "<span style=\"color: #7fbf7f; text-decoration-color: #7fbf7f\">│   │   │   </span><span style=\"color: #008000; text-decoration-color: #008000\">'Q1 FY25'</span>: <span style=\"color: #008080; text-decoration-color: #008080; font-weight: bold\">0.61</span>,\n",
       "<span style=\"color: #7fbf7f; text-decoration-color: #7fbf7f\">│   │   │   </span><span style=\"color: #008000; text-decoration-color: #008000\">'Q2 FY24'</span>: <span style=\"color: #008080; text-decoration-color: #008080; font-weight: bold\">0.27</span>,\n",
       "<span style=\"color: #7fbf7f; text-decoration-color: #7fbf7f\">│   │   │   </span><span style=\"color: #008000; text-decoration-color: #008000\">'Q/Q (%)'</span>: <span style=\"color: #008080; text-decoration-color: #008080; font-weight: bold\">11</span>,\n",
       "<span style=\"color: #7fbf7f; text-decoration-color: #7fbf7f\">│   │   │   </span><span style=\"color: #008000; text-decoration-color: #008000\">'Y/Y (%)'</span>: <span style=\"color: #008080; text-decoration-color: #008080; font-weight: bold\">152</span>\n",
       "<span style=\"color: #7fbf7f; text-decoration-color: #7fbf7f\">│   │   </span><span style=\"font-weight: bold\">}</span>\n",
       "<span style=\"color: #7fbf7f; text-decoration-color: #7fbf7f\">│   </span><span style=\"font-weight: bold\">]</span>,\n",
       "<span style=\"color: #7fbf7f; text-decoration-color: #7fbf7f\">│   </span><span style=\"color: #008000; text-decoration-color: #008000\">'Revenue by Reportable Segments'</span>: <span style=\"font-weight: bold\">[</span>\n",
       "<span style=\"color: #7fbf7f; text-decoration-color: #7fbf7f\">│   │   </span><span style=\"font-weight: bold\">{</span>\n",
       "<span style=\"color: #7fbf7f; text-decoration-color: #7fbf7f\">│   │   │   </span><span style=\"color: #008000; text-decoration-color: #008000\">'Description'</span>: <span style=\"color: #008000; text-decoration-color: #008000\">'Compute &amp; Networking'</span>,\n",
       "<span style=\"color: #7fbf7f; text-decoration-color: #7fbf7f\">│   │   │   </span><span style=\"color: #008000; text-decoration-color: #008000\">'Q2 FY25'</span>: <span style=\"color: #008080; text-decoration-color: #008080; font-weight: bold\">26446</span>,\n",
       "<span style=\"color: #7fbf7f; text-decoration-color: #7fbf7f\">│   │   │   </span><span style=\"color: #008000; text-decoration-color: #008000\">'Q1 FY25'</span>: <span style=\"color: #008080; text-decoration-color: #008080; font-weight: bold\">22675</span>,\n",
       "<span style=\"color: #7fbf7f; text-decoration-color: #7fbf7f\">│   │   │   </span><span style=\"color: #008000; text-decoration-color: #008000\">'Q2 FY24'</span>: <span style=\"color: #008080; text-decoration-color: #008080; font-weight: bold\">10402</span>,\n",
       "<span style=\"color: #7fbf7f; text-decoration-color: #7fbf7f\">│   │   │   </span><span style=\"color: #008000; text-decoration-color: #008000\">'Q/Q (%)'</span>: <span style=\"color: #008080; text-decoration-color: #008080; font-weight: bold\">17</span>,\n",
       "<span style=\"color: #7fbf7f; text-decoration-color: #7fbf7f\">│   │   │   </span><span style=\"color: #008000; text-decoration-color: #008000\">'Y/Y (%)'</span>: <span style=\"color: #008080; text-decoration-color: #008080; font-weight: bold\">154</span>\n",
       "<span style=\"color: #7fbf7f; text-decoration-color: #7fbf7f\">│   │   </span><span style=\"font-weight: bold\">}</span>,\n",
       "<span style=\"color: #7fbf7f; text-decoration-color: #7fbf7f\">│   │   </span><span style=\"font-weight: bold\">{</span>\n",
       "<span style=\"color: #7fbf7f; text-decoration-color: #7fbf7f\">│   │   │   </span><span style=\"color: #008000; text-decoration-color: #008000\">'Description'</span>: <span style=\"color: #008000; text-decoration-color: #008000\">'Graphics'</span>,\n",
       "<span style=\"color: #7fbf7f; text-decoration-color: #7fbf7f\">│   │   │   </span><span style=\"color: #008000; text-decoration-color: #008000\">'Q2 FY25'</span>: <span style=\"color: #008080; text-decoration-color: #008080; font-weight: bold\">3594</span>,\n",
       "<span style=\"color: #7fbf7f; text-decoration-color: #7fbf7f\">│   │   │   </span><span style=\"color: #008000; text-decoration-color: #008000\">'Q1 FY25'</span>: <span style=\"color: #008080; text-decoration-color: #008080; font-weight: bold\">3369</span>,\n",
       "<span style=\"color: #7fbf7f; text-decoration-color: #7fbf7f\">│   │   │   </span><span style=\"color: #008000; text-decoration-color: #008000\">'Q2 FY24'</span>: <span style=\"color: #008080; text-decoration-color: #008080; font-weight: bold\">3105</span>,\n",
       "<span style=\"color: #7fbf7f; text-decoration-color: #7fbf7f\">│   │   │   </span><span style=\"color: #008000; text-decoration-color: #008000\">'Q/Q (%)'</span>: <span style=\"color: #008080; text-decoration-color: #008080; font-weight: bold\">7</span>,\n",
       "<span style=\"color: #7fbf7f; text-decoration-color: #7fbf7f\">│   │   │   </span><span style=\"color: #008000; text-decoration-color: #008000\">'Y/Y (%)'</span>: <span style=\"color: #008080; text-decoration-color: #008080; font-weight: bold\">16</span>\n",
       "<span style=\"color: #7fbf7f; text-decoration-color: #7fbf7f\">│   │   </span><span style=\"font-weight: bold\">}</span>,\n",
       "<span style=\"color: #7fbf7f; text-decoration-color: #7fbf7f\">│   │   </span><span style=\"font-weight: bold\">{</span>\n",
       "<span style=\"color: #7fbf7f; text-decoration-color: #7fbf7f\">│   │   │   </span><span style=\"color: #008000; text-decoration-color: #008000\">'Description'</span>: <span style=\"color: #008000; text-decoration-color: #008000\">'Total'</span>,\n",
       "<span style=\"color: #7fbf7f; text-decoration-color: #7fbf7f\">│   │   │   </span><span style=\"color: #008000; text-decoration-color: #008000\">'Q2 FY25'</span>: <span style=\"color: #008080; text-decoration-color: #008080; font-weight: bold\">30040</span>,\n",
       "<span style=\"color: #7fbf7f; text-decoration-color: #7fbf7f\">│   │   │   </span><span style=\"color: #008000; text-decoration-color: #008000\">'Q1 FY25'</span>: <span style=\"color: #008080; text-decoration-color: #008080; font-weight: bold\">26044</span>,\n",
       "<span style=\"color: #7fbf7f; text-decoration-color: #7fbf7f\">│   │   │   </span><span style=\"color: #008000; text-decoration-color: #008000\">'Q2 FY24'</span>: <span style=\"color: #008080; text-decoration-color: #008080; font-weight: bold\">13507</span>,\n",
       "<span style=\"color: #7fbf7f; text-decoration-color: #7fbf7f\">│   │   │   </span><span style=\"color: #008000; text-decoration-color: #008000\">'Q/Q (%)'</span>: <span style=\"color: #008080; text-decoration-color: #008080; font-weight: bold\">15</span>,\n",
       "<span style=\"color: #7fbf7f; text-decoration-color: #7fbf7f\">│   │   │   </span><span style=\"color: #008000; text-decoration-color: #008000\">'Y/Y (%)'</span>: <span style=\"color: #008080; text-decoration-color: #008080; font-weight: bold\">122</span>\n",
       "<span style=\"color: #7fbf7f; text-decoration-color: #7fbf7f\">│   │   </span><span style=\"font-weight: bold\">}</span>\n",
       "<span style=\"color: #7fbf7f; text-decoration-color: #7fbf7f\">│   </span><span style=\"font-weight: bold\">]</span>,\n",
       "<span style=\"color: #7fbf7f; text-decoration-color: #7fbf7f\">│   </span><span style=\"color: #008000; text-decoration-color: #008000\">'Revenue by Market Platform'</span>: <span style=\"font-weight: bold\">[</span>\n",
       "<span style=\"color: #7fbf7f; text-decoration-color: #7fbf7f\">│   │   </span><span style=\"font-weight: bold\">{</span>\n",
       "<span style=\"color: #7fbf7f; text-decoration-color: #7fbf7f\">│   │   │   </span><span style=\"color: #008000; text-decoration-color: #008000\">'Description'</span>: <span style=\"color: #008000; text-decoration-color: #008000\">'Data Center'</span>,\n",
       "<span style=\"color: #7fbf7f; text-decoration-color: #7fbf7f\">│   │   │   </span><span style=\"color: #008000; text-decoration-color: #008000\">'Q2 FY25'</span>: <span style=\"color: #008080; text-decoration-color: #008080; font-weight: bold\">26272</span>,\n",
       "<span style=\"color: #7fbf7f; text-decoration-color: #7fbf7f\">│   │   │   </span><span style=\"color: #008000; text-decoration-color: #008000\">'Q1 FY25'</span>: <span style=\"color: #008080; text-decoration-color: #008080; font-weight: bold\">22563</span>,\n",
       "<span style=\"color: #7fbf7f; text-decoration-color: #7fbf7f\">│   │   │   </span><span style=\"color: #008000; text-decoration-color: #008000\">'Q2 FY24'</span>: <span style=\"color: #008080; text-decoration-color: #008080; font-weight: bold\">10323</span>,\n",
       "<span style=\"color: #7fbf7f; text-decoration-color: #7fbf7f\">│   │   │   </span><span style=\"color: #008000; text-decoration-color: #008000\">'Q/Q (%)'</span>: <span style=\"color: #008080; text-decoration-color: #008080; font-weight: bold\">16</span>,\n",
       "<span style=\"color: #7fbf7f; text-decoration-color: #7fbf7f\">│   │   │   </span><span style=\"color: #008000; text-decoration-color: #008000\">'Y/Y (%)'</span>: <span style=\"color: #008080; text-decoration-color: #008080; font-weight: bold\">154</span>\n",
       "<span style=\"color: #7fbf7f; text-decoration-color: #7fbf7f\">│   │   </span><span style=\"font-weight: bold\">}</span>,\n",
       "<span style=\"color: #7fbf7f; text-decoration-color: #7fbf7f\">│   │   </span><span style=\"font-weight: bold\">{</span>\n",
       "<span style=\"color: #7fbf7f; text-decoration-color: #7fbf7f\">│   │   │   </span><span style=\"color: #008000; text-decoration-color: #008000\">'Description'</span>: <span style=\"color: #008000; text-decoration-color: #008000\">'Compute'</span>,\n",
       "<span style=\"color: #7fbf7f; text-decoration-color: #7fbf7f\">│   │   │   </span><span style=\"color: #008000; text-decoration-color: #008000\">'Q2 FY25'</span>: <span style=\"color: #008080; text-decoration-color: #008080; font-weight: bold\">22604</span>,\n",
       "<span style=\"color: #7fbf7f; text-decoration-color: #7fbf7f\">│   │   │   </span><span style=\"color: #008000; text-decoration-color: #008000\">'Q1 FY25'</span>: <span style=\"color: #008080; text-decoration-color: #008080; font-weight: bold\">19392</span>,\n",
       "<span style=\"color: #7fbf7f; text-decoration-color: #7fbf7f\">│   │   │   </span><span style=\"color: #008000; text-decoration-color: #008000\">'Q2 FY24'</span>: <span style=\"color: #008080; text-decoration-color: #008080; font-weight: bold\">8612</span>,\n",
       "<span style=\"color: #7fbf7f; text-decoration-color: #7fbf7f\">│   │   │   </span><span style=\"color: #008000; text-decoration-color: #008000\">'Q/Q (%)'</span>: <span style=\"color: #008080; text-decoration-color: #008080; font-weight: bold\">17</span>,\n",
       "<span style=\"color: #7fbf7f; text-decoration-color: #7fbf7f\">│   │   │   </span><span style=\"color: #008000; text-decoration-color: #008000\">'Y/Y (%)'</span>: <span style=\"color: #008080; text-decoration-color: #008080; font-weight: bold\">162</span>\n",
       "<span style=\"color: #7fbf7f; text-decoration-color: #7fbf7f\">│   │   </span><span style=\"font-weight: bold\">}</span>,\n",
       "<span style=\"color: #7fbf7f; text-decoration-color: #7fbf7f\">│   │   </span><span style=\"font-weight: bold\">{</span>\n",
       "<span style=\"color: #7fbf7f; text-decoration-color: #7fbf7f\">│   │   │   </span><span style=\"color: #008000; text-decoration-color: #008000\">'Description'</span>: <span style=\"color: #008000; text-decoration-color: #008000\">'Networking'</span>,\n",
       "<span style=\"color: #7fbf7f; text-decoration-color: #7fbf7f\">│   │   │   </span><span style=\"color: #008000; text-decoration-color: #008000\">'Q2 FY25'</span>: <span style=\"color: #008080; text-decoration-color: #008080; font-weight: bold\">3668</span>,\n",
       "<span style=\"color: #7fbf7f; text-decoration-color: #7fbf7f\">│   │   │   </span><span style=\"color: #008000; text-decoration-color: #008000\">'Q1 FY25'</span>: <span style=\"color: #008080; text-decoration-color: #008080; font-weight: bold\">3171</span>,\n",
       "<span style=\"color: #7fbf7f; text-decoration-color: #7fbf7f\">│   │   │   </span><span style=\"color: #008000; text-decoration-color: #008000\">'Q2 FY24'</span>: <span style=\"color: #008080; text-decoration-color: #008080; font-weight: bold\">1711</span>,\n",
       "<span style=\"color: #7fbf7f; text-decoration-color: #7fbf7f\">│   │   │   </span><span style=\"color: #008000; text-decoration-color: #008000\">'Q/Q (%)'</span>: <span style=\"color: #008080; text-decoration-color: #008080; font-weight: bold\">16</span>,\n",
       "<span style=\"color: #7fbf7f; text-decoration-color: #7fbf7f\">│   │   │   </span><span style=\"color: #008000; text-decoration-color: #008000\">'Y/Y (%)'</span>: <span style=\"color: #008080; text-decoration-color: #008080; font-weight: bold\">114</span>\n",
       "<span style=\"color: #7fbf7f; text-decoration-color: #7fbf7f\">│   │   </span><span style=\"font-weight: bold\">}</span>,\n",
       "<span style=\"color: #7fbf7f; text-decoration-color: #7fbf7f\">│   │   </span><span style=\"font-weight: bold\">{</span><span style=\"color: #008000; text-decoration-color: #008000\">'Description'</span>: <span style=\"color: #008000; text-decoration-color: #008000\">'Gaming'</span>, <span style=\"color: #008000; text-decoration-color: #008000\">'Q2 FY25'</span>: <span style=\"color: #008080; text-decoration-color: #008080; font-weight: bold\">2880</span>, <span style=\"color: #008000; text-decoration-color: #008000\">'Q1 FY25'</span>: <span style=\"color: #008080; text-decoration-color: #008080; font-weight: bold\">2647</span>, <span style=\"color: #008000; text-decoration-color: #008000\">'Q2 FY24'</span>: <span style=\"color: #008080; text-decoration-color: #008080; font-weight: bold\">2486</span>, <span style=\"color: #008000; text-decoration-color: #008000\">'Q/Q (%)'</span>: <span style=\"color: #008080; text-decoration-color: #008080; font-weight: bold\">9</span>, <span style=\"color: #008000; text-decoration-color: #008000\">'Y/Y (%)'</span>: <span style=\"color: #008080; text-decoration-color: #008080; font-weight: bold\">16</span><span style=\"font-weight: bold\">}</span>,\n",
       "<span style=\"color: #7fbf7f; text-decoration-color: #7fbf7f\">│   │   </span><span style=\"font-weight: bold\">{</span>\n",
       "<span style=\"color: #7fbf7f; text-decoration-color: #7fbf7f\">│   │   │   </span><span style=\"color: #008000; text-decoration-color: #008000\">'Description'</span>: <span style=\"color: #008000; text-decoration-color: #008000\">'Professional Visualization'</span>,\n",
       "<span style=\"color: #7fbf7f; text-decoration-color: #7fbf7f\">│   │   │   </span><span style=\"color: #008000; text-decoration-color: #008000\">'Q2 FY25'</span>: <span style=\"color: #008080; text-decoration-color: #008080; font-weight: bold\">454</span>,\n",
       "<span style=\"color: #7fbf7f; text-decoration-color: #7fbf7f\">│   │   │   </span><span style=\"color: #008000; text-decoration-color: #008000\">'Q1 FY25'</span>: <span style=\"color: #008080; text-decoration-color: #008080; font-weight: bold\">427</span>,\n",
       "<span style=\"color: #7fbf7f; text-decoration-color: #7fbf7f\">│   │   │   </span><span style=\"color: #008000; text-decoration-color: #008000\">'Q2 FY24'</span>: <span style=\"color: #008080; text-decoration-color: #008080; font-weight: bold\">379</span>,\n",
       "<span style=\"color: #7fbf7f; text-decoration-color: #7fbf7f\">│   │   │   </span><span style=\"color: #008000; text-decoration-color: #008000\">'Q/Q (%)'</span>: <span style=\"color: #008080; text-decoration-color: #008080; font-weight: bold\">6</span>,\n",
       "<span style=\"color: #7fbf7f; text-decoration-color: #7fbf7f\">│   │   │   </span><span style=\"color: #008000; text-decoration-color: #008000\">'Y/Y (%)'</span>: <span style=\"color: #008080; text-decoration-color: #008080; font-weight: bold\">20</span>\n",
       "<span style=\"color: #7fbf7f; text-decoration-color: #7fbf7f\">│   │   </span><span style=\"font-weight: bold\">}</span>,\n",
       "<span style=\"color: #7fbf7f; text-decoration-color: #7fbf7f\">│   │   </span><span style=\"font-weight: bold\">{</span>\n",
       "<span style=\"color: #7fbf7f; text-decoration-color: #7fbf7f\">│   │   │   </span><span style=\"color: #008000; text-decoration-color: #008000\">'Description'</span>: <span style=\"color: #008000; text-decoration-color: #008000\">'Automotive'</span>,\n",
       "<span style=\"color: #7fbf7f; text-decoration-color: #7fbf7f\">│   │   │   </span><span style=\"color: #008000; text-decoration-color: #008000\">'Q2 FY25'</span>: <span style=\"color: #008080; text-decoration-color: #008080; font-weight: bold\">346</span>,\n",
       "<span style=\"color: #7fbf7f; text-decoration-color: #7fbf7f\">│   │   │   </span><span style=\"color: #008000; text-decoration-color: #008000\">'Q1 FY25'</span>: <span style=\"color: #008080; text-decoration-color: #008080; font-weight: bold\">329</span>,\n",
       "<span style=\"color: #7fbf7f; text-decoration-color: #7fbf7f\">│   │   │   </span><span style=\"color: #008000; text-decoration-color: #008000\">'Q2 FY24'</span>: <span style=\"color: #008080; text-decoration-color: #008080; font-weight: bold\">253</span>,\n",
       "<span style=\"color: #7fbf7f; text-decoration-color: #7fbf7f\">│   │   │   </span><span style=\"color: #008000; text-decoration-color: #008000\">'Q/Q (%)'</span>: <span style=\"color: #008080; text-decoration-color: #008080; font-weight: bold\">5</span>,\n",
       "<span style=\"color: #7fbf7f; text-decoration-color: #7fbf7f\">│   │   │   </span><span style=\"color: #008000; text-decoration-color: #008000\">'Y/Y (%)'</span>: <span style=\"color: #008080; text-decoration-color: #008080; font-weight: bold\">37</span>\n",
       "<span style=\"color: #7fbf7f; text-decoration-color: #7fbf7f\">│   │   </span><span style=\"font-weight: bold\">}</span>,\n",
       "<span style=\"color: #7fbf7f; text-decoration-color: #7fbf7f\">│   │   </span><span style=\"font-weight: bold\">{</span>\n",
       "<span style=\"color: #7fbf7f; text-decoration-color: #7fbf7f\">│   │   │   </span><span style=\"color: #008000; text-decoration-color: #008000\">'Description'</span>: <span style=\"color: #008000; text-decoration-color: #008000\">'OEM and Other'</span>,\n",
       "<span style=\"color: #7fbf7f; text-decoration-color: #7fbf7f\">│   │   │   </span><span style=\"color: #008000; text-decoration-color: #008000\">'Q2 FY25'</span>: <span style=\"color: #008080; text-decoration-color: #008080; font-weight: bold\">88</span>,\n",
       "<span style=\"color: #7fbf7f; text-decoration-color: #7fbf7f\">│   │   │   </span><span style=\"color: #008000; text-decoration-color: #008000\">'Q1 FY25'</span>: <span style=\"color: #008080; text-decoration-color: #008080; font-weight: bold\">78</span>,\n",
       "<span style=\"color: #7fbf7f; text-decoration-color: #7fbf7f\">│   │   │   </span><span style=\"color: #008000; text-decoration-color: #008000\">'Q2 FY24'</span>: <span style=\"color: #008080; text-decoration-color: #008080; font-weight: bold\">66</span>,\n",
       "<span style=\"color: #7fbf7f; text-decoration-color: #7fbf7f\">│   │   │   </span><span style=\"color: #008000; text-decoration-color: #008000\">'Q/Q (%)'</span>: <span style=\"color: #008080; text-decoration-color: #008080; font-weight: bold\">13</span>,\n",
       "<span style=\"color: #7fbf7f; text-decoration-color: #7fbf7f\">│   │   │   </span><span style=\"color: #008000; text-decoration-color: #008000\">'Y/Y (%)'</span>: <span style=\"color: #008080; text-decoration-color: #008080; font-weight: bold\">33</span>\n",
       "<span style=\"color: #7fbf7f; text-decoration-color: #7fbf7f\">│   │   </span><span style=\"font-weight: bold\">}</span>,\n",
       "<span style=\"color: #7fbf7f; text-decoration-color: #7fbf7f\">│   │   </span><span style=\"font-weight: bold\">{</span>\n",
       "<span style=\"color: #7fbf7f; text-decoration-color: #7fbf7f\">│   │   │   </span><span style=\"color: #008000; text-decoration-color: #008000\">'Description'</span>: <span style=\"color: #008000; text-decoration-color: #008000\">'Total'</span>,\n",
       "<span style=\"color: #7fbf7f; text-decoration-color: #7fbf7f\">│   │   │   </span><span style=\"color: #008000; text-decoration-color: #008000\">'Q2 FY25'</span>: <span style=\"color: #008080; text-decoration-color: #008080; font-weight: bold\">30040</span>,\n",
       "<span style=\"color: #7fbf7f; text-decoration-color: #7fbf7f\">│   │   │   </span><span style=\"color: #008000; text-decoration-color: #008000\">'Q1 FY25'</span>: <span style=\"color: #008080; text-decoration-color: #008080; font-weight: bold\">26044</span>,\n",
       "<span style=\"color: #7fbf7f; text-decoration-color: #7fbf7f\">│   │   │   </span><span style=\"color: #008000; text-decoration-color: #008000\">'Q2 FY24'</span>: <span style=\"color: #008080; text-decoration-color: #008080; font-weight: bold\">13507</span>,\n",
       "<span style=\"color: #7fbf7f; text-decoration-color: #7fbf7f\">│   │   │   </span><span style=\"color: #008000; text-decoration-color: #008000\">'Q/Q (%)'</span>: <span style=\"color: #008080; text-decoration-color: #008080; font-weight: bold\">15</span>,\n",
       "<span style=\"color: #7fbf7f; text-decoration-color: #7fbf7f\">│   │   │   </span><span style=\"color: #008000; text-decoration-color: #008000\">'Y/Y (%)'</span>: <span style=\"color: #008080; text-decoration-color: #008080; font-weight: bold\">122</span>\n",
       "<span style=\"color: #7fbf7f; text-decoration-color: #7fbf7f\">│   │   </span><span style=\"font-weight: bold\">}</span>\n",
       "<span style=\"color: #7fbf7f; text-decoration-color: #7fbf7f\">│   </span><span style=\"font-weight: bold\">]</span>\n",
       "<span style=\"font-weight: bold\">}</span>\n",
       "</pre>\n"
      ],
      "text/plain": [
       "\u001b[1m{\u001b[0m\n",
       "\u001b[2;32m│   \u001b[0m\u001b[32m'GAAP'\u001b[0m: \u001b[1m[\u001b[0m\n",
       "\u001b[2;32m│   │   \u001b[0m\u001b[1m{\u001b[0m\n",
       "\u001b[2;32m│   │   │   \u001b[0m\u001b[32m'Description'\u001b[0m: \u001b[32m'Revenue'\u001b[0m,\n",
       "\u001b[2;32m│   │   │   \u001b[0m\u001b[32m'Q2 FY25'\u001b[0m: \u001b[1;36m30040\u001b[0m,\n",
       "\u001b[2;32m│   │   │   \u001b[0m\u001b[32m'Q1 FY25'\u001b[0m: \u001b[1;36m26044\u001b[0m,\n",
       "\u001b[2;32m│   │   │   \u001b[0m\u001b[32m'Q2 FY24'\u001b[0m: \u001b[1;36m13507\u001b[0m,\n",
       "\u001b[2;32m│   │   │   \u001b[0m\u001b[32m'Q/Q \u001b[0m\u001b[32m(\u001b[0m\u001b[32m%\u001b[0m\u001b[32m)\u001b[0m\u001b[32m'\u001b[0m: \u001b[1;36m15\u001b[0m,\n",
       "\u001b[2;32m│   │   │   \u001b[0m\u001b[32m'Y/Y \u001b[0m\u001b[32m(\u001b[0m\u001b[32m%\u001b[0m\u001b[32m)\u001b[0m\u001b[32m'\u001b[0m: \u001b[1;36m122\u001b[0m\n",
       "\u001b[2;32m│   │   \u001b[0m\u001b[1m}\u001b[0m,\n",
       "\u001b[2;32m│   │   \u001b[0m\u001b[1m{\u001b[0m\n",
       "\u001b[2;32m│   │   │   \u001b[0m\u001b[32m'Description'\u001b[0m: \u001b[32m'Gross margin \u001b[0m\u001b[32m(\u001b[0m\u001b[32m%\u001b[0m\u001b[32m)\u001b[0m\u001b[32m'\u001b[0m,\n",
       "\u001b[2;32m│   │   │   \u001b[0m\u001b[32m'Q2 FY25'\u001b[0m: \u001b[1;36m75.1\u001b[0m,\n",
       "\u001b[2;32m│   │   │   \u001b[0m\u001b[32m'Q1 FY25'\u001b[0m: \u001b[1;36m78.4\u001b[0m,\n",
       "\u001b[2;32m│   │   │   \u001b[0m\u001b[32m'Q2 FY24'\u001b[0m: \u001b[1;36m70.1\u001b[0m,\n",
       "\u001b[2;32m│   │   │   \u001b[0m\u001b[32m'Q/Q \u001b[0m\u001b[32m(\u001b[0m\u001b[32mpts\u001b[0m\u001b[32m)\u001b[0m\u001b[32m'\u001b[0m: \u001b[1;36m-3.3\u001b[0m,\n",
       "\u001b[2;32m│   │   │   \u001b[0m\u001b[32m'Y/Y \u001b[0m\u001b[32m(\u001b[0m\u001b[32mpts\u001b[0m\u001b[32m)\u001b[0m\u001b[32m'\u001b[0m: \u001b[1;36m5.0\u001b[0m\n",
       "\u001b[2;32m│   │   \u001b[0m\u001b[1m}\u001b[0m,\n",
       "\u001b[2;32m│   │   \u001b[0m\u001b[1m{\u001b[0m\n",
       "\u001b[2;32m│   │   │   \u001b[0m\u001b[32m'Description'\u001b[0m: \u001b[32m'Operating expenses'\u001b[0m,\n",
       "\u001b[2;32m│   │   │   \u001b[0m\u001b[32m'Q2 FY25'\u001b[0m: \u001b[1;36m3932\u001b[0m,\n",
       "\u001b[2;32m│   │   │   \u001b[0m\u001b[32m'Q1 FY25'\u001b[0m: \u001b[1;36m3497\u001b[0m,\n",
       "\u001b[2;32m│   │   │   \u001b[0m\u001b[32m'Q2 FY24'\u001b[0m: \u001b[1;36m2662\u001b[0m,\n",
       "\u001b[2;32m│   │   │   \u001b[0m\u001b[32m'Q/Q \u001b[0m\u001b[32m(\u001b[0m\u001b[32m%\u001b[0m\u001b[32m)\u001b[0m\u001b[32m'\u001b[0m: \u001b[1;36m12\u001b[0m,\n",
       "\u001b[2;32m│   │   │   \u001b[0m\u001b[32m'Y/Y \u001b[0m\u001b[32m(\u001b[0m\u001b[32m%\u001b[0m\u001b[32m)\u001b[0m\u001b[32m'\u001b[0m: \u001b[1;36m48\u001b[0m\n",
       "\u001b[2;32m│   │   \u001b[0m\u001b[1m}\u001b[0m,\n",
       "\u001b[2;32m│   │   \u001b[0m\u001b[1m{\u001b[0m\n",
       "\u001b[2;32m│   │   │   \u001b[0m\u001b[32m'Description'\u001b[0m: \u001b[32m'Operating income'\u001b[0m,\n",
       "\u001b[2;32m│   │   │   \u001b[0m\u001b[32m'Q2 FY25'\u001b[0m: \u001b[1;36m18642\u001b[0m,\n",
       "\u001b[2;32m│   │   │   \u001b[0m\u001b[32m'Q1 FY25'\u001b[0m: \u001b[1;36m16909\u001b[0m,\n",
       "\u001b[2;32m│   │   │   \u001b[0m\u001b[32m'Q2 FY24'\u001b[0m: \u001b[1;36m6800\u001b[0m,\n",
       "\u001b[2;32m│   │   │   \u001b[0m\u001b[32m'Q/Q \u001b[0m\u001b[32m(\u001b[0m\u001b[32m%\u001b[0m\u001b[32m)\u001b[0m\u001b[32m'\u001b[0m: \u001b[1;36m10\u001b[0m,\n",
       "\u001b[2;32m│   │   │   \u001b[0m\u001b[32m'Y/Y \u001b[0m\u001b[32m(\u001b[0m\u001b[32m%\u001b[0m\u001b[32m)\u001b[0m\u001b[32m'\u001b[0m: \u001b[1;36m174\u001b[0m\n",
       "\u001b[2;32m│   │   \u001b[0m\u001b[1m}\u001b[0m,\n",
       "\u001b[2;32m│   │   \u001b[0m\u001b[1m{\u001b[0m\n",
       "\u001b[2;32m│   │   │   \u001b[0m\u001b[32m'Description'\u001b[0m: \u001b[32m'Net income'\u001b[0m,\n",
       "\u001b[2;32m│   │   │   \u001b[0m\u001b[32m'Q2 FY25'\u001b[0m: \u001b[1;36m16599\u001b[0m,\n",
       "\u001b[2;32m│   │   │   \u001b[0m\u001b[32m'Q1 FY25'\u001b[0m: \u001b[1;36m14881\u001b[0m,\n",
       "\u001b[2;32m│   │   │   \u001b[0m\u001b[32m'Q2 FY24'\u001b[0m: \u001b[1;36m6188\u001b[0m,\n",
       "\u001b[2;32m│   │   │   \u001b[0m\u001b[32m'Q/Q \u001b[0m\u001b[32m(\u001b[0m\u001b[32m%\u001b[0m\u001b[32m)\u001b[0m\u001b[32m'\u001b[0m: \u001b[1;36m12\u001b[0m,\n",
       "\u001b[2;32m│   │   │   \u001b[0m\u001b[32m'Y/Y \u001b[0m\u001b[32m(\u001b[0m\u001b[32m%\u001b[0m\u001b[32m)\u001b[0m\u001b[32m'\u001b[0m: \u001b[1;36m168\u001b[0m\n",
       "\u001b[2;32m│   │   \u001b[0m\u001b[1m}\u001b[0m,\n",
       "\u001b[2;32m│   │   \u001b[0m\u001b[1m{\u001b[0m\n",
       "\u001b[2;32m│   │   │   \u001b[0m\u001b[32m'Description'\u001b[0m: \u001b[32m'Diluted earnings per share'\u001b[0m,\n",
       "\u001b[2;32m│   │   │   \u001b[0m\u001b[32m'Q2 FY25'\u001b[0m: \u001b[1;36m0.67\u001b[0m,\n",
       "\u001b[2;32m│   │   │   \u001b[0m\u001b[32m'Q1 FY25'\u001b[0m: \u001b[1;36m0.6\u001b[0m,\n",
       "\u001b[2;32m│   │   │   \u001b[0m\u001b[32m'Q2 FY24'\u001b[0m: \u001b[1;36m0.25\u001b[0m,\n",
       "\u001b[2;32m│   │   │   \u001b[0m\u001b[32m'Q/Q \u001b[0m\u001b[32m(\u001b[0m\u001b[32m%\u001b[0m\u001b[32m)\u001b[0m\u001b[32m'\u001b[0m: \u001b[1;36m12\u001b[0m,\n",
       "\u001b[2;32m│   │   │   \u001b[0m\u001b[32m'Y/Y \u001b[0m\u001b[32m(\u001b[0m\u001b[32m%\u001b[0m\u001b[32m)\u001b[0m\u001b[32m'\u001b[0m: \u001b[1;36m168\u001b[0m\n",
       "\u001b[2;32m│   │   \u001b[0m\u001b[1m}\u001b[0m\n",
       "\u001b[2;32m│   \u001b[0m\u001b[1m]\u001b[0m,\n",
       "\u001b[2;32m│   \u001b[0m\u001b[32m'Non-GAAP'\u001b[0m: \u001b[1m[\u001b[0m\n",
       "\u001b[2;32m│   │   \u001b[0m\u001b[1m{\u001b[0m\n",
       "\u001b[2;32m│   │   │   \u001b[0m\u001b[32m'Description'\u001b[0m: \u001b[32m'Revenue'\u001b[0m,\n",
       "\u001b[2;32m│   │   │   \u001b[0m\u001b[32m'Q2 FY25'\u001b[0m: \u001b[1;36m30040\u001b[0m,\n",
       "\u001b[2;32m│   │   │   \u001b[0m\u001b[32m'Q1 FY25'\u001b[0m: \u001b[1;36m26044\u001b[0m,\n",
       "\u001b[2;32m│   │   │   \u001b[0m\u001b[32m'Q2 FY24'\u001b[0m: \u001b[1;36m13507\u001b[0m,\n",
       "\u001b[2;32m│   │   │   \u001b[0m\u001b[32m'Q/Q \u001b[0m\u001b[32m(\u001b[0m\u001b[32m%\u001b[0m\u001b[32m)\u001b[0m\u001b[32m'\u001b[0m: \u001b[1;36m15\u001b[0m,\n",
       "\u001b[2;32m│   │   │   \u001b[0m\u001b[32m'Y/Y \u001b[0m\u001b[32m(\u001b[0m\u001b[32m%\u001b[0m\u001b[32m)\u001b[0m\u001b[32m'\u001b[0m: \u001b[1;36m122\u001b[0m\n",
       "\u001b[2;32m│   │   \u001b[0m\u001b[1m}\u001b[0m,\n",
       "\u001b[2;32m│   │   \u001b[0m\u001b[1m{\u001b[0m\n",
       "\u001b[2;32m│   │   │   \u001b[0m\u001b[32m'Description'\u001b[0m: \u001b[32m'Gross margin \u001b[0m\u001b[32m(\u001b[0m\u001b[32m%\u001b[0m\u001b[32m)\u001b[0m\u001b[32m'\u001b[0m,\n",
       "\u001b[2;32m│   │   │   \u001b[0m\u001b[32m'Q2 FY25'\u001b[0m: \u001b[1;36m75.7\u001b[0m,\n",
       "\u001b[2;32m│   │   │   \u001b[0m\u001b[32m'Q1 FY25'\u001b[0m: \u001b[1;36m78.9\u001b[0m,\n",
       "\u001b[2;32m│   │   │   \u001b[0m\u001b[32m'Q2 FY24'\u001b[0m: \u001b[1;36m71.2\u001b[0m,\n",
       "\u001b[2;32m│   │   │   \u001b[0m\u001b[32m'Q/Q \u001b[0m\u001b[32m(\u001b[0m\u001b[32mpts\u001b[0m\u001b[32m)\u001b[0m\u001b[32m'\u001b[0m: \u001b[1;36m-3.2\u001b[0m,\n",
       "\u001b[2;32m│   │   │   \u001b[0m\u001b[32m'Y/Y \u001b[0m\u001b[32m(\u001b[0m\u001b[32mpts\u001b[0m\u001b[32m)\u001b[0m\u001b[32m'\u001b[0m: \u001b[1;36m4.5\u001b[0m\n",
       "\u001b[2;32m│   │   \u001b[0m\u001b[1m}\u001b[0m,\n",
       "\u001b[2;32m│   │   \u001b[0m\u001b[1m{\u001b[0m\n",
       "\u001b[2;32m│   │   │   \u001b[0m\u001b[32m'Description'\u001b[0m: \u001b[32m'Operating expenses'\u001b[0m,\n",
       "\u001b[2;32m│   │   │   \u001b[0m\u001b[32m'Q2 FY25'\u001b[0m: \u001b[1;36m2792\u001b[0m,\n",
       "\u001b[2;32m│   │   │   \u001b[0m\u001b[32m'Q1 FY25'\u001b[0m: \u001b[1;36m2501\u001b[0m,\n",
       "\u001b[2;32m│   │   │   \u001b[0m\u001b[32m'Q2 FY24'\u001b[0m: \u001b[1;36m1838\u001b[0m,\n",
       "\u001b[2;32m│   │   │   \u001b[0m\u001b[32m'Q/Q \u001b[0m\u001b[32m(\u001b[0m\u001b[32m%\u001b[0m\u001b[32m)\u001b[0m\u001b[32m'\u001b[0m: \u001b[1;36m12\u001b[0m,\n",
       "\u001b[2;32m│   │   │   \u001b[0m\u001b[32m'Y/Y \u001b[0m\u001b[32m(\u001b[0m\u001b[32m%\u001b[0m\u001b[32m)\u001b[0m\u001b[32m'\u001b[0m: \u001b[1;36m52\u001b[0m\n",
       "\u001b[2;32m│   │   \u001b[0m\u001b[1m}\u001b[0m,\n",
       "\u001b[2;32m│   │   \u001b[0m\u001b[1m{\u001b[0m\n",
       "\u001b[2;32m│   │   │   \u001b[0m\u001b[32m'Description'\u001b[0m: \u001b[32m'Operating income'\u001b[0m,\n",
       "\u001b[2;32m│   │   │   \u001b[0m\u001b[32m'Q2 FY25'\u001b[0m: \u001b[1;36m19937\u001b[0m,\n",
       "\u001b[2;32m│   │   │   \u001b[0m\u001b[32m'Q1 FY25'\u001b[0m: \u001b[1;36m18059\u001b[0m,\n",
       "\u001b[2;32m│   │   │   \u001b[0m\u001b[32m'Q2 FY24'\u001b[0m: \u001b[1;36m7776\u001b[0m,\n",
       "\u001b[2;32m│   │   │   \u001b[0m\u001b[32m'Q/Q \u001b[0m\u001b[32m(\u001b[0m\u001b[32m%\u001b[0m\u001b[32m)\u001b[0m\u001b[32m'\u001b[0m: \u001b[1;36m10\u001b[0m,\n",
       "\u001b[2;32m│   │   │   \u001b[0m\u001b[32m'Y/Y \u001b[0m\u001b[32m(\u001b[0m\u001b[32m%\u001b[0m\u001b[32m)\u001b[0m\u001b[32m'\u001b[0m: \u001b[1;36m156\u001b[0m\n",
       "\u001b[2;32m│   │   \u001b[0m\u001b[1m}\u001b[0m,\n",
       "\u001b[2;32m│   │   \u001b[0m\u001b[1m{\u001b[0m\n",
       "\u001b[2;32m│   │   │   \u001b[0m\u001b[32m'Description'\u001b[0m: \u001b[32m'Net income'\u001b[0m,\n",
       "\u001b[2;32m│   │   │   \u001b[0m\u001b[32m'Q2 FY25'\u001b[0m: \u001b[1;36m16952\u001b[0m,\n",
       "\u001b[2;32m│   │   │   \u001b[0m\u001b[32m'Q1 FY25'\u001b[0m: \u001b[1;36m15238\u001b[0m,\n",
       "\u001b[2;32m│   │   │   \u001b[0m\u001b[32m'Q2 FY24'\u001b[0m: \u001b[1;36m6740\u001b[0m,\n",
       "\u001b[2;32m│   │   │   \u001b[0m\u001b[32m'Q/Q \u001b[0m\u001b[32m(\u001b[0m\u001b[32m%\u001b[0m\u001b[32m)\u001b[0m\u001b[32m'\u001b[0m: \u001b[1;36m11\u001b[0m,\n",
       "\u001b[2;32m│   │   │   \u001b[0m\u001b[32m'Y/Y \u001b[0m\u001b[32m(\u001b[0m\u001b[32m%\u001b[0m\u001b[32m)\u001b[0m\u001b[32m'\u001b[0m: \u001b[1;36m152\u001b[0m\n",
       "\u001b[2;32m│   │   \u001b[0m\u001b[1m}\u001b[0m,\n",
       "\u001b[2;32m│   │   \u001b[0m\u001b[1m{\u001b[0m\n",
       "\u001b[2;32m│   │   │   \u001b[0m\u001b[32m'Description'\u001b[0m: \u001b[32m'Diluted earnings per share'\u001b[0m,\n",
       "\u001b[2;32m│   │   │   \u001b[0m\u001b[32m'Q2 FY25'\u001b[0m: \u001b[1;36m0.68\u001b[0m,\n",
       "\u001b[2;32m│   │   │   \u001b[0m\u001b[32m'Q1 FY25'\u001b[0m: \u001b[1;36m0.61\u001b[0m,\n",
       "\u001b[2;32m│   │   │   \u001b[0m\u001b[32m'Q2 FY24'\u001b[0m: \u001b[1;36m0.27\u001b[0m,\n",
       "\u001b[2;32m│   │   │   \u001b[0m\u001b[32m'Q/Q \u001b[0m\u001b[32m(\u001b[0m\u001b[32m%\u001b[0m\u001b[32m)\u001b[0m\u001b[32m'\u001b[0m: \u001b[1;36m11\u001b[0m,\n",
       "\u001b[2;32m│   │   │   \u001b[0m\u001b[32m'Y/Y \u001b[0m\u001b[32m(\u001b[0m\u001b[32m%\u001b[0m\u001b[32m)\u001b[0m\u001b[32m'\u001b[0m: \u001b[1;36m152\u001b[0m\n",
       "\u001b[2;32m│   │   \u001b[0m\u001b[1m}\u001b[0m\n",
       "\u001b[2;32m│   \u001b[0m\u001b[1m]\u001b[0m,\n",
       "\u001b[2;32m│   \u001b[0m\u001b[32m'Revenue by Reportable Segments'\u001b[0m: \u001b[1m[\u001b[0m\n",
       "\u001b[2;32m│   │   \u001b[0m\u001b[1m{\u001b[0m\n",
       "\u001b[2;32m│   │   │   \u001b[0m\u001b[32m'Description'\u001b[0m: \u001b[32m'Compute & Networking'\u001b[0m,\n",
       "\u001b[2;32m│   │   │   \u001b[0m\u001b[32m'Q2 FY25'\u001b[0m: \u001b[1;36m26446\u001b[0m,\n",
       "\u001b[2;32m│   │   │   \u001b[0m\u001b[32m'Q1 FY25'\u001b[0m: \u001b[1;36m22675\u001b[0m,\n",
       "\u001b[2;32m│   │   │   \u001b[0m\u001b[32m'Q2 FY24'\u001b[0m: \u001b[1;36m10402\u001b[0m,\n",
       "\u001b[2;32m│   │   │   \u001b[0m\u001b[32m'Q/Q \u001b[0m\u001b[32m(\u001b[0m\u001b[32m%\u001b[0m\u001b[32m)\u001b[0m\u001b[32m'\u001b[0m: \u001b[1;36m17\u001b[0m,\n",
       "\u001b[2;32m│   │   │   \u001b[0m\u001b[32m'Y/Y \u001b[0m\u001b[32m(\u001b[0m\u001b[32m%\u001b[0m\u001b[32m)\u001b[0m\u001b[32m'\u001b[0m: \u001b[1;36m154\u001b[0m\n",
       "\u001b[2;32m│   │   \u001b[0m\u001b[1m}\u001b[0m,\n",
       "\u001b[2;32m│   │   \u001b[0m\u001b[1m{\u001b[0m\n",
       "\u001b[2;32m│   │   │   \u001b[0m\u001b[32m'Description'\u001b[0m: \u001b[32m'Graphics'\u001b[0m,\n",
       "\u001b[2;32m│   │   │   \u001b[0m\u001b[32m'Q2 FY25'\u001b[0m: \u001b[1;36m3594\u001b[0m,\n",
       "\u001b[2;32m│   │   │   \u001b[0m\u001b[32m'Q1 FY25'\u001b[0m: \u001b[1;36m3369\u001b[0m,\n",
       "\u001b[2;32m│   │   │   \u001b[0m\u001b[32m'Q2 FY24'\u001b[0m: \u001b[1;36m3105\u001b[0m,\n",
       "\u001b[2;32m│   │   │   \u001b[0m\u001b[32m'Q/Q \u001b[0m\u001b[32m(\u001b[0m\u001b[32m%\u001b[0m\u001b[32m)\u001b[0m\u001b[32m'\u001b[0m: \u001b[1;36m7\u001b[0m,\n",
       "\u001b[2;32m│   │   │   \u001b[0m\u001b[32m'Y/Y \u001b[0m\u001b[32m(\u001b[0m\u001b[32m%\u001b[0m\u001b[32m)\u001b[0m\u001b[32m'\u001b[0m: \u001b[1;36m16\u001b[0m\n",
       "\u001b[2;32m│   │   \u001b[0m\u001b[1m}\u001b[0m,\n",
       "\u001b[2;32m│   │   \u001b[0m\u001b[1m{\u001b[0m\n",
       "\u001b[2;32m│   │   │   \u001b[0m\u001b[32m'Description'\u001b[0m: \u001b[32m'Total'\u001b[0m,\n",
       "\u001b[2;32m│   │   │   \u001b[0m\u001b[32m'Q2 FY25'\u001b[0m: \u001b[1;36m30040\u001b[0m,\n",
       "\u001b[2;32m│   │   │   \u001b[0m\u001b[32m'Q1 FY25'\u001b[0m: \u001b[1;36m26044\u001b[0m,\n",
       "\u001b[2;32m│   │   │   \u001b[0m\u001b[32m'Q2 FY24'\u001b[0m: \u001b[1;36m13507\u001b[0m,\n",
       "\u001b[2;32m│   │   │   \u001b[0m\u001b[32m'Q/Q \u001b[0m\u001b[32m(\u001b[0m\u001b[32m%\u001b[0m\u001b[32m)\u001b[0m\u001b[32m'\u001b[0m: \u001b[1;36m15\u001b[0m,\n",
       "\u001b[2;32m│   │   │   \u001b[0m\u001b[32m'Y/Y \u001b[0m\u001b[32m(\u001b[0m\u001b[32m%\u001b[0m\u001b[32m)\u001b[0m\u001b[32m'\u001b[0m: \u001b[1;36m122\u001b[0m\n",
       "\u001b[2;32m│   │   \u001b[0m\u001b[1m}\u001b[0m\n",
       "\u001b[2;32m│   \u001b[0m\u001b[1m]\u001b[0m,\n",
       "\u001b[2;32m│   \u001b[0m\u001b[32m'Revenue by Market Platform'\u001b[0m: \u001b[1m[\u001b[0m\n",
       "\u001b[2;32m│   │   \u001b[0m\u001b[1m{\u001b[0m\n",
       "\u001b[2;32m│   │   │   \u001b[0m\u001b[32m'Description'\u001b[0m: \u001b[32m'Data Center'\u001b[0m,\n",
       "\u001b[2;32m│   │   │   \u001b[0m\u001b[32m'Q2 FY25'\u001b[0m: \u001b[1;36m26272\u001b[0m,\n",
       "\u001b[2;32m│   │   │   \u001b[0m\u001b[32m'Q1 FY25'\u001b[0m: \u001b[1;36m22563\u001b[0m,\n",
       "\u001b[2;32m│   │   │   \u001b[0m\u001b[32m'Q2 FY24'\u001b[0m: \u001b[1;36m10323\u001b[0m,\n",
       "\u001b[2;32m│   │   │   \u001b[0m\u001b[32m'Q/Q \u001b[0m\u001b[32m(\u001b[0m\u001b[32m%\u001b[0m\u001b[32m)\u001b[0m\u001b[32m'\u001b[0m: \u001b[1;36m16\u001b[0m,\n",
       "\u001b[2;32m│   │   │   \u001b[0m\u001b[32m'Y/Y \u001b[0m\u001b[32m(\u001b[0m\u001b[32m%\u001b[0m\u001b[32m)\u001b[0m\u001b[32m'\u001b[0m: \u001b[1;36m154\u001b[0m\n",
       "\u001b[2;32m│   │   \u001b[0m\u001b[1m}\u001b[0m,\n",
       "\u001b[2;32m│   │   \u001b[0m\u001b[1m{\u001b[0m\n",
       "\u001b[2;32m│   │   │   \u001b[0m\u001b[32m'Description'\u001b[0m: \u001b[32m'Compute'\u001b[0m,\n",
       "\u001b[2;32m│   │   │   \u001b[0m\u001b[32m'Q2 FY25'\u001b[0m: \u001b[1;36m22604\u001b[0m,\n",
       "\u001b[2;32m│   │   │   \u001b[0m\u001b[32m'Q1 FY25'\u001b[0m: \u001b[1;36m19392\u001b[0m,\n",
       "\u001b[2;32m│   │   │   \u001b[0m\u001b[32m'Q2 FY24'\u001b[0m: \u001b[1;36m8612\u001b[0m,\n",
       "\u001b[2;32m│   │   │   \u001b[0m\u001b[32m'Q/Q \u001b[0m\u001b[32m(\u001b[0m\u001b[32m%\u001b[0m\u001b[32m)\u001b[0m\u001b[32m'\u001b[0m: \u001b[1;36m17\u001b[0m,\n",
       "\u001b[2;32m│   │   │   \u001b[0m\u001b[32m'Y/Y \u001b[0m\u001b[32m(\u001b[0m\u001b[32m%\u001b[0m\u001b[32m)\u001b[0m\u001b[32m'\u001b[0m: \u001b[1;36m162\u001b[0m\n",
       "\u001b[2;32m│   │   \u001b[0m\u001b[1m}\u001b[0m,\n",
       "\u001b[2;32m│   │   \u001b[0m\u001b[1m{\u001b[0m\n",
       "\u001b[2;32m│   │   │   \u001b[0m\u001b[32m'Description'\u001b[0m: \u001b[32m'Networking'\u001b[0m,\n",
       "\u001b[2;32m│   │   │   \u001b[0m\u001b[32m'Q2 FY25'\u001b[0m: \u001b[1;36m3668\u001b[0m,\n",
       "\u001b[2;32m│   │   │   \u001b[0m\u001b[32m'Q1 FY25'\u001b[0m: \u001b[1;36m3171\u001b[0m,\n",
       "\u001b[2;32m│   │   │   \u001b[0m\u001b[32m'Q2 FY24'\u001b[0m: \u001b[1;36m1711\u001b[0m,\n",
       "\u001b[2;32m│   │   │   \u001b[0m\u001b[32m'Q/Q \u001b[0m\u001b[32m(\u001b[0m\u001b[32m%\u001b[0m\u001b[32m)\u001b[0m\u001b[32m'\u001b[0m: \u001b[1;36m16\u001b[0m,\n",
       "\u001b[2;32m│   │   │   \u001b[0m\u001b[32m'Y/Y \u001b[0m\u001b[32m(\u001b[0m\u001b[32m%\u001b[0m\u001b[32m)\u001b[0m\u001b[32m'\u001b[0m: \u001b[1;36m114\u001b[0m\n",
       "\u001b[2;32m│   │   \u001b[0m\u001b[1m}\u001b[0m,\n",
       "\u001b[2;32m│   │   \u001b[0m\u001b[1m{\u001b[0m\u001b[32m'Description'\u001b[0m: \u001b[32m'Gaming'\u001b[0m, \u001b[32m'Q2 FY25'\u001b[0m: \u001b[1;36m2880\u001b[0m, \u001b[32m'Q1 FY25'\u001b[0m: \u001b[1;36m2647\u001b[0m, \u001b[32m'Q2 FY24'\u001b[0m: \u001b[1;36m2486\u001b[0m, \u001b[32m'Q/Q \u001b[0m\u001b[32m(\u001b[0m\u001b[32m%\u001b[0m\u001b[32m)\u001b[0m\u001b[32m'\u001b[0m: \u001b[1;36m9\u001b[0m, \u001b[32m'Y/Y \u001b[0m\u001b[32m(\u001b[0m\u001b[32m%\u001b[0m\u001b[32m)\u001b[0m\u001b[32m'\u001b[0m: \u001b[1;36m16\u001b[0m\u001b[1m}\u001b[0m,\n",
       "\u001b[2;32m│   │   \u001b[0m\u001b[1m{\u001b[0m\n",
       "\u001b[2;32m│   │   │   \u001b[0m\u001b[32m'Description'\u001b[0m: \u001b[32m'Professional Visualization'\u001b[0m,\n",
       "\u001b[2;32m│   │   │   \u001b[0m\u001b[32m'Q2 FY25'\u001b[0m: \u001b[1;36m454\u001b[0m,\n",
       "\u001b[2;32m│   │   │   \u001b[0m\u001b[32m'Q1 FY25'\u001b[0m: \u001b[1;36m427\u001b[0m,\n",
       "\u001b[2;32m│   │   │   \u001b[0m\u001b[32m'Q2 FY24'\u001b[0m: \u001b[1;36m379\u001b[0m,\n",
       "\u001b[2;32m│   │   │   \u001b[0m\u001b[32m'Q/Q \u001b[0m\u001b[32m(\u001b[0m\u001b[32m%\u001b[0m\u001b[32m)\u001b[0m\u001b[32m'\u001b[0m: \u001b[1;36m6\u001b[0m,\n",
       "\u001b[2;32m│   │   │   \u001b[0m\u001b[32m'Y/Y \u001b[0m\u001b[32m(\u001b[0m\u001b[32m%\u001b[0m\u001b[32m)\u001b[0m\u001b[32m'\u001b[0m: \u001b[1;36m20\u001b[0m\n",
       "\u001b[2;32m│   │   \u001b[0m\u001b[1m}\u001b[0m,\n",
       "\u001b[2;32m│   │   \u001b[0m\u001b[1m{\u001b[0m\n",
       "\u001b[2;32m│   │   │   \u001b[0m\u001b[32m'Description'\u001b[0m: \u001b[32m'Automotive'\u001b[0m,\n",
       "\u001b[2;32m│   │   │   \u001b[0m\u001b[32m'Q2 FY25'\u001b[0m: \u001b[1;36m346\u001b[0m,\n",
       "\u001b[2;32m│   │   │   \u001b[0m\u001b[32m'Q1 FY25'\u001b[0m: \u001b[1;36m329\u001b[0m,\n",
       "\u001b[2;32m│   │   │   \u001b[0m\u001b[32m'Q2 FY24'\u001b[0m: \u001b[1;36m253\u001b[0m,\n",
       "\u001b[2;32m│   │   │   \u001b[0m\u001b[32m'Q/Q \u001b[0m\u001b[32m(\u001b[0m\u001b[32m%\u001b[0m\u001b[32m)\u001b[0m\u001b[32m'\u001b[0m: \u001b[1;36m5\u001b[0m,\n",
       "\u001b[2;32m│   │   │   \u001b[0m\u001b[32m'Y/Y \u001b[0m\u001b[32m(\u001b[0m\u001b[32m%\u001b[0m\u001b[32m)\u001b[0m\u001b[32m'\u001b[0m: \u001b[1;36m37\u001b[0m\n",
       "\u001b[2;32m│   │   \u001b[0m\u001b[1m}\u001b[0m,\n",
       "\u001b[2;32m│   │   \u001b[0m\u001b[1m{\u001b[0m\n",
       "\u001b[2;32m│   │   │   \u001b[0m\u001b[32m'Description'\u001b[0m: \u001b[32m'OEM and Other'\u001b[0m,\n",
       "\u001b[2;32m│   │   │   \u001b[0m\u001b[32m'Q2 FY25'\u001b[0m: \u001b[1;36m88\u001b[0m,\n",
       "\u001b[2;32m│   │   │   \u001b[0m\u001b[32m'Q1 FY25'\u001b[0m: \u001b[1;36m78\u001b[0m,\n",
       "\u001b[2;32m│   │   │   \u001b[0m\u001b[32m'Q2 FY24'\u001b[0m: \u001b[1;36m66\u001b[0m,\n",
       "\u001b[2;32m│   │   │   \u001b[0m\u001b[32m'Q/Q \u001b[0m\u001b[32m(\u001b[0m\u001b[32m%\u001b[0m\u001b[32m)\u001b[0m\u001b[32m'\u001b[0m: \u001b[1;36m13\u001b[0m,\n",
       "\u001b[2;32m│   │   │   \u001b[0m\u001b[32m'Y/Y \u001b[0m\u001b[32m(\u001b[0m\u001b[32m%\u001b[0m\u001b[32m)\u001b[0m\u001b[32m'\u001b[0m: \u001b[1;36m33\u001b[0m\n",
       "\u001b[2;32m│   │   \u001b[0m\u001b[1m}\u001b[0m,\n",
       "\u001b[2;32m│   │   \u001b[0m\u001b[1m{\u001b[0m\n",
       "\u001b[2;32m│   │   │   \u001b[0m\u001b[32m'Description'\u001b[0m: \u001b[32m'Total'\u001b[0m,\n",
       "\u001b[2;32m│   │   │   \u001b[0m\u001b[32m'Q2 FY25'\u001b[0m: \u001b[1;36m30040\u001b[0m,\n",
       "\u001b[2;32m│   │   │   \u001b[0m\u001b[32m'Q1 FY25'\u001b[0m: \u001b[1;36m26044\u001b[0m,\n",
       "\u001b[2;32m│   │   │   \u001b[0m\u001b[32m'Q2 FY24'\u001b[0m: \u001b[1;36m13507\u001b[0m,\n",
       "\u001b[2;32m│   │   │   \u001b[0m\u001b[32m'Q/Q \u001b[0m\u001b[32m(\u001b[0m\u001b[32m%\u001b[0m\u001b[32m)\u001b[0m\u001b[32m'\u001b[0m: \u001b[1;36m15\u001b[0m,\n",
       "\u001b[2;32m│   │   │   \u001b[0m\u001b[32m'Y/Y \u001b[0m\u001b[32m(\u001b[0m\u001b[32m%\u001b[0m\u001b[32m)\u001b[0m\u001b[32m'\u001b[0m: \u001b[1;36m122\u001b[0m\n",
       "\u001b[2;32m│   │   \u001b[0m\u001b[1m}\u001b[0m\n",
       "\u001b[2;32m│   \u001b[0m\u001b[1m]\u001b[0m\n",
       "\u001b[1m}\u001b[0m\n"
      ]
     },
     "metadata": {},
     "output_type": "display_data"
    }
   ],
   "source": [
    "pprint(json.loads(json_response))"
   ]
  },
  {
   "cell_type": "markdown",
   "metadata": {
    "slideshow": {
     "slide_type": "slide"
    }
   },
   "source": [
    "That is quite astonishing."
   ]
  },
  {
   "cell_type": "markdown",
   "metadata": {
    "slideshow": {
     "slide_type": "slide"
    }
   },
   "source": [
    "Can I go direct from the pdf to json? Let's try it!"
   ]
  },
  {
   "cell_type": "markdown",
   "metadata": {
    "slideshow": {
     "slide_type": "slide"
    }
   },
   "source": [
    "## Balance sheet"
   ]
  },
  {
   "cell_type": "markdown",
   "metadata": {
    "slideshow": {
     "slide_type": "slide"
    }
   },
   "source": [
    "Let's get the full balance sheet."
   ]
  },
  {
   "cell_type": "code",
   "execution_count": 42,
   "metadata": {
    "slideshow": {
     "slide_type": "slide"
    }
   },
   "outputs": [],
   "source": [
    "response = generate(system_table_prompt, financials, temperature=0.0)"
   ]
  },
  {
   "cell_type": "code",
   "execution_count": 44,
   "metadata": {
    "slideshow": {
     "slide_type": "slide"
    }
   },
   "outputs": [
    {
     "name": "stdout",
     "output_type": "stream",
     "text": [
      "```markdown\n",
      "# NVIDIA CORPORATION\n",
      "## RECONCILIATION OF GAAP TO NON-GAAP FINANCIAL MEASURES\n",
      "*(In millions, except per share data)*  \n",
      "*(Unaudited)*\n",
      "\n",
      "### Three Months Ended\n",
      "\n",
      "| Description                              | July 28, 2024 | April 28, 2024 | July 30, 2023 |\n",
      "|------------------------------------------|---------------|---------------|---------------|\n",
      "| **GAAP gross profit**                    | $22,574       | $20,406       | $9,462        |\n",
      "| **GAAP gross margin**                    | 75.1%         | 78.4%         | 70.1%         |\n",
      "| Acquisition-related and other costs (A)  | 118           | 119           | 119           |\n",
      "| Stock-based compensation expense (B)     | 40            | 36            | 31            |\n",
      "| Other (C)                                | (3)           | (1)           | 2             |\n",
      "| **Non-GAAP gross profit**                | $22,729       | $20,560       | $9,614        |\n",
      "| **Non-GAAP gross margin**                | 75.7%         | 78.9%         | 71.2%         |\n",
      "| **GAAP operating expenses**              | $3,932        | $3,497        | $2,662        |\n",
      "| Stock-based compensation expense (B)     | (1,114)       | (975)         | (811)         |\n",
      "| Acquisition-related and other costs (A)  | (26)          | (21)          | (18)          |\n",
      "| Other (C)                                | —             | —             | 5             |\n",
      "| **Non-GAAP operating expenses**          | $2,792        | $2,501        | $1,838        |\n",
      "| **GAAP operating income**                | $18,642       | $16,909       | $6,800        |\n",
      "| Total impact of non-GAAP adjustments     | 1,295         | 1,150         | 976           |\n",
      "| **Non-GAAP operating income**            | $19,937       | $18,059       | $7,776        |\n",
      "| **GAAP other income (expense), net**     | $572          | $370          | $181          |\n",
      "| Gains from non-affiliated investments    | (193)         | (69)          | (62)          |\n",
      "| Interest expense related to debt         | 1             | 1             | 1             |\n",
      "| **Non-GAAP other income (expense), net** | $380          | $302          | $120          |\n",
      "| **GAAP net income**                      | $16,599       | $14,881       | $6,188        |\n",
      "| Total pre-tax impact of non-GAAP         | 1,103         | 1,082         | 915           |\n",
      "| Income tax impact of non-GAAP (D)        | (750)         | (725)         | (363)         |\n",
      "| **Non-GAAP net income**                  | $16,952       | $15,238       | $6,740        |\n",
      "\n",
      "### Six Months Ended\n",
      "\n",
      "| Description                              | July 28, 2024 | July 30, 2023 |\n",
      "|------------------------------------------|---------------|---------------|\n",
      "| **GAAP gross profit**                    | $42,979       | $14,110       |\n",
      "| **GAAP gross margin**                    | 76.6%         | 68.2%         |\n",
      "| Acquisition-related and other costs (A)  | 238           | 239           |\n",
      "| Stock-based compensation expense (B)     | 75            | 58            |\n",
      "| Other (C)                                | (4)           | 10            |\n",
      "| **Non-GAAP gross profit**                | $43,288       | $14,417       |\n",
      "| **Non-GAAP gross margin**                | 77.2%         | 69.7%         |\n",
      "| **GAAP operating expenses**              | $7,428        | $5,169        |\n",
      "| Stock-based compensation expense (B)     | (2,089)       | (1,518)       |\n",
      "| Acquisition-related and other costs (A)  | (48)          | (72)          |\n",
      "| Other (C)                                | —             | 10            |\n",
      "| **Non-GAAP operating expenses**          | $5,291        | $3,589        |\n",
      "| **GAAP operating income**                | $35,551       | $8,941        |\n",
      "| Total impact of non-GAAP adjustments     | 2,446         | 1,887         |\n",
      "| **Non-GAAP operating income**            | $37,997       | $10,828       |\n",
      "| **GAAP other income (expense), net**     | $942          | $249          |\n",
      "| Gains from non-affiliated investments    | (264)         | (46)          |\n",
      "| Interest expense related to debt         | 2             | 2             |\n",
      "| **Non-GAAP other income (expense), net** | $680          | $205          |\n",
      "| **GAAP net income**                      | $31,480       | $8,232        |\n",
      "| Total pre-tax impact of non-GAAP         | 2,184         | 1,843         |\n",
      "| Income tax impact of non-GAAP (D)        | (1,475)       | (622)         |\n",
      "| **Non-GAAP net income**                  | $32,189       | $9,453        |\n",
      "\n",
      "### Diluted Net Income Per Share\n",
      "\n",
      "| Description                              | Three Months Ended | Six Months Ended |\n",
      "|------------------------------------------|--------------------|------------------|\n",
      "| **GAAP**                                 |                    |                  |\n",
      "| July 28, 2024                            | $0.67              | $1.27            |\n",
      "| April 28, 2024                           | $0.60              |                  |\n",
      "| July 30, 2023                            | $0.25              | $0.33            |\n",
      "| **Non-GAAP**                             |                    |                  |\n",
      "| July 28, 2024                            | $0.68              | $1.29            |\n",
      "| April 28, 2024                           | $0.61              |                  |\n",
      "| July 30, 2023                            | $0.27              | $0.38            |\n",
      "| **Weighted average shares**              |                    |                  |\n",
      "| July 28, 2024                            | 24,848             | 24,869           |\n",
      "| April 28, 2024                           | 24,890             |                  |\n",
      "| July 30, 2023                            | 24,994             | 24,948           |\n",
      "\n",
      "### GAAP Net Cash Provided by Operating Activities\n",
      "\n",
      "| Description                              | Three Months Ended | Six Months Ended |\n",
      "|------------------------------------------|--------------------|------------------|\n",
      "| **GAAP net cash provided by operating activities** |                    |                  |\n",
      "| July 28, 2024                            | $14,489            | $29,833          |\n",
      "| April 28, 2024                           | $15,345            |                  |\n",
      "| July 30, 2023                            | $6,348             | $9,259           |\n",
      "| **Purchases related to property and equipment and intangible assets** |                    |                  |\n",
      "| July 28, 2024                            | (977)              | (1,346)          |\n",
      "| April 28, 2024                           | (369)              |                  |\n",
      "| July 30, 2023                            | (289)              | (537)            |\n",
      "| **Principal payments on property and equipment and intangible assets** |                    |                  |\n",
      "| July 28, 2024                            | (29)               | (69)             |\n",
      "| April 28, 2024                           | (40)               |                  |\n",
      "| July 30, 2023                            | (11)               | (31)             |\n",
      "| **Free cash flow**                       |                    |                  |\n",
      "| July 28, 2024                            | $13,483            | $28,418          |\n",
      "| April 28, 2024                           | $14,936            |                  |\n",
      "| July 30, 2023                            | $6,048             | $8,691           |\n",
      "\n",
      "### Notes\n",
      "\n",
      "- **(A)** Acquisition-related and other costs are comprised of amortization of intangible assets, transaction costs, and certain compensation charges.\n",
      "- **(B)** Stock-based compensation consists of costs related to revenue, research and development, and sales, general and administrative expenses.\n",
      "- **(C)** Other consists of IP-related costs and assets held for sale related adjustments.\n",
      "- **(D)** Income tax impact of non-GAAP adjustments, including the recognition of excess tax benefits or deficiencies related to stock-based compensation under GAAP accounting standard (ASU 2016-09).\n",
      "\n",
      "## RECONCILIATION OF GAAP TO NON-GAAP OUTLOOK\n",
      "### Q3 FY2025 Outlook\n",
      "*(In millions)*\n",
      "\n",
      "| Description                              | Amount           |\n",
      "|------------------------------------------|------------------|\n",
      "| **GAAP gross margin**                    | 74.4%            |\n",
      "| Impact of stock-based compensation expense, acquisition-related costs, and other costs | 0.6%             |\n",
      "| **Non-GAAP gross margin**                | 75.0%            |\n",
      "| **GAAP operating expenses**              | $4,250           |\n",
      "| Stock-based compensation expense, acquisition-related costs, and other costs | (1,250)          |\n",
      "| **Non-GAAP operating expenses**          | $3,000           |\n",
      "```\n"
     ]
    }
   ],
   "source": [
    "print(response.choices[0].message.content)"
   ]
  },
  {
   "cell_type": "markdown",
   "metadata": {
    "slideshow": {
     "slide_type": "slide"
    }
   },
   "source": [
    "# NVIDIA CORPORATION\n",
    "## RECONCILIATION OF GAAP TO NON-GAAP FINANCIAL MEASURES\n",
    "*(In millions, except per share data)*  \n",
    "*(Unaudited)*  \n",
    "\n",
    "### Three Months Ended\n",
    "| Metric                                   | July 28, 2024 | April 28, 2024 | July 30, 2023 |\n",
    "|------------------------------------------|----------------|----------------|----------------|\n",
    "| GAAP gross profit                        | $22,574        | $20,406        | $9,462         |\n",
    "| GAAP gross margin                        | 75.1%          | 78.4%          | 70.1%          |\n",
    "| Acquisition-related and other costs (A)  | $118           | $119           | $119           |\n",
    "| Stock-based compensation expense (B)    | $40            | $36            | $31            |\n",
    "| Other (C)                               | $(3)           | $(1)           | $2             |\n",
    "| Non-GAAP gross profit                   | $22,729        | $20,560        | $9,614         |\n",
    "| Non-GAAP gross margin                   | 75.7%          | 78.9%          | 71.2%          |\n",
    "| GAAP operating expenses                  | $3,932         | $3,497         | $2,662         |\n",
    "| Stock-based compensation expense (B)    | $(1,114)       | $(975)         | $(811)         |\n",
    "| Acquisition-related and other costs (A) | $(26)          | $(21)          | $(18)          |\n",
    "| Other (C)                               | $0             | $0             | $5             |\n",
    "| Non-GAAP operating expenses               | $2,792         | $2,501         | $1,838         |\n",
    "| GAAP operating income                    | $18,642        | $16,909        | $6,800         |\n",
    "| Total impact of non-GAAP adjustments to operating income | $1,295 | $1,150 | $976 |\n",
    "| Non-GAAP operating income                | $19,937        | $18,059        | $7,776         |\n",
    "| GAAP other income (expense), net        | $572           | $370           | $181           |\n",
    "| Gains from non-affiliated investments and publicly-held equity securities, net | $(193) | $(69) | $(62) |\n",
    "| Interest expense related to amortization of debt discount | $1 | $1 | $1 |\n",
    "| Non-GAAP other income (expense), net    | $380           | $302           | $120           |\n",
    "| GAAP net income                          | $16,599        | $14,881        | $6,188         |\n",
    "| Total pre-tax impact of non-GAAP adjustments | $1,103     | $1,082         | $915           |\n",
    "| Income tax impact of non-GAAP adjustments (D) | $(750)    | $(725)         | $(363)         |\n",
    "| Non-GAAP net income                      | $16,952        | $15,238        | $6,740         |\n",
    "\n",
    "### Six Months Ended\n",
    "| Metric                                   | July 28, 2024 | July 30, 2023 |\n",
    "|------------------------------------------|----------------|----------------|\n",
    "| GAAP gross profit                        | $42,979        | $14,110        |\n",
    "| GAAP gross margin                        | 76.6%          | 68.2%          |\n",
    "| Acquisition-related and other costs (A)  | $238           | $239           |\n",
    "| Stock-based compensation expense (B)    | $75            | $58            |\n",
    "| Other (C)                               | $(4)           | $10            |\n",
    "| Non-GAAP gross profit                   | $43,288        | $14,417        |\n",
    "| Non-GAAP gross margin                   | 77.2%          | 69.7%          |\n",
    "| GAAP operating expenses                  | $7,428         | $5,169         |\n",
    "| Stock-based compensation expense (B)    | $(2,089)       | $(1,518)       |\n",
    "| Acquisition-related and other costs (A) | $(48)          | $(72)          |\n",
    "| Other (C)                               | $0             | $10            |\n",
    "| Non-GAAP operating expenses               | $5,291         | $3,589         |\n",
    "| GAAP operating income                    | $35,551        | $8,941         |\n",
    "| Total impact of non-GAAP adjustments to operating income | $2,446 | $1,887 |\n",
    "| Non-GAAP operating income                | $37,997        | $10,828        |\n",
    "| GAAP other income (expense), net        | $942           | $249           |\n",
    "| Gains from non-affiliated investments and publicly-held equity securities, net | $(264) | $(46) |\n",
    "| Interest expense related to amortization of debt discount | $2 | $2 |\n",
    "| Non-GAAP other income (expense), net    | $680           | $205           |\n",
    "| GAAP net income                          | $31,480        | $8,232         |\n",
    "| Total pre-tax impact of non-GAAP adjustments | $2,184     | $1,843         |\n",
    "| Income tax impact of non-GAAP adjustments (D) | $(1,475) | $(622)         |\n",
    "| Non-GAAP net income                      | $32,189        | $9,453         |\n",
    "\n",
    "### Diluted net income per share\n",
    "| Metric                                   | July 28, 2024 | April 28, 2024 | July 30, 2023 |\n",
    "|------------------------------------------|----------------|----------------|----------------|\n",
    "| GAAP                                     | $0.67          | $0.60          | $0.25          |\n",
    "| Non-GAAP                                 | $0.68          | $0.61          | $0.27          |\n",
    "| Weighted average shares used in diluted net income per share computation | 24,848 | 24,890 | 24,994 |\n",
    "\n",
    "### GAAP net cash provided by operating activities\n",
    "| Metric                                   | July 28, 2024 | April 28, 2024 | July 30, 2023 |\n",
    "|------------------------------------------|----------------|----------------|----------------|\n",
    "| GAAP net cash provided by operating activities | $14,489 | $15,345 | $6,348 |\n",
    "| Purchases related to property and equipment and intangible assets | $(977) | $(369) | $(289) |\n",
    "| Principal payments on property and equipment and intangible assets | $(29) | $(40) | $(11) |\n",
    "| Free cash flow                           | $13,483        | $14,936        | $6,048         |\n",
    "\n",
    "### Notes\n",
    "- (A) Acquisition-related and other costs are comprised of amortization of intangible assets, transaction costs, and certain compensation charges.\n",
    "- (B) Stock-based compensation consists of costs related to revenue, research and development, and sales, general and administrative.\n",
    "- (C) Other consists of IP-related costs and assets held for sale related adjustments.\n",
    "- (D) Income tax impact of non-GAAP adjustments, including the recognition of excess tax benefits or deficiencies related to stock-based compensation under GAAP accounting standard (ASU 2016-09).\n",
    "\n",
    "## RECONCILIATION OF GAAP TO NON-GAAP OUTLOOK\n",
    "### Q3 FY2025 Outlook\n",
    "| Metric                                   | Amount         |\n",
    "|------------------------------------------|----------------|\n",
    "| GAAP gross margin                        | 74.4%          |\n",
    "| Impact of stock-based compensation expense, acquisition-related costs, and other costs | 0.6% |\n",
    "| Non-GAAP gross margin                   | 75.0%          |\n",
    "| GAAP operating expenses                  | $4,250         |\n",
    "| Stock-based compensation expense, acquisition-related costs, and other costs | $(1,250) |\n",
    "| Non-GAAP operating expenses               | $3,000         |"
   ]
  },
  {
   "cell_type": "markdown",
   "metadata": {
    "slideshow": {
     "slide_type": "slide"
    }
   },
   "source": [
    "OK...that's pretty good!"
   ]
  },
  {
   "cell_type": "markdown",
   "metadata": {
    "slideshow": {
     "slide_type": "slide"
    }
   },
   "source": [
    "## Attention is not always enough..."
   ]
  },
  {
   "cell_type": "markdown",
   "metadata": {
    "slideshow": {
     "slide_type": "slide"
    }
   },
   "source": [
    "Now let's look at some documents that are more complicated..."
   ]
  },
  {
   "cell_type": "code",
   "execution_count": 45,
   "metadata": {
    "slideshow": {
     "slide_type": "slide"
    }
   },
   "outputs": [],
   "source": [
    "attention = loader.load(file_path=\"data/attention.pdf\")"
   ]
  },
  {
   "cell_type": "markdown",
   "metadata": {
    "slideshow": {
     "slide_type": "slide"
    }
   },
   "source": [
    "There are 4 tables in this paper. Let's see if we can extract these tables and save them in markdown format.\n",
    "\n",
    "We will approach this in a multi-stage way:\n",
    "\n",
    "For each page in the paper:\n",
    "1. Determine whether or not there is a table on this page. The LLM takes as input the text of the page and outputs a boolean value.\n",
    "\n",
    "2. If the LLM outputs True, then we will use another LLM to extract the table from the page. The LLM takes as input the text of the page and outputs the table in markdown format.\n",
    "\n",
    "3. Save the table in markdown format."
   ]
  },
  {
   "cell_type": "code",
   "execution_count": 44,
   "metadata": {
    "slideshow": {
     "slide_type": "slide"
    }
   },
   "outputs": [],
   "source": [
    "attention = loader.load(file_path=\"data/attention.pdf\")"
   ]
  },
  {
   "cell_type": "markdown",
   "metadata": {
    "slideshow": {
     "slide_type": "slide"
    }
   },
   "source": [
    "Tables occur on pages 6, 8, 9, and 10."
   ]
  },
  {
   "cell_type": "code",
   "execution_count": 46,
   "metadata": {
    "slideshow": {
     "slide_type": "slide"
    }
   },
   "outputs": [],
   "source": [
    "import numpy as np\n",
    "\n",
    "targets = np.zeros(len(attention))\n",
    "targets[[5,7,8,9]] = 1"
   ]
  },
  {
   "cell_type": "code",
   "execution_count": 47,
   "metadata": {
    "slideshow": {
     "slide_type": "slide"
    }
   },
   "outputs": [
    {
     "data": {
      "text/plain": [
       "'Provided proper attribution is provided, Google hereby grants permission to\\nreproduce the tables and figures in this paper solely for use in journalistic or\\nscholarly works.\\nAttention Is All You Need\\nAshish Vaswani∗\\nGoogle Brain\\navaswani@google.com\\nNoam Shazeer∗\\nGoogle Brain\\nnoam@google.com\\nNiki Parmar∗\\nGoogle Research\\nnikip@google.com\\nJakob Uszkoreit∗\\nGoogle Research\\nusz@google.com\\nLlion Jones∗\\nGoogle Research\\nllion@google.com\\nAidan N. Gomez∗†\\nUniversity of Toronto\\naidan@cs.toronto.edu\\nŁukasz Kaiser∗\\nGoogle Brain\\nlukaszkaiser@google.com\\nIllia Polosukhin∗‡\\nillia.polosukhin@gmail.com\\nAbstract\\nThe dominant sequence transduction models are based on complex recurrent or\\nconvolutional neural networks that include an encoder and a decoder. The best\\nperforming models also connect the encoder and decoder through an attention\\nmechanism. We propose a new simple network architecture, the Transformer,\\nbased solely on attention mechanisms, dispensing with recurrence and convolutions\\nentirely. Experiments on two machine translation tasks show these models to\\nbe superior in quality while being more parallelizable and requiring significantly\\nless time to train. Our model achieves 28.4 BLEU on the WMT 2014 English-\\nto-German translation task, improving over the existing best results, including\\nensembles, by over 2 BLEU. On the WMT 2014 English-to-French translation task,\\nour model establishes a new single-model state-of-the-art BLEU score of 41.8 after\\ntraining for 3.5 days on eight GPUs, a small fraction of the training costs of the\\nbest models from the literature. We show that the Transformer generalizes well to\\nother tasks by applying it successfully to English constituency parsing both with\\nlarge and limited training data.\\n∗Equal contribution. Listing order is random. Jakob proposed replacing RNNs with self-attention and started\\nthe effort to evaluate this idea. Ashish, with Illia, designed and implemented the first Transformer models and\\nhas been crucially involved in every aspect of this work. Noam proposed scaled dot-product attention, multi-head\\nattention and the parameter-free position representation and became the other person involved in nearly every\\ndetail. Niki designed, implemented, tuned and evaluated countless model variants in our original codebase and\\ntensor2tensor. Llion also experimented with novel model variants, was responsible for our initial codebase, and\\nefficient inference and visualizations. Lukasz and Aidan spent countless long days designing various parts of and\\nimplementing tensor2tensor, replacing our earlier codebase, greatly improving results and massively accelerating\\nour research.\\n†Work performed while at Google Brain.\\n‡Work performed while at Google Research.\\n31st Conference on Neural Information Processing Systems (NIPS 2017), Long Beach, CA, USA.\\narXiv:1706.03762v7  [cs.CL]  2 Aug 2023\\n'"
      ]
     },
     "execution_count": 47,
     "metadata": {},
     "output_type": "execute_result"
    }
   ],
   "source": [
    "attention[0].text"
   ]
  },
  {
   "cell_type": "markdown",
   "metadata": {
    "slideshow": {
     "slide_type": "slide"
    }
   },
   "source": [
    "We write a prompt to find the pages with tables:\n",
    "\n",
    "---\n",
    "```jinja\n",
    "You are an expert in finding tables in documents. You will be shown a page from a document and you will indicate whether or not a table exists within that document.\n",
    "\n",
    "Output only a 0 for no table and a 1 for a table.\n",
    "    \n",
    "For the following page, is there a table present?\n",
    "```"
   ]
  },
  {
   "cell_type": "code",
   "execution_count": 55,
   "metadata": {
    "slideshow": {
     "slide_type": "slide"
    }
   },
   "outputs": [],
   "source": [
    "results = np.zeros(len(attention))\n",
    "for i, page in enumerate(attention):\n",
    "    table_find_prompt = template_manager.render(\n",
    "        'table_find.jinja',\n",
    "    )\n",
    "\n",
    "    response = generate(table_find_prompt, page.text, temperature=0.7)\n",
    "\n",
    "    results[i] = int(response.choices[0].message.content)"
   ]
  },
  {
   "cell_type": "code",
   "execution_count": 56,
   "metadata": {
    "slideshow": {
     "slide_type": "slide"
    }
   },
   "outputs": [
    {
     "name": "stdout",
     "output_type": "stream",
     "text": [
      "Tables found on pages: 4, 6, 7, 8, 9, 10\n"
     ]
    }
   ],
   "source": [
    "print(\n",
    "    \"Tables found on pages: \"\n",
    "    + \", \".join([str(i + 1) for i, v in enumerate(results) if v])\n",
    ")"
   ]
  },
  {
   "cell_type": "markdown",
   "metadata": {
    "slideshow": {
     "slide_type": "slide"
    }
   },
   "source": [
    "Let's put those pages into the model again and see if we can extract the table as markdown and save it to a .md file."
   ]
  },
  {
   "cell_type": "code",
   "execution_count": 57,
   "metadata": {
    "slideshow": {
     "slide_type": "slide"
    }
   },
   "outputs": [],
   "source": [
    "# get the pages from attention where there are tables\n",
    "table_pages = [page for i, page in enumerate(attention) if results[i]]"
   ]
  },
  {
   "cell_type": "code",
   "execution_count": 61,
   "metadata": {
    "slideshow": {
     "slide_type": "slide"
    }
   },
   "outputs": [],
   "source": [
    "results = np.zeros(len(attention))\n",
    "for i, page in enumerate(table_pages):\n",
    "    table_find_prompt = template_manager.render(\n",
    "        'table_extract.jinja',\n",
    "    )\n",
    "\n",
    "    response = generate(table_find_prompt, page.text, temperature=0.0).choices[0].message.content\n",
    "\n",
    "    # remove markdown formatting if they exist\n",
    "    response = response.replace(\"```\", \"\")\n",
    "    response = response.replace(\"```markdown\", \"\")\n",
    "\n",
    "    # save the table as a .md\n",
    "    with open(f'data/tables/page_{i + 1}.md', 'w') as f:\n",
    "        f.write(response)\n"
   ]
  },
  {
   "cell_type": "markdown",
   "metadata": {
    "slideshow": {
     "slide_type": "slide"
    }
   },
   "source": [
    "So this does not go as well as we had hoped. Let's try using Table Transformer, a Microsoft tool that is specifically designed for extracting tables from documents."
   ]
  },
  {
   "cell_type": "markdown",
   "metadata": {
    "slideshow": {
     "slide_type": "slide"
    }
   },
   "source": [
    "## Table Transformer"
   ]
  },
  {
   "cell_type": "code",
   "execution_count": 64,
   "metadata": {
    "slideshow": {
     "slide_type": "slide"
    }
   },
   "outputs": [
    {
     "name": "stderr",
     "output_type": "stream",
     "text": [
      "/Users/rkd/Antipodes-Intelligence/spark-llms/Course2/Module2/v1-llm02-m2-01/venv/lib/python3.11/site-packages/tqdm/auto.py:21: TqdmWarning: IProgress not found. Please update jupyter and ipywidgets. See https://ipywidgets.readthedocs.io/en/stable/user_install.html\n",
      "  from .autonotebook import tqdm as notebook_tqdm\n"
     ]
    }
   ],
   "source": [
    "\n",
    "import matplotlib.pyplot as plt\n",
    "import io\n",
    "from PIL import Image\n",
    "\n",
    "from torchvision import transforms\n",
    "\n",
    "from transformers import AutoModelForObjectDetection\n",
    "import torch\n",
    "import os\n",
    "import fitz"
   ]
  },
  {
   "cell_type": "markdown",
   "metadata": {
    "slideshow": {
     "slide_type": "slide"
    }
   },
   "source": [
    "The following is just a bunch of processing code."
   ]
  },
  {
   "cell_type": "code",
   "execution_count": 76,
   "metadata": {
    "slideshow": {
     "slide_type": "slide"
    }
   },
   "outputs": [],
   "source": [
    "class MaxResize(object):\n",
    "    def __init__(self, max_size=800):\n",
    "        self.max_size = max_size\n",
    "\n",
    "    def __call__(self, image):\n",
    "        width, height = image.size\n",
    "        current_max_size = max(width, height)\n",
    "        scale = self.max_size / current_max_size\n",
    "        resized_image = image.resize(\n",
    "            (int(round(scale * width)), int(round(scale * height)))\n",
    "        )\n",
    "\n",
    "        return resized_image\n",
    "\n",
    "\n",
    "detection_transform = transforms.Compose(\n",
    "    [\n",
    "        MaxResize(800),\n",
    "        transforms.ToTensor(),\n",
    "        transforms.Normalize([0.485, 0.456, 0.406], [0.229, 0.224, 0.225]),\n",
    "    ]\n",
    ")\n",
    "\n",
    "structure_transform = transforms.Compose(\n",
    "    [\n",
    "        MaxResize(1000),\n",
    "        transforms.ToTensor(),\n",
    "        transforms.Normalize([0.485, 0.456, 0.406], [0.229, 0.224, 0.225]),\n",
    "    ]\n",
    ")\n",
    "\n",
    "# load table detection model\n",
    "# processor = TableTransformerImageProcessor(max_size=800)\n",
    "model = AutoModelForObjectDetection.from_pretrained(\n",
    "    \"microsoft/table-transformer-detection\", revision=\"no_timm\"\n",
    ")\n",
    "\n",
    "# load table structure recognition model\n",
    "# structure_processor = TableTransformerImageProcessor(max_size=1000)\n",
    "structure_model = AutoModelForObjectDetection.from_pretrained(\n",
    "    \"microsoft/table-transformer-structure-recognition-v1.1-all\"\n",
    ")\n",
    "\n",
    "\n",
    "# for output bounding box post-processing\n",
    "def box_cxcywh_to_xyxy(x):\n",
    "    x_c, y_c, w, h = x.unbind(-1)\n",
    "    b = [(x_c - 0.5 * w), (y_c - 0.5 * h), (x_c + 0.5 * w), (y_c + 0.5 * h)]\n",
    "    return torch.stack(b, dim=1)\n",
    "\n",
    "\n",
    "def rescale_bboxes(out_bbox, size):\n",
    "    width, height = size\n",
    "    boxes = box_cxcywh_to_xyxy(out_bbox)\n",
    "    boxes = boxes * torch.tensor(\n",
    "        [width, height, width, height], dtype=torch.float32\n",
    "    )\n",
    "    return boxes\n",
    "\n",
    "\n",
    "def outputs_to_objects(outputs, img_size, id2label):\n",
    "    m = outputs.logits.softmax(-1).max(-1)\n",
    "    pred_labels = list(m.indices.detach().cpu().numpy())[0]\n",
    "    pred_scores = list(m.values.detach().cpu().numpy())[0]\n",
    "    pred_bboxes = outputs[\"pred_boxes\"].detach().cpu()[0]\n",
    "    pred_bboxes = [\n",
    "        elem.tolist() for elem in rescale_bboxes(pred_bboxes, img_size)\n",
    "    ]\n",
    "\n",
    "    objects = []\n",
    "    for label, score, bbox in zip(pred_labels, pred_scores, pred_bboxes):\n",
    "        class_label = id2label[int(label)]\n",
    "        if not class_label == \"no object\":\n",
    "            objects.append(\n",
    "                {\n",
    "                    \"label\": class_label,\n",
    "                    \"score\": float(score),\n",
    "                    \"bbox\": [float(elem) for elem in bbox],\n",
    "                }\n",
    "            )\n",
    "\n",
    "    return objects\n",
    "\n",
    "\n",
    "def detect_and_crop_save_table(\n",
    "    file_path, cropped_table_directory=\"./table_images/\"\n",
    "):\n",
    "    image = Image.open(file_path)\n",
    "\n",
    "    filename, _ = os.path.splitext(file_path.split(\"/\")[-1])\n",
    "\n",
    "    if not os.path.exists(cropped_table_directory):\n",
    "        os.makedirs(cropped_table_directory)\n",
    "\n",
    "    # prepare image for the model\n",
    "    # pixel_values = processor(image, return_tensors=\"pt\").pixel_values\n",
    "    pixel_values = detection_transform(image).unsqueeze(0)\n",
    "\n",
    "    # forward pass\n",
    "    with torch.no_grad():\n",
    "        outputs = model(pixel_values)\n",
    "\n",
    "    # postprocess to get detected tables\n",
    "    id2label = model.config.id2label\n",
    "    id2label[len(model.config.id2label)] = \"no object\"\n",
    "    detected_tables = outputs_to_objects(outputs, image.size, id2label)\n",
    "\n",
    "    print(f\"number of tables detected {len(detected_tables)}\")\n",
    "\n",
    "    for idx in range(len(detected_tables)):\n",
    "        #   # crop detected table out of image\n",
    "        cropped_table = image.crop(detected_tables[idx][\"bbox\"])\n",
    "        cropped_table.save(f\"./{cropped_table_directory}/{filename}_{idx}.png\")\n"
   ]
  },
  {
   "cell_type": "code",
   "execution_count": 68,
   "metadata": {
    "slideshow": {
     "slide_type": "slide"
    }
   },
   "outputs": [],
   "source": [
    "pdf_file = \"data/attention.pdf\"\n",
    "\n",
    "# Split the base name and extension\n",
    "output_directory_path, _ = os.path.splitext(pdf_file)\n",
    "\n",
    "if not os.path.exists(output_directory_path):\n",
    "    os.makedirs(output_directory_path)\n",
    "\n",
    "# Open the PDF file\n",
    "pdf_document = fitz.open(pdf_file)\n",
    "\n",
    "# Iterate through each page and convert to an image\n",
    "for page_number in range(pdf_document.page_count):\n",
    "    # Get the page\n",
    "    page = pdf_document[page_number]\n",
    "\n",
    "    # Convert the page to an image\n",
    "    pix = page.get_pixmap()\n",
    "\n",
    "    # Create a Pillow Image object from the pixmap\n",
    "    image = Image.frombytes(\"RGB\", [pix.width, pix.height], pix.samples)\n",
    "\n",
    "    # Save the image\n",
    "    image.save(f\"./{output_directory_path}/page_{page_number + 1}.png\")\n",
    "\n",
    "# Close the PDF file\n",
    "pdf_document.close()"
   ]
  },
  {
   "cell_type": "code",
   "execution_count": 70,
   "metadata": {
    "slideshow": {
     "slide_type": "slide"
    }
   },
   "outputs": [
    {
     "name": "stdout",
     "output_type": "stream",
     "text": [
      "number of tables detected 1\n",
      "number of tables detected 1\n",
      "number of tables detected 1\n",
      "number of tables detected 1\n",
      "number of tables detected 0\n",
      "number of tables detected 1\n",
      "number of tables detected 1\n",
      "number of tables detected 1\n",
      "number of tables detected 2\n",
      "number of tables detected 0\n",
      "number of tables detected 1\n",
      "number of tables detected 1\n",
      "number of tables detected 0\n",
      "number of tables detected 1\n",
      "number of tables detected 1\n"
     ]
    }
   ],
   "source": [
    "import glob\n",
    "\n",
    "table_images_paths = glob.glob(f\"{output_directory_path}/*.png\")\n",
    "\n",
    "for image_path in table_images_paths:\n",
    "    detect_and_crop_save_table(image_path)"
   ]
  },
  {
   "cell_type": "code",
   "execution_count": 71,
   "metadata": {
    "slideshow": {
     "slide_type": "slide"
    }
   },
   "outputs": [],
   "source": [
    "import glob\n",
    "\n",
    "table_images_paths = glob.glob(\"./table_images/*.png\")"
   ]
  },
  {
   "cell_type": "markdown",
   "metadata": {
    "slideshow": {
     "slide_type": "slide"
    }
   },
   "source": [
    "OK, so this isn't perfect. We need to first ask the model if a table even exists within the image, and if so, we can then extract the table. Let's try this approach."
   ]
  },
  {
   "cell_type": "markdown",
   "metadata": {
    "slideshow": {
     "slide_type": "slide"
    }
   },
   "source": [
    "In order to feed images into an OpenAI model, we need to convert it into base64 format."
   ]
  },
  {
   "cell_type": "code",
   "execution_count": 77,
   "metadata": {
    "slideshow": {
     "slide_type": "slide"
    }
   },
   "outputs": [],
   "source": [
    "import base64\n",
    "\n",
    "# Function to encode the image\n",
    "def encode_image(image_path):\n",
    "    with open(image_path, \"rb\") as image_file:\n",
    "        return base64.b64encode(image_file.read()).decode('utf-8')"
   ]
  },
  {
   "cell_type": "code",
   "execution_count": 78,
   "metadata": {
    "slideshow": {
     "slide_type": "slide"
    }
   },
   "outputs": [],
   "source": [
    "base64_image = encode_image('table_images/page_8_0.png')\n",
    "\n",
    "prompt = (\n",
    "    \"You are an expert in image recognition and are asked to determine if there is a table in the image. \"\n",
    "    \"If there is a table in the image, then place the table into a markdown table format. \"\n",
    "    \"Respond only with the markdown table format. Do not include any other information. \"\n",
    "    \"Do not include any tags.\"\n",
    ")\n",
    "\n",
    "response = client.chat.completions.create(\n",
    "  model=\"gpt-4o\",\n",
    "  messages=[\n",
    "    {\n",
    "      \"role\": \"user\",\n",
    "      \"content\": [\n",
    "        {\n",
    "          \"type\": \"text\",\n",
    "          \"text\": prompt,\n",
    "        },\n",
    "        {\n",
    "          \"type\": \"image_url\",\n",
    "          \"image_url\": {\n",
    "            \"url\":  f\"data:image/jpeg;base64,{base64_image}\"\n",
    "          },\n",
    "        },\n",
    "      ],\n",
    "    }\n",
    "  ],\n",
    ")\n"
   ]
  },
  {
   "cell_type": "code",
   "execution_count": 75,
   "metadata": {
    "slideshow": {
     "slide_type": "slide"
    }
   },
   "outputs": [
    {
     "name": "stdout",
     "output_type": "stream",
     "text": [
      "```\n",
      "| Model                              | BLEU  | BLEU  | Training Cost (FLOPs) | Training Cost (FLOPs) |\n",
      "|------------------------------------|-------|-------|-----------------------|-----------------------|\n",
      "|                                    | EN-DE | EN-FR | EN-DE                 | EN-FR                 |\n",
      "| ByteNet [18]                       | 23.75 |       |                       |                       |\n",
      "| Deep-Att + PosUnk [39]             |       | 39.2  |                       | 1.0 ⋅ 10¹⁹           |\n",
      "| GNMT + RL [38]                     | 24.6  | 39.92 | 2.3 ⋅ 10¹⁸            | 1.0 ⋅ 10²⁰           |\n",
      "| ConvS2S [9]                        | 25.16 | 40.46 | 6.2 ⋅ 10¹⁶            |                       |\n",
      "| MoE [32]                           | 26.03 | 40.56 | 2.0 ⋅ 10¹⁸            | 1.7 ⋅ 10¹⁹           |\n",
      "| Deep-Att + PosUnk Ensemble [39]    |       |       |                       |                       |\n",
      "| GNMT + RL Ensemble [38]            | 26.30 | 41.16 | 1.1 ⋅ 10¹⁹            | 1.1 ⋅ 10¹²           |\n",
      "| ConvS2S Ensemble [9]               | 26.36 | 41.29 | 7.7 ⋅ 10¹⁷            | 1.0 ⋅ 10¹⁹           |\n",
      "| Transformer (base model)           | 27.3  | 38.1  | 3.3 ⋅ 10¹⁸            |                       |\n",
      "| Transformer (big)                  | 28.4  | 41.8  | 2.3 ⋅ 10¹⁹            |                       |\n",
      "```\n"
     ]
    }
   ],
   "source": [
    "print(response.choices[0].message.content)"
   ]
  },
  {
   "cell_type": "markdown",
   "metadata": {
    "slideshow": {
     "slide_type": "slide"
    }
   },
   "source": [
    "Well that didn't go so well. This highlights a key lesson in extracting tables from documents: it's not always easy!"
   ]
  },
  {
   "cell_type": "markdown",
   "metadata": {
    "slideshow": {
     "slide_type": "slide"
    }
   },
   "source": [
    "## Extracting other images\n",
    "We've seen how to turn pdfs into images, and feed images into the model. It is also possible to extract images from pdfs.\n",
    "\n"
   ]
  },
  {
   "cell_type": "markdown",
   "metadata": {
    "slideshow": {
     "slide_type": "slide"
    }
   },
   "source": [
    "`xref` (cross-reference) and `mref` (mask reference) are how PDFs internally handle images and their transparency:\n",
    "\n",
    "1. `xref` (Image Cross Reference):\n",
    "- This is like an internal \"pointer\" or ID number that tells where the actual image data is stored in the PDF\n",
    "- Every object in a PDF (images, fonts, text) gets a unique reference number\n",
    "- Think of it like an index entry saying \"the image data is on page 247 of the PDF file\"\n",
    "- The `xref` points to the raw image data (colors, pixels, etc.)\n",
    "\n",
    "2. `mref` (Mask Reference):\n",
    "- This is a companion reference that points to transparency/alpha channel data\n",
    "- It defines which parts of the image should be transparent or semi-transparent\n",
    "- Not all images have masks (in which case `mref` might be null)\n",
    "- Think of it like a black and white template where:\n",
    "   - Black parts = fully opaque\n",
    "   - White parts = fully transparent\n",
    "   - Gray parts = partially transparent\n",
    "\n",
    "Here's a simple analogy:\n",
    "Imagine you're making a sticker. You have:\n",
    "- The actual picture (`xref`)\n",
    "- A template showing where to cut around the picture (`mref`)\n",
    "\n",
    "When the code does:\n",
    "```python\n",
    "basepix = fitz.Pixmap(doc, xref)  # Get the main image\n",
    "maskpix = fitz.Pixmap(doc, mref)  # Get the transparency mask\n",
    "pix = fitz.Pixmap(basepix, maskpix)  # Combine them\n",
    "```\n",
    "\n",
    "It's like laying the cut-out template (mask) over the picture to create the final image with proper transparency.\n",
    "\n",
    "In PDFs, this two-part system (image + mask) is used because it was developed when storage was expensive, and it was more efficient to store transparency separately from the main image data."
   ]
  },
  {
   "cell_type": "markdown",
   "metadata": {
    "slideshow": {
     "slide_type": "slide"
    }
   },
   "source": [
    "The following function looks for these references and pulls out the images."
   ]
  },
  {
   "cell_type": "code",
   "execution_count": 83,
   "metadata": {
    "slideshow": {
     "slide_type": "slide"
    }
   },
   "outputs": [],
   "source": [
    "def get_images(path: str):\n",
    "    doc = fitz.open(path)\n",
    "    for p, page in enumerate(doc):\n",
    "        images = page.get_images()\n",
    "        if len(images) > 0:\n",
    "            print(f\"Page {p} has {len(images)} images\")\n",
    "            for i, img in enumerate(images):\n",
    "                xref = img[0]\n",
    "                mref = img[1]\n",
    "                basepix = fitz.Pixmap(doc,xref)\n",
    "                maskpix = fitz.Pixmap(doc,mref)\n",
    "                pix = fitz.Pixmap(basepix, maskpix)\n",
    "                # create dir if not exists\n",
    "                if not os.path.exists(f\"./data/images\"):\n",
    "                    os.makedirs(f\"./data/images\")\n",
    "                pix.save(f\"./data/images/page_{p}_image_{i}.png\")\n",
    "    print(\"Done\")"
   ]
  },
  {
   "cell_type": "code",
   "execution_count": 84,
   "metadata": {
    "slideshow": {
     "slide_type": "slide"
    }
   },
   "outputs": [
    {
     "name": "stdout",
     "output_type": "stream",
     "text": [
      "Page 2 has 1 images\n",
      "Page 3 has 2 images\n",
      "Done\n"
     ]
    }
   ],
   "source": [
    "get_images(\"data/attention.pdf\")"
   ]
  },
  {
   "cell_type": "code",
   "execution_count": 86,
   "metadata": {
    "slideshow": {
     "slide_type": "slide"
    }
   },
   "outputs": [
    {
     "data": {
      "image/png": "[encoded data removed]",
      "text/plain": [
       "<Figure size 640x480 with 1 Axes>"
      ]
     },
     "metadata": {},
     "output_type": "display_data"
    }
   ],
   "source": [
    "# load image and display\n",
    "image = Image.open(\"data/images/page_2_image_0.png\")\n",
    "\n",
    "plt.imshow(image)\n",
    "plt.axis(\"off\")\n",
    "plt.show()"
   ]
  },
  {
   "cell_type": "markdown",
   "metadata": {
    "slideshow": {
     "slide_type": "slide"
    }
   },
   "source": [
    "Encoding an image into base64 is lossless, meaning that the image can be reconstructed exactly from the base64 string. This is useful."
   ]
  },
  {
   "cell_type": "code",
   "execution_count": 89,
   "metadata": {
    "slideshow": {
     "slide_type": "slide"
    }
   },
   "outputs": [],
   "source": [
    "import base64\n",
    "from openai import OpenAI\n",
    "\n",
    "# Function to encode the image\n",
    "def encode_image(image_path):\n",
    "    with open(image_path, \"rb\") as image_file:\n",
    "        return base64.b64encode(image_file.read()).decode('utf-8')"
   ]
  },
  {
   "cell_type": "code",
   "execution_count": 92,
   "metadata": {
    "slideshow": {
     "slide_type": "slide"
    }
   },
   "outputs": [],
   "source": [
    "decoded = base64.b64decode(encode_image('data/images/page_2_image_0.png'))"
   ]
  },
  {
   "cell_type": "code",
   "execution_count": 93,
   "metadata": {
    "slideshow": {
     "slide_type": "slide"
    }
   },
   "outputs": [
    {
     "data": {
      "text/plain": [
       "<matplotlib.image.AxesImage at 0x16e4d2f10>"
      ]
     },
     "execution_count": 93,
     "metadata": {},
     "output_type": "execute_result"
    },
    {
     "data": {
      "image/png": "[encoded data removed]",
      "text/plain": [
       "<Figure size 640x480 with 1 Axes>"
      ]
     },
     "metadata": {},
     "output_type": "display_data"
    }
   ],
   "source": [
    "# plot bytes image\n",
    "image = Image.open(io.BytesIO(decoded))\n",
    "plt.imshow(image)"
   ]
  },
  {
   "cell_type": "markdown",
   "metadata": {
    "slideshow": {
     "slide_type": "slide"
    }
   },
   "source": [
    "### Captions"
   ]
  },
  {
   "cell_type": "markdown",
   "metadata": {
    "slideshow": {
     "slide_type": "slide"
    }
   },
   "source": [
    "We have 3 images here. Let's get captions for them."
   ]
  },
  {
   "cell_type": "markdown",
   "metadata": {
    "slideshow": {
     "slide_type": "slide"
    }
   },
   "source": [
    "We create a new template for this.\n",
    "\n",
    "---\n",
    "```jinja\n",
    "You are an expert in image captioning. You will be shown an image and you will write a caption for it. The caption should be as detailed as possible.\n",
    "```\n",
    "---"
   ]
  },
  {
   "cell_type": "code",
   "execution_count": 95,
   "metadata": {
    "slideshow": {
     "slide_type": "slide"
    }
   },
   "outputs": [],
   "source": [
    "caption_template = template_manager.render(\n",
    "    'image_caption.jinja'\n",
    ")"
   ]
  },
  {
   "cell_type": "code",
   "execution_count": 100,
   "metadata": {
    "slideshow": {
     "slide_type": "slide"
    }
   },
   "outputs": [],
   "source": [
    "def image_input(image_path: str, prompt: str) -> str:\n",
    "    base64_image = encode_image(image_path)\n",
    "\n",
    "    response = client.chat.completions.create(\n",
    "        model=\"gpt-4o\",\n",
    "        messages=[\n",
    "            {\n",
    "                \"role\": \"user\",\n",
    "                \"content\": [\n",
    "                    {\n",
    "                        \"type\": \"text\",\n",
    "                        \"text\": prompt,\n",
    "                    },\n",
    "                    {\n",
    "                        \"type\": \"image_url\",\n",
    "                        \"image_url\": {\n",
    "                            \"url\":  f\"data:image/jpeg;base64,{base64_image}\"\n",
    "                        },\n",
    "                    },\n",
    "                ],\n",
    "            }\n",
    "        ],\n",
    "    )\n",
    "\n",
    "    return response"
   ]
  },
  {
   "cell_type": "code",
   "execution_count": 102,
   "metadata": {
    "slideshow": {
     "slide_type": "slide"
    }
   },
   "outputs": [
    {
     "name": "stdout",
     "output_type": "stream",
     "text": [
      "The image depicts a flow chart illustrating steps in a computational process, possibly related to neural network operations or attention mechanisms. The process includes five steps, each represented by a colored rectangle with bold text. \n",
      "\n",
      "1. **MatMul**: The process starts with matrix multiplication, indicated by a purple rectangle labeled \"MatMul.\"\n",
      "2. **SoftMax**: The next step involves applying the softmax function, shown in a green rectangle labeled \"SoftMax.\"\n",
      "3. **Mask (opt.)**: An optional masking step follows, represented by a pink rectangle labeled \"Mask (opt.).\"\n",
      "4. **Scale**: The process then involves scaling, depicted in a yellow rectangle labeled \"Scale.\"\n",
      "5. **MatMul**: Finally, another matrix multiplication is performed, shown once more in a purple rectangle labeled \"MatMul.\"\n",
      "\n",
      "The linear arrangement of these steps suggests a sequential data processing flow.\n"
     ]
    }
   ],
   "source": [
    "captions = []\n",
    "\n",
    "# get image paths in data/images\n",
    "image_paths = glob.glob(\"data/images/*.png\")\n",
    "for path in image_paths:\n",
    "    response = image_input(path, caption_template)\n",
    "    captions.append(response.choices[0].message.content)\n",
    "\n",
    "print(captions[0])"
   ]
  }
 ],
 "metadata": {
  "kernelspec": {
   "display_name": "Python 3",
   "language": "python",
   "name": "python3"
  },
  "language_info": {
   "codemirror_mode": {
    "name": "ipython",
    "version": 3
   },
   "file_extension": ".py",
   "mimetype": "text/x-python",
   "name": "python",
   "nbconvert_exporter": "python",
   "pygments_lexer": "ipython3",
   "version": "3.12.9"
  }
 },
 "nbformat": 4,
 "nbformat_minor": 2
}
