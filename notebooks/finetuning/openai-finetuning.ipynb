{
 "cells": [
  {
   "cell_type": "markdown",
   "metadata": {},
   "source": [
    "# Finetuning an OpenAI model"
   ]
  },
  {
   "cell_type": "markdown",
   "metadata": {},
   "source": [
    "Our dataset will be taken from the paper, [FineTuneBench: How well do commercial fine-tuning APIs infuse knowledge into LLMs?](https://arxiv.org/abs/2411.05059) Specifically, we will use the medical dataset. It comes in two parts: a memorization set and a generalization set.\n",
    "\n",
    "**`medical_memorization.csv`**: 125 examples containing updated medical advice for treatments.\n",
    "\n",
    "**`medical_generalization.csv`**: 125 examples containing vignettes to test the generalization of the fine-tuned model.\n",
    "\n",
    "Let's look at an example from the `medical_memorization.csv` file:"
   ]
  },
  {
   "cell_type": "code",
   "execution_count": 1,
   "metadata": {},
   "outputs": [],
   "source": [
    "import numpy as np\n",
    "import pandas as pd\n",
    "\n",
    "# read csv\n",
    "df_memo = pd.read_csv('data/medical_memorization.csv')\n",
    "df_gen = pd.read_csv('data/medical_generalization.csv')"
   ]
  },
  {
   "cell_type": "markdown",
   "metadata": {},
   "source": [
    "### Memorization set"
   ]
  },
  {
   "cell_type": "markdown",
   "metadata": {},
   "source": [
    "If we have a look at the memorization data, we can see that it is split into multiple columns:\n",
    "\n",
    "`updated_reference_snippet` - The updated medical advice for the treatment.\n",
    "\n",
    "`updated_fact_description` - This includes the previous medical advice for the treatment.\n",
    "\n",
    "`prompt` - Essentially the question that the model is being asked.\n",
    "\n",
    "`answer_before` - The previous medical answer before the updated knowledge.\n",
    "\n",
    "`answer` - The actual current answer."
   ]
  },
  {
   "cell_type": "code",
   "execution_count": 2,
   "metadata": {},
   "outputs": [
    {
     "name": "stdout",
     "output_type": "stream",
     "text": [
      "Prompt:\n",
      "What is the current recommended DASI score cutoff indicating good functional capacity for proceeding with surgery without further testing?\n",
      "\n",
      "Answer:\n",
      "DASI score >34 (equivalent to ≥4 METs)\n",
      "\n",
      "Fact Description:\n",
      "Previously: Functional capacity was assessed subjectively by the clinician. Now: The Duke Activity Status Index (DASI) is recommended as a structured tool for assessing functional capacity, with a specific cutoff of >34 (≥4 METs) indicating good functional capacity.\n",
      "\n",
      "\n"
     ]
    }
   ],
   "source": [
    "updated_fact_descriptions = df_memo['updated_fact_description'].tolist()\n",
    "prompts_memo = df_memo['prompt'].tolist()\n",
    "answers_memo = df_memo['answer'].tolist()\n",
    "\n",
    "# An example\n",
    "print(\n",
    "    f\"Prompt:\\n{prompts_memo[0]}\\n\\n\"\n",
    "    f\"Answer:\\n{answers_memo[0]}\\n\\n\"\n",
    "    f\"Fact Description:\\n{updated_fact_descriptions[0]}\\n\\n\"\n",
    ")"
   ]
  },
  {
   "cell_type": "markdown",
   "metadata": {},
   "source": [
    "### Generalization set\n",
    "If we look at the generalization dataset, we have the following columns:\n",
    "\n",
    "`prompt` - A short scenario (the paper calls them vignettes) that the model is being asked to assess.\n",
    "\n",
    "`answer_before` - The previous medical answer before the updated knowledge.\n",
    "\n",
    "`answer` - The actual current answer."
   ]
  },
  {
   "cell_type": "code",
   "execution_count": 3,
   "metadata": {},
   "outputs": [
    {
     "name": "stdout",
     "output_type": "stream",
     "text": [
      "Prompt:\n",
      "A 65-year-old man is scheduled for elective cholecystectomy. He has hypertension and diabetes. His DASI score is 36, and he has no cardiac symptoms. Based on current guidelines, what is the appropriate next step in his preoperative cardiac evaluation?\n",
      "\n",
      "Answer:\n",
      "Proceed directly to surgery without further cardiac testing, as DASI score >34 indicates adequate functional capacity\n",
      "\n",
      "Answer Before Update:\n",
      "Proceed with subjective assessment of functional capacity and consider stress testing based on clinical judgment\n",
      "\n",
      "Fact Description:\n",
      "Previously: Functional capacity was assessed subjectively by the clinician. Now: The Duke Activity Status Index (DASI) is recommended as a structured tool for assessing functional capacity, with a specific cutoff of >34 (≥4 METs) indicating good functional capacity.\n",
      "\n",
      "\n"
     ]
    }
   ],
   "source": [
    "prompts_gen = df_gen['prompt'].tolist()\n",
    "answer_before_gen = df_gen['answer_before'].tolist()\n",
    "answers_gen = df_gen['answer'].tolist()\n",
    "\n",
    "# An example\n",
    "print(\n",
    "    f\"Prompt:\\n{prompts_gen[0]}\\n\\n\"\n",
    "    f\"Answer:\\n{answers_gen[0]}\\n\\n\"\n",
    "    f\"Answer Before Update:\\n{answer_before_gen[0]}\\n\\n\"\n",
    "    f\"Fact Description:\\n{updated_fact_descriptions[0]}\\n\\n\"\n",
    ")"
   ]
  },
  {
   "cell_type": "markdown",
   "metadata": {},
   "source": [
    "Ultimately, the generalization dataset aims to test whether the model knows how to handle situations it hasn't seen before, by applying the new knowledge that it has gained."
   ]
  },
  {
   "cell_type": "markdown",
   "metadata": {},
   "source": [
    "## Initial model assessment\n",
    "In order to determine how successful we have been, we need to establish a baseline. To do this, we will actually use an LLM as a judge. This will help us control for things like the answers not exactly matching, but being close enough. It is more effective than simply doing string matching."
   ]
  },
  {
   "cell_type": "code",
   "execution_count": 4,
   "metadata": {},
   "outputs": [],
   "source": [
    "from template_manager import TemplateManager\n",
    "from openai import OpenAI\n",
    "import dotenv\n",
    "from rich.pretty import pprint\n",
    "from tqdm import tqdm\n",
    "\n",
    "dotenv.load_dotenv()\n",
    "\n",
    "client = OpenAI()"
   ]
  },
  {
   "cell_type": "markdown",
   "metadata": {},
   "source": [
    "We build a simple `LLMJudge` class that is as general as possible. It should just be initialized with a model and a path to wherever the prompts are stored.\n",
    "\n",
    "When we call the judge, it just takes in the prompt and answer, and returns the score. The call is just essentially a generic completion function. We also have a method that can take a list of prompts and answers and return the scores. There is nothing particularly fancy about this class in its synchronous form...but below is the _asynchronous_ version. We'll talk about this in a bit..."
   ]
  },
  {
   "cell_type": "code",
   "execution_count": 5,
   "metadata": {},
   "outputs": [],
   "source": [
    "from tqdm.asyncio import tqdm as async_tqdm\n",
    "from openai import OpenAI, AsyncOpenAI\n",
    "import asyncio\n",
    "\n",
    "class LLMJudge:\n",
    "    def __init__(self, model, prompt_path):\n",
    "        self.sync_client = OpenAI()\n",
    "        self.async_client = AsyncOpenAI()\n",
    "        self.model = model\n",
    "        self.template_manager = TemplateManager(prompt_path)\n",
    "        self.system_prompt = self.template_manager.render('system.jinja')\n",
    "        self.input_prompt = self.template_manager.get_template('input.jinja')\n",
    "\n",
    "    def __repr__(self):\n",
    "        return (f\"LLMJudge(\"\n",
    "                f\"model={repr(self.model)}, \"\n",
    "                f\"system_prompt={self.system_prompt})\")\n",
    "\n",
    "    def __call__(self, prompt_args, **kwargs):\n",
    "        completion = self.sync_client.chat.completions.create(\n",
    "            model=self.model,\n",
    "            messages=[\n",
    "                {\"role\": \"system\", \"content\": self.system_prompt},\n",
    "                {\"role\": \"user\", \"content\": self.input_prompt.render(prompt_args)},\n",
    "            ],\n",
    "            **kwargs\n",
    "        )\n",
    "        return completion.choices[0].message.content\n",
    "\n",
    "    async def _async_call(self, prompt_args, **kwargs):\n",
    "        completion = await self.async_client.chat.completions.create(\n",
    "            model=self.model,\n",
    "            messages=[\n",
    "                {\"role\": \"system\", \"content\": self.system_prompt},\n",
    "                {\"role\": \"user\", \"content\": self.input_prompt.render(prompt_args)},\n",
    "            ],\n",
    "            **kwargs\n",
    "        )\n",
    "        return completion.choices[0].message.content\n",
    "\n",
    "    async def judge_all(self, prompt_args_list, max_concurrent=50, **kwargs):\n",
    "        semaphore = asyncio.Semaphore(max_concurrent)\n",
    "        \n",
    "        async def limited_judge(prompt_args):\n",
    "            async with semaphore:\n",
    "                return await self._async_call(prompt_args, **kwargs)\n",
    "        \n",
    "        tasks = [limited_judge(prompt_args) for prompt_args in prompt_args_list]\n",
    "        results = await async_tqdm.gather(*tasks, desc=\"Processing judgments\")\n",
    "        return results"
   ]
  },
  {
   "cell_type": "markdown",
   "metadata": {},
   "source": [
    "To initialize our judge, we give it a model name and a prompt path:"
   ]
  },
  {
   "cell_type": "code",
   "execution_count": 6,
   "metadata": {},
   "outputs": [],
   "source": [
    "memo_judge = LLMJudge('gpt-4o-mini', './prompts/memo')\n",
    "gen_judge = LLMJudge('gpt-4o-mini', './prompts/gen')"
   ]
  },
  {
   "cell_type": "markdown",
   "metadata": {},
   "source": [
    "These prompts look like this:\n",
    "\n",
    "#### System\n",
    "---\n",
    "```text\n",
    "You will be provided with a question and the correct answer. You will also be provided with a recent change in medical advice. You will then be given a second answer. Please indicate whether the second answer is correct or incorrect based on the question and the correct answer, and the new medical advice. You should only output '1' for correct or '0' for incorrect.\n",
    "```\n",
    "---\n",
    "\n",
    "#### Input\n",
    "---\n",
    "```text\n",
    "# Question\n",
    "{{ prompt }}\n",
    "\n",
    "# Answer\n",
    "{{ answer }}\n",
    "\n",
    "# Advice\n",
    "{{ advice }}\n",
    "\n",
    "# Second answer\n",
    "{{ completion }}\n",
    "```\n",
    "---"
   ]
  },
  {
   "cell_type": "markdown",
   "metadata": {},
   "source": [
    "We get another model to generate a completion and then feed this into the model, along with the prompt, answer, and advice from the memorization data:"
   ]
  },
  {
   "cell_type": "code",
   "execution_count": 11,
   "metadata": {},
   "outputs": [
    {
     "data": {
      "text/plain": [
       "'0'"
      ]
     },
     "execution_count": 11,
     "metadata": {},
     "output_type": "execute_result"
    }
   ],
   "source": [
    "generated_answer = \"Proceed with subjective assessment of functional capacity and consider stress testing based on clinical judgment\"\n",
    "\n",
    "memo_judge(\n",
    "    {\n",
    "        'prompt': prompts_memo[0],\n",
    "        'answer': answers_memo[0],\n",
    "        'advice' : updated_fact_descriptions[0],\n",
    "        'completion': 'Proceed with subjective assessment of functional capacity and consider stress testing based on clinical judgment',\n",
    "\n",
    "    }\n",
    ")"
   ]
  },
  {
   "cell_type": "markdown",
   "metadata": {},
   "source": [
    "We also need to make a couple of functions to run our data through the API. Now, we could just loop over the data and call the API, but this is slow. Instead, we can use the asyncio library and the asynchronous version of the OpenAI API. This will allow us to make multiple requests at once. Without asyncio, each prompt would have to wait for the previous one to complete before starting. With asyncio:\n",
    "\n",
    "- Multiple API calls can be \"in flight\" at the same time\n",
    "- The program can efficiently handle other tasks while waiting for responses\n",
    "- The overall execution time for multiple prompts is significantly reduced\n",
    "\n",
    "This is particularly useful when you need to process many prompts, as it prevents the total time from being the sum of each individual API call's duration.\n",
    "\n",
    "You can think of it as somewhat similar to solving embarrassingly parallel problems with multithreading libraries in python, except for I/O bound tasks. In this case, the I/O bound task is the API call."
   ]
  },
  {
   "cell_type": "markdown",
   "metadata": {},
   "source": [
    "#### Regular API call"
   ]
  },
  {
   "cell_type": "code",
   "execution_count": 12,
   "metadata": {},
   "outputs": [
    {
     "name": "stdout",
     "output_type": "stream",
     "text": [
      "Starting sync task 0\n",
      "Starting sync task 1\n",
      "Starting sync task 2\n",
      "Starting sync task 3\n",
      "Starting sync task 4\n",
      "Sync version took 10.02 seconds\n"
     ]
    }
   ],
   "source": [
    "import time\n",
    "\n",
    "def slow_operation_sync(task_id, client):\n",
    "    print(f\"Starting sync task {task_id}\")\n",
    "    time.sleep(2)\n",
    "    return f\"Result {task_id}\"\n",
    "\n",
    "def run_tasks_sync(task_ids):\n",
    "    start_time = time.time()\n",
    "    client = \"dummy_client\"\n",
    "    results = [slow_operation_sync(task_id, client) for task_id in task_ids]\n",
    "    end_time = time.time()\n",
    "    print(f\"Sync version took {end_time - start_time:.2f} seconds\")\n",
    "    return results\n",
    "\n",
    "task_ids = range(5)\n",
    "results_sync = run_tasks_sync(task_ids)"
   ]
  },
  {
   "cell_type": "markdown",
   "metadata": {},
   "source": [
    "If each call takes 2 seconds, then it makes sense that 5 calls would take 10 seconds."
   ]
  },
  {
   "cell_type": "markdown",
   "metadata": {},
   "source": [
    "#### Asynchronous API call"
   ]
  },
  {
   "cell_type": "code",
   "execution_count": 13,
   "metadata": {},
   "outputs": [
    {
     "name": "stderr",
     "output_type": "stream",
     "text": [
      "Processing async tasks:   0%|          | 0/5 [00:00<?, ?it/s]"
     ]
    },
    {
     "name": "stdout",
     "output_type": "stream",
     "text": [
      "Starting async task 1\n",
      "Starting async task 0\n",
      "Starting async task 4\n",
      "Starting async task 2\n",
      "Starting async task 3\n"
     ]
    },
    {
     "name": "stderr",
     "output_type": "stream",
     "text": [
      "Processing async tasks: 100%|██████████| 5/5 [00:02<00:00,  2.49it/s]"
     ]
    },
    {
     "name": "stdout",
     "output_type": "stream",
     "text": [
      "Async version took 2.10 seconds\n"
     ]
    },
    {
     "name": "stderr",
     "output_type": "stream",
     "text": [
      "\n"
     ]
    }
   ],
   "source": [
    "import asyncio\n",
    "from tqdm.asyncio import tqdm\n",
    "\n",
    "async def slow_operation_async(task_id, client):\n",
    "    print(f\"Starting async task {task_id}\")\n",
    "    await asyncio.sleep(2)\n",
    "    return f\"Result {task_id}\"\n",
    "\n",
    "async def run_tasks_async(task_ids):\n",
    "    start_time = time.time()\n",
    "    client = \"dummy_client\"\n",
    "    tasks = [slow_operation_async(task_id, client) for task_id in task_ids]\n",
    "    answers = await tqdm.gather(*tasks, desc=\"Processing async tasks\")\n",
    "    end_time = time.time()\n",
    "    print(f\"Async version took {end_time - start_time:.2f} seconds\")\n",
    "    return answers\n",
    "\n",
    "\n",
    "results_async = await run_tasks_async(task_ids)"
   ]
  },
  {
   "cell_type": "markdown",
   "metadata": {},
   "source": [
    "So obviously if we can make 5 calls at once, then it will only take 2 seconds to run.\n",
    "\n",
    "We still need to make an async version of the OpenAI API call function:"
   ]
  },
  {
   "cell_type": "code",
   "execution_count": 9,
   "metadata": {},
   "outputs": [],
   "source": [
    "import asyncio\n",
    "from openai import AsyncOpenAI\n",
    "\n",
    "async def get_completion_async(prompt, model, client):\n",
    "    completion = await client.chat.completions.create(\n",
    "        model=model,\n",
    "        messages=[\n",
    "            {\"role\": \"system\", \"content\": \"Provide a succinct, single sentence response.\"},\n",
    "            {\"role\": \"user\", \"content\": prompt}\n",
    "        ]\n",
    "    )\n",
    "    return completion.choices[0].message.content\n",
    "\n",
    "async def get_answers_async(prompts, model='gpt-4o-mini'):\n",
    "    client = AsyncOpenAI()\n",
    "    tasks = [get_completion_async(prompt, model, client) for prompt in prompts]\n",
    "    answers = await async_tqdm.gather(*tasks, desc=\"Processing judgments\")\n",
    "    return answers"
   ]
  },
  {
   "cell_type": "code",
   "execution_count": 15,
   "metadata": {},
   "outputs": [
    {
     "name": "stderr",
     "output_type": "stream",
     "text": [
      "Processing judgments: 100%|██████████| 125/125 [00:08<00:00, 14.06it/s]\n",
      "Processing judgments: 100%|██████████| 125/125 [00:09<00:00, 13.26it/s]\n"
     ]
    }
   ],
   "source": [
    "completions_memo, completions_gen = await asyncio.gather(\n",
    "    get_answers_async(prompts_memo),\n",
    "    get_answers_async(prompts_gen)\n",
    ")"
   ]
  },
  {
   "cell_type": "code",
   "execution_count": 16,
   "metadata": {},
   "outputs": [
    {
     "name": "stdout",
     "output_type": "stream",
     "text": [
      "Prompt:\n",
      "What is the current recommended DASI score cutoff indicating good functional capacity for proceeding with surgery without further testing?\n",
      "\n",
      "Answer:\n",
      "DASI score >34 (equivalent to ≥4 METs)\n",
      "\n",
      "Model completion:\n",
      "The current recommended DASI score cutoff indicating good functional capacity for proceeding with surgery without further testing is typically 16 or higher.\n",
      "\n",
      "Updated facts:\n",
      "Previously: Functional capacity was assessed subjectively by the clinician. Now: The Duke Activity Status Index (DASI) is recommended as a structured tool for assessing functional capacity, with a specific cutoff of >34 (≥4 METs) indicating good functional capacity.\n",
      "\n",
      "\n"
     ]
    }
   ],
   "source": [
    "print(\n",
    "    f\"Prompt:\\n{prompts_memo[0]}\\n\\n\"\n",
    "    f\"Answer:\\n{answers_memo[0]}\\n\\n\"\n",
    "    f\"Model completion:\\n{completions_memo[0]}\\n\\n\"\n",
    "    f\"Updated facts:\\n{updated_fact_descriptions[0]}\\n\\n\"\n",
    ")"
   ]
  },
  {
   "cell_type": "code",
   "execution_count": 17,
   "metadata": {},
   "outputs": [
    {
     "name": "stderr",
     "output_type": "stream",
     "text": [
      "Processing judgments: 100%|██████████| 125/125 [00:04<00:00, 26.58it/s]\n"
     ]
    }
   ],
   "source": [
    "from tqdm import tqdm\n",
    "\n",
    "inputs_memo = [\n",
    "    {\n",
    "        'prompt': prompts_memo[i],\n",
    "        'answer': answers_memo[i],\n",
    "        'advice' : updated_fact_descriptions[i],\n",
    "        'completion': completions_memo[i],\n",
    "    }\n",
    "    for i in range(len(prompts_memo))\n",
    "]\n",
    "\n",
    "memo_results = await memo_judge.judge_all(inputs_memo, temperature=0.0)"
   ]
  },
  {
   "cell_type": "code",
   "execution_count": 18,
   "metadata": {},
   "outputs": [
    {
     "name": "stderr",
     "output_type": "stream",
     "text": [
      "Processing judgments: 100%|██████████| 125/125 [00:03<00:00, 33.19it/s]\n"
     ]
    }
   ],
   "source": [
    "inputs_gen = [\n",
    "    {\n",
    "        'prompt': prompts_gen[i],\n",
    "        'answer': answers_gen[i],\n",
    "        'advice' : updated_fact_descriptions[i],\n",
    "        'completion': completions_gen[i],\n",
    "    }\n",
    "    for i in range(len(prompts_gen))\n",
    "]\n",
    "\n",
    "gen_results = await gen_judge.judge_all(inputs_gen, temperature=0.0)"
   ]
  },
  {
   "cell_type": "markdown",
   "metadata": {},
   "source": [
    "Just an FYI: not running the LLMJudge asynchronously will take around 2-3 **minutes** to run. Running it asynchronously will take around 5-15 **seconds**."
   ]
  },
  {
   "cell_type": "code",
   "execution_count": 19,
   "metadata": {},
   "outputs": [],
   "source": [
    "memo_results = [int(result) for result in memo_results]\n",
    "gen_results = [int(result) for result in gen_results]"
   ]
  },
  {
   "cell_type": "code",
   "execution_count": 20,
   "metadata": {},
   "outputs": [
    {
     "name": "stdout",
     "output_type": "stream",
     "text": [
      "Memorization results: 31%\n",
      "Generalization results: 36%\n"
     ]
    }
   ],
   "source": [
    "print(f\"Memorization results: {sum(memo_results)/len(memo_results) * 100 :.0f}%\")\n",
    "print(f\"Generalization results: {sum(gen_results)/len(gen_results) * 100 :.0f}%\")"
   ]
  },
  {
   "cell_type": "markdown",
   "metadata": {},
   "source": [
    "So the original model is quite poor! Let's see if we can improve it."
   ]
  },
  {
   "cell_type": "markdown",
   "metadata": {},
   "source": [
    "## Fine-tuning a new model\n",
    "Now it's time to fine-tune a new model. We will use the `medical_memorization.csv` file to fine-tune the model. We will then use the `medical_generalization.csv` file to test the model's generalization capabilities.\n",
    "\n",
    "But first, we need to put the data into the correct format."
   ]
  },
  {
   "cell_type": "markdown",
   "metadata": {},
   "source": [
    "### Preprocessing\n",
    "As a reminder, the data needs to be in the format:\n",
    "\n",
    "```jsonl\n",
    "{\n",
    "    \"messages\":\n",
    "    [\n",
    "        {\"role\": \"system\", \"content\": \"Marv is a factual chatbot that is also sarcastic.\"},\n",
    "        {\"role\": \"user\", \"content\": \"What's the capital of France?\"},\n",
    "        {\"role\": \"assistant\", \"content\": \"Paris, as if everyone doesn't know that already.\"}\n",
    "    ]\n",
    "}\n",
    "```"
   ]
  },
  {
   "cell_type": "markdown",
   "metadata": {},
   "source": [
    "Let's write a function to convert the CSV files into the JSONL format. For the purposes of this notebook, we won't care about a system message, so we will just use the user and assistant messages."
   ]
  },
  {
   "cell_type": "code",
   "execution_count": 21,
   "metadata": {},
   "outputs": [],
   "source": [
    "import json\n",
    "\n",
    "def format_to_jsonl(prompts: list, responses: list, output_file: str):\n",
    "    \"\"\"\n",
    "    Format prompts and responses into JSONL format and save to file.\n",
    "    \n",
    "    Args:\n",
    "        prompts (list): List of prompt strings\n",
    "        responses (list): List of response strings\n",
    "        output_file (str): Path to output JSONL file\n",
    "    \"\"\"\n",
    "    if len(prompts) != len(responses):\n",
    "        raise ValueError(\"Prompts and responses must have the same length\")\n",
    "    \n",
    "    with open(output_file, 'w', encoding='utf-8') as f:\n",
    "        for prompt, response in zip(prompts, responses):\n",
    "            chat_format = {\n",
    "                \"messages\": [\n",
    "                    {\"role\": \"user\", \"content\": prompt},\n",
    "                    {\"role\": \"assistant\", \"content\": response}\n",
    "                ]\n",
    "            }\n",
    "            f.write(json.dumps(chat_format) + '\\n')"
   ]
  },
  {
   "cell_type": "markdown",
   "metadata": {},
   "source": [
    "This function takes in the lists that we made earlier and write them to a JSONL file, saving them to the specified path."
   ]
  },
  {
   "cell_type": "code",
   "execution_count": 22,
   "metadata": {},
   "outputs": [],
   "source": [
    "format_to_jsonl(prompts_memo, answers_memo, \"data/medical_memorization.jsonl\")\n",
    "format_to_jsonl(prompts_gen, answers_gen, \"data/medical_generalization.jsonl\")"
   ]
  },
  {
   "cell_type": "markdown",
   "metadata": {},
   "source": [
    "### The OpenAI Fine tuning process\n",
    "In order to fine tune our own model, we need to roughly follow these steps:\n",
    "1. Put the data into the correct format (we've done this)\n",
    "2. Upload the data to the OpenAI API\n",
    "3. Create a fine tuning job\n",
    "4. Use the fine tuning checkpoint to generate completions"
   ]
  },
  {
   "cell_type": "markdown",
   "metadata": {},
   "source": [
    "#### Uploading the data\n",
    "Uploading data is actually quite easy:"
   ]
  },
  {
   "cell_type": "code",
   "execution_count": 23,
   "metadata": {},
   "outputs": [],
   "source": [
    "file_object = client.files.create(\n",
    "  file=open(\"data/medical_memorization.jsonl\", \"rb\"),\n",
    "  purpose=\"fine-tune\",\n",
    ")\n",
    "\n",
    "file_id = file_object.id"
   ]
  },
  {
   "cell_type": "markdown",
   "metadata": {},
   "source": [
    "We have grabbed the fine tuning file id which we need to use in the next step."
   ]
  },
  {
   "cell_type": "markdown",
   "metadata": {},
   "source": [
    "#### Create a fine tuning job\n",
    "This is also quite easy. We need to input the training file id (and if we're using validation data, the validation file id), the model id, any hyperparameters (such as epochs), and a name for the fine tuning job."
   ]
  },
  {
   "cell_type": "code",
   "execution_count": 24,
   "metadata": {},
   "outputs": [],
   "source": [
    "job = client.fine_tuning.jobs.create(\n",
    "    training_file=file_id,\n",
    "    model=\"gpt-4o-mini-2024-07-18\",\n",
    "    hyperparameters={\n",
    "    \"n_epochs\":5\n",
    "  },\n",
    "  suffix=\"medical-memo-5-epochs\"\n",
    ")"
   ]
  },
  {
   "cell_type": "markdown",
   "metadata": {},
   "source": [
    "We can either use the OpenAI Dashboard to check the job status, or we can use the job id:"
   ]
  },
  {
   "cell_type": "code",
   "execution_count": null,
   "metadata": {},
   "outputs": [
    {
     "data": {
      "text/html": [
       "<pre style=\"white-space:pre;overflow-x:auto;line-height:normal;font-family:Menlo,'DejaVu Sans Mono',consolas,'Courier New',monospace\"><span style=\"color: #800080; text-decoration-color: #800080; font-weight: bold\">FineTuningJob</span><span style=\"font-weight: bold\">(</span>\n",
       "<span style=\"color: #7fbf7f; text-decoration-color: #7fbf7f\">│   </span><span style=\"color: #808000; text-decoration-color: #808000\">id</span>=<span style=\"color: #008000; text-decoration-color: #008000\">'ftjob-FbX6SJkbzI36bsniEn3lp4Jr'</span>,\n",
       "<span style=\"color: #7fbf7f; text-decoration-color: #7fbf7f\">│   </span><span style=\"color: #808000; text-decoration-color: #808000\">created_at</span>=<span style=\"color: #008080; text-decoration-color: #008080; font-weight: bold\">1736955425</span>,\n",
       "<span style=\"color: #7fbf7f; text-decoration-color: #7fbf7f\">│   </span><span style=\"color: #808000; text-decoration-color: #808000\">error</span>=<span style=\"color: #800080; text-decoration-color: #800080; font-weight: bold\">Error</span><span style=\"font-weight: bold\">(</span><span style=\"color: #808000; text-decoration-color: #808000\">code</span>=<span style=\"color: #800080; text-decoration-color: #800080; font-style: italic\">None</span>, <span style=\"color: #808000; text-decoration-color: #808000\">message</span>=<span style=\"color: #800080; text-decoration-color: #800080; font-style: italic\">None</span>, <span style=\"color: #808000; text-decoration-color: #808000\">param</span>=<span style=\"color: #800080; text-decoration-color: #800080; font-style: italic\">None</span><span style=\"font-weight: bold\">)</span>,\n",
       "<span style=\"color: #7fbf7f; text-decoration-color: #7fbf7f\">│   </span><span style=\"color: #808000; text-decoration-color: #808000\">fine_tuned_model</span>=<span style=\"color: #800080; text-decoration-color: #800080; font-style: italic\">None</span>,\n",
       "<span style=\"color: #7fbf7f; text-decoration-color: #7fbf7f\">│   </span><span style=\"color: #808000; text-decoration-color: #808000\">finished_at</span>=<span style=\"color: #800080; text-decoration-color: #800080; font-style: italic\">None</span>,\n",
       "<span style=\"color: #7fbf7f; text-decoration-color: #7fbf7f\">│   </span><span style=\"color: #808000; text-decoration-color: #808000\">hyperparameters</span>=<span style=\"color: #800080; text-decoration-color: #800080; font-weight: bold\">Hyperparameters</span><span style=\"font-weight: bold\">(</span><span style=\"color: #808000; text-decoration-color: #808000\">n_epochs</span>=<span style=\"color: #008080; text-decoration-color: #008080; font-weight: bold\">5</span>, <span style=\"color: #808000; text-decoration-color: #808000\">batch_size</span>=<span style=\"color: #008080; text-decoration-color: #008080; font-weight: bold\">1</span>, <span style=\"color: #808000; text-decoration-color: #808000\">learning_rate_multiplier</span>=<span style=\"color: #008080; text-decoration-color: #008080; font-weight: bold\">1.8</span><span style=\"font-weight: bold\">)</span>,\n",
       "<span style=\"color: #7fbf7f; text-decoration-color: #7fbf7f\">│   </span><span style=\"color: #808000; text-decoration-color: #808000\">model</span>=<span style=\"color: #008000; text-decoration-color: #008000\">'gpt-4o-mini-2024-07-18'</span>,\n",
       "<span style=\"color: #7fbf7f; text-decoration-color: #7fbf7f\">│   </span><span style=\"color: #808000; text-decoration-color: #808000\">object</span>=<span style=\"color: #008000; text-decoration-color: #008000\">'fine_tuning.job'</span>,\n",
       "<span style=\"color: #7fbf7f; text-decoration-color: #7fbf7f\">│   </span><span style=\"color: #808000; text-decoration-color: #808000\">organization_id</span>=<span style=\"color: #008000; text-decoration-color: #008000\">'org-HHSPDmvSUP6XH0pNIE3tgYO5'</span>,\n",
       "<span style=\"color: #7fbf7f; text-decoration-color: #7fbf7f\">│   </span><span style=\"color: #808000; text-decoration-color: #808000\">result_files</span>=<span style=\"font-weight: bold\">[]</span>,\n",
       "<span style=\"color: #7fbf7f; text-decoration-color: #7fbf7f\">│   </span><span style=\"color: #808000; text-decoration-color: #808000\">seed</span>=<span style=\"color: #008080; text-decoration-color: #008080; font-weight: bold\">1688312300</span>,\n",
       "<span style=\"color: #7fbf7f; text-decoration-color: #7fbf7f\">│   </span><span style=\"color: #808000; text-decoration-color: #808000\">status</span>=<span style=\"color: #008000; text-decoration-color: #008000\">'running'</span>,\n",
       "<span style=\"color: #7fbf7f; text-decoration-color: #7fbf7f\">│   </span><span style=\"color: #808000; text-decoration-color: #808000\">trained_tokens</span>=<span style=\"color: #800080; text-decoration-color: #800080; font-style: italic\">None</span>,\n",
       "<span style=\"color: #7fbf7f; text-decoration-color: #7fbf7f\">│   </span><span style=\"color: #808000; text-decoration-color: #808000\">training_file</span>=<span style=\"color: #008000; text-decoration-color: #008000\">'file-5DUayZdBwPrM6h8yf2HHmd'</span>,\n",
       "<span style=\"color: #7fbf7f; text-decoration-color: #7fbf7f\">│   </span><span style=\"color: #808000; text-decoration-color: #808000\">validation_file</span>=<span style=\"color: #800080; text-decoration-color: #800080; font-style: italic\">None</span>,\n",
       "<span style=\"color: #7fbf7f; text-decoration-color: #7fbf7f\">│   </span><span style=\"color: #808000; text-decoration-color: #808000\">estimated_finish</span>=<span style=\"color: #800080; text-decoration-color: #800080; font-style: italic\">None</span>,\n",
       "<span style=\"color: #7fbf7f; text-decoration-color: #7fbf7f\">│   </span><span style=\"color: #808000; text-decoration-color: #808000\">integrations</span>=<span style=\"font-weight: bold\">[]</span>,\n",
       "<span style=\"color: #7fbf7f; text-decoration-color: #7fbf7f\">│   </span><span style=\"color: #808000; text-decoration-color: #808000\">user_provided_suffix</span>=<span style=\"color: #008000; text-decoration-color: #008000\">'medical-memo-5-epochs'</span>,\n",
       "<span style=\"color: #7fbf7f; text-decoration-color: #7fbf7f\">│   </span><span style=\"color: #808000; text-decoration-color: #808000\">method</span>=<span style=\"font-weight: bold\">{</span>\n",
       "<span style=\"color: #7fbf7f; text-decoration-color: #7fbf7f\">│   │   </span><span style=\"color: #008000; text-decoration-color: #008000\">'type'</span>: <span style=\"color: #008000; text-decoration-color: #008000\">'supervised'</span>,\n",
       "<span style=\"color: #7fbf7f; text-decoration-color: #7fbf7f\">│   │   </span><span style=\"color: #008000; text-decoration-color: #008000\">'supervised'</span>: <span style=\"font-weight: bold\">{</span><span style=\"color: #008000; text-decoration-color: #008000\">'hyperparameters'</span>: <span style=\"font-weight: bold\">{</span><span style=\"color: #008000; text-decoration-color: #008000\">'n_epochs'</span>: <span style=\"color: #008080; text-decoration-color: #008080; font-weight: bold\">5</span>, <span style=\"color: #008000; text-decoration-color: #008000\">'batch_size'</span>: <span style=\"color: #008080; text-decoration-color: #008080; font-weight: bold\">1</span>, <span style=\"color: #008000; text-decoration-color: #008000\">'learning_rate_multiplier'</span>: <span style=\"color: #008080; text-decoration-color: #008080; font-weight: bold\">1.8</span><span style=\"font-weight: bold\">}}</span>\n",
       "<span style=\"color: #7fbf7f; text-decoration-color: #7fbf7f\">│   </span><span style=\"font-weight: bold\">}</span>\n",
       "<span style=\"font-weight: bold\">)</span>\n",
       "</pre>\n"
      ],
      "text/plain": [
       "\u001b[1;35mFineTuningJob\u001b[0m\u001b[1m(\u001b[0m\n",
       "\u001b[2;32m│   \u001b[0m\u001b[33mid\u001b[0m=\u001b[32m'ftjob-FbX6SJkbzI36bsniEn3lp4Jr'\u001b[0m,\n",
       "\u001b[2;32m│   \u001b[0m\u001b[33mcreated_at\u001b[0m=\u001b[1;36m1736955425\u001b[0m,\n",
       "\u001b[2;32m│   \u001b[0m\u001b[33merror\u001b[0m=\u001b[1;35mError\u001b[0m\u001b[1m(\u001b[0m\u001b[33mcode\u001b[0m=\u001b[3;35mNone\u001b[0m, \u001b[33mmessage\u001b[0m=\u001b[3;35mNone\u001b[0m, \u001b[33mparam\u001b[0m=\u001b[3;35mNone\u001b[0m\u001b[1m)\u001b[0m,\n",
       "\u001b[2;32m│   \u001b[0m\u001b[33mfine_tuned_model\u001b[0m=\u001b[3;35mNone\u001b[0m,\n",
       "\u001b[2;32m│   \u001b[0m\u001b[33mfinished_at\u001b[0m=\u001b[3;35mNone\u001b[0m,\n",
       "\u001b[2;32m│   \u001b[0m\u001b[33mhyperparameters\u001b[0m=\u001b[1;35mHyperparameters\u001b[0m\u001b[1m(\u001b[0m\u001b[33mn_epochs\u001b[0m=\u001b[1;36m5\u001b[0m, \u001b[33mbatch_size\u001b[0m=\u001b[1;36m1\u001b[0m, \u001b[33mlearning_rate_multiplier\u001b[0m=\u001b[1;36m1\u001b[0m\u001b[1;36m.8\u001b[0m\u001b[1m)\u001b[0m,\n",
       "\u001b[2;32m│   \u001b[0m\u001b[33mmodel\u001b[0m=\u001b[32m'gpt-4o-mini-2024-07-18'\u001b[0m,\n",
       "\u001b[2;32m│   \u001b[0m\u001b[33mobject\u001b[0m=\u001b[32m'fine_tuning.job'\u001b[0m,\n",
       "\u001b[2;32m│   \u001b[0m\u001b[33morganization_id\u001b[0m=\u001b[32m'org-HHSPDmvSUP6XH0pNIE3tgYO5'\u001b[0m,\n",
       "\u001b[2;32m│   \u001b[0m\u001b[33mresult_files\u001b[0m=\u001b[1m[\u001b[0m\u001b[1m]\u001b[0m,\n",
       "\u001b[2;32m│   \u001b[0m\u001b[33mseed\u001b[0m=\u001b[1;36m1688312300\u001b[0m,\n",
       "\u001b[2;32m│   \u001b[0m\u001b[33mstatus\u001b[0m=\u001b[32m'running'\u001b[0m,\n",
       "\u001b[2;32m│   \u001b[0m\u001b[33mtrained_tokens\u001b[0m=\u001b[3;35mNone\u001b[0m,\n",
       "\u001b[2;32m│   \u001b[0m\u001b[33mtraining_file\u001b[0m=\u001b[32m'file-5DUayZdBwPrM6h8yf2HHmd'\u001b[0m,\n",
       "\u001b[2;32m│   \u001b[0m\u001b[33mvalidation_file\u001b[0m=\u001b[3;35mNone\u001b[0m,\n",
       "\u001b[2;32m│   \u001b[0m\u001b[33mestimated_finish\u001b[0m=\u001b[3;35mNone\u001b[0m,\n",
       "\u001b[2;32m│   \u001b[0m\u001b[33mintegrations\u001b[0m=\u001b[1m[\u001b[0m\u001b[1m]\u001b[0m,\n",
       "\u001b[2;32m│   \u001b[0m\u001b[33muser_provided_suffix\u001b[0m=\u001b[32m'medical-memo-5-epochs'\u001b[0m,\n",
       "\u001b[2;32m│   \u001b[0m\u001b[33mmethod\u001b[0m=\u001b[1m{\u001b[0m\n",
       "\u001b[2;32m│   │   \u001b[0m\u001b[32m'type'\u001b[0m: \u001b[32m'supervised'\u001b[0m,\n",
       "\u001b[2;32m│   │   \u001b[0m\u001b[32m'supervised'\u001b[0m: \u001b[1m{\u001b[0m\u001b[32m'hyperparameters'\u001b[0m: \u001b[1m{\u001b[0m\u001b[32m'n_epochs'\u001b[0m: \u001b[1;36m5\u001b[0m, \u001b[32m'batch_size'\u001b[0m: \u001b[1;36m1\u001b[0m, \u001b[32m'learning_rate_multiplier'\u001b[0m: \u001b[1;36m1.8\u001b[0m\u001b[1m}\u001b[0m\u001b[1m}\u001b[0m\n",
       "\u001b[2;32m│   \u001b[0m\u001b[1m}\u001b[0m\n",
       "\u001b[1m)\u001b[0m\n"
      ]
     },
     "metadata": {},
     "output_type": "display_data"
    }
   ],
   "source": [
    "from rich.pretty import pprint\n",
    "pprint(client.fine_tuning.jobs.retrieve(job.id))"
   ]
  },
  {
   "cell_type": "markdown",
   "metadata": {},
   "source": [
    "If you do this very quickly after starting a job, you will likely see `status='validating_files'`. OpenAI is processing your files and passing them through their checks to make sure that your data is not objectionable according to their guidelines. After this process is completed, you will see `status='running'`.\n",
    "\n",
    "This is a pretty small job, but might still take a while."
   ]
  },
  {
   "cell_type": "markdown",
   "metadata": {},
   "source": [
    "### Anlyzing the results\n",
    "Once the job has completed successfully, we can get the job results, and finetuned model checkpoint id:"
   ]
  },
  {
   "cell_type": "code",
   "execution_count": 29,
   "metadata": {},
   "outputs": [
    {
     "data": {
      "text/html": [
       "<pre style=\"white-space:pre;overflow-x:auto;line-height:normal;font-family:Menlo,'DejaVu Sans Mono',consolas,'Courier New',monospace\"><span style=\"color: #800080; text-decoration-color: #800080; font-weight: bold\">FineTuningJob</span><span style=\"font-weight: bold\">(</span>\n",
       "<span style=\"color: #7fbf7f; text-decoration-color: #7fbf7f\">│   </span><span style=\"color: #808000; text-decoration-color: #808000\">id</span>=<span style=\"color: #008000; text-decoration-color: #008000\">'ftjob-FbX6SJkbzI36bsniEn3lp4Jr'</span>,\n",
       "<span style=\"color: #7fbf7f; text-decoration-color: #7fbf7f\">│   </span><span style=\"color: #808000; text-decoration-color: #808000\">created_at</span>=<span style=\"color: #008080; text-decoration-color: #008080; font-weight: bold\">1736955425</span>,\n",
       "<span style=\"color: #7fbf7f; text-decoration-color: #7fbf7f\">│   </span><span style=\"color: #808000; text-decoration-color: #808000\">error</span>=<span style=\"color: #800080; text-decoration-color: #800080; font-weight: bold\">Error</span><span style=\"font-weight: bold\">(</span><span style=\"color: #808000; text-decoration-color: #808000\">code</span>=<span style=\"color: #800080; text-decoration-color: #800080; font-style: italic\">None</span>, <span style=\"color: #808000; text-decoration-color: #808000\">message</span>=<span style=\"color: #800080; text-decoration-color: #800080; font-style: italic\">None</span>, <span style=\"color: #808000; text-decoration-color: #808000\">param</span>=<span style=\"color: #800080; text-decoration-color: #800080; font-style: italic\">None</span><span style=\"font-weight: bold\">)</span>,\n",
       "<span style=\"color: #7fbf7f; text-decoration-color: #7fbf7f\">│   </span><span style=\"color: #808000; text-decoration-color: #808000\">fine_tuned_model</span>=<span style=\"color: #008000; text-decoration-color: #008000\">'ft:gpt-4o-mini-2024-07-18:accelerate-science:medical-memo-5-epochs:ApzySybZ'</span>,\n",
       "<span style=\"color: #7fbf7f; text-decoration-color: #7fbf7f\">│   </span><span style=\"color: #808000; text-decoration-color: #808000\">finished_at</span>=<span style=\"color: #008080; text-decoration-color: #008080; font-weight: bold\">1736956319</span>,\n",
       "<span style=\"color: #7fbf7f; text-decoration-color: #7fbf7f\">│   </span><span style=\"color: #808000; text-decoration-color: #808000\">hyperparameters</span>=<span style=\"color: #800080; text-decoration-color: #800080; font-weight: bold\">Hyperparameters</span><span style=\"font-weight: bold\">(</span><span style=\"color: #808000; text-decoration-color: #808000\">n_epochs</span>=<span style=\"color: #008080; text-decoration-color: #008080; font-weight: bold\">5</span>, <span style=\"color: #808000; text-decoration-color: #808000\">batch_size</span>=<span style=\"color: #008080; text-decoration-color: #008080; font-weight: bold\">1</span>, <span style=\"color: #808000; text-decoration-color: #808000\">learning_rate_multiplier</span>=<span style=\"color: #008080; text-decoration-color: #008080; font-weight: bold\">1.8</span><span style=\"font-weight: bold\">)</span>,\n",
       "<span style=\"color: #7fbf7f; text-decoration-color: #7fbf7f\">│   </span><span style=\"color: #808000; text-decoration-color: #808000\">model</span>=<span style=\"color: #008000; text-decoration-color: #008000\">'gpt-4o-mini-2024-07-18'</span>,\n",
       "<span style=\"color: #7fbf7f; text-decoration-color: #7fbf7f\">│   </span><span style=\"color: #808000; text-decoration-color: #808000\">object</span>=<span style=\"color: #008000; text-decoration-color: #008000\">'fine_tuning.job'</span>,\n",
       "<span style=\"color: #7fbf7f; text-decoration-color: #7fbf7f\">│   </span><span style=\"color: #808000; text-decoration-color: #808000\">organization_id</span>=<span style=\"color: #008000; text-decoration-color: #008000\">'org-HHSPDmvSUP6XH0pNIE3tgYO5'</span>,\n",
       "<span style=\"color: #7fbf7f; text-decoration-color: #7fbf7f\">│   </span><span style=\"color: #808000; text-decoration-color: #808000\">result_files</span>=<span style=\"font-weight: bold\">[</span><span style=\"color: #008000; text-decoration-color: #008000\">'file-HYttyTDXUuhcKPD4rnc5HQ'</span><span style=\"font-weight: bold\">]</span>,\n",
       "<span style=\"color: #7fbf7f; text-decoration-color: #7fbf7f\">│   </span><span style=\"color: #808000; text-decoration-color: #808000\">seed</span>=<span style=\"color: #008080; text-decoration-color: #008080; font-weight: bold\">1688312300</span>,\n",
       "<span style=\"color: #7fbf7f; text-decoration-color: #7fbf7f\">│   </span><span style=\"color: #808000; text-decoration-color: #808000\">status</span>=<span style=\"color: #008000; text-decoration-color: #008000\">'succeeded'</span>,\n",
       "<span style=\"color: #7fbf7f; text-decoration-color: #7fbf7f\">│   </span><span style=\"color: #808000; text-decoration-color: #808000\">trained_tokens</span>=<span style=\"color: #008080; text-decoration-color: #008080; font-weight: bold\">27245</span>,\n",
       "<span style=\"color: #7fbf7f; text-decoration-color: #7fbf7f\">│   </span><span style=\"color: #808000; text-decoration-color: #808000\">training_file</span>=<span style=\"color: #008000; text-decoration-color: #008000\">'file-5DUayZdBwPrM6h8yf2HHmd'</span>,\n",
       "<span style=\"color: #7fbf7f; text-decoration-color: #7fbf7f\">│   </span><span style=\"color: #808000; text-decoration-color: #808000\">validation_file</span>=<span style=\"color: #800080; text-decoration-color: #800080; font-style: italic\">None</span>,\n",
       "<span style=\"color: #7fbf7f; text-decoration-color: #7fbf7f\">│   </span><span style=\"color: #808000; text-decoration-color: #808000\">estimated_finish</span>=<span style=\"color: #800080; text-decoration-color: #800080; font-style: italic\">None</span>,\n",
       "<span style=\"color: #7fbf7f; text-decoration-color: #7fbf7f\">│   </span><span style=\"color: #808000; text-decoration-color: #808000\">integrations</span>=<span style=\"font-weight: bold\">[]</span>,\n",
       "<span style=\"color: #7fbf7f; text-decoration-color: #7fbf7f\">│   </span><span style=\"color: #808000; text-decoration-color: #808000\">user_provided_suffix</span>=<span style=\"color: #008000; text-decoration-color: #008000\">'medical-memo-5-epochs'</span>,\n",
       "<span style=\"color: #7fbf7f; text-decoration-color: #7fbf7f\">│   </span><span style=\"color: #808000; text-decoration-color: #808000\">method</span>=<span style=\"font-weight: bold\">{</span>\n",
       "<span style=\"color: #7fbf7f; text-decoration-color: #7fbf7f\">│   │   </span><span style=\"color: #008000; text-decoration-color: #008000\">'type'</span>: <span style=\"color: #008000; text-decoration-color: #008000\">'supervised'</span>,\n",
       "<span style=\"color: #7fbf7f; text-decoration-color: #7fbf7f\">│   │   </span><span style=\"color: #008000; text-decoration-color: #008000\">'supervised'</span>: <span style=\"font-weight: bold\">{</span><span style=\"color: #008000; text-decoration-color: #008000\">'hyperparameters'</span>: <span style=\"font-weight: bold\">{</span><span style=\"color: #008000; text-decoration-color: #008000\">'n_epochs'</span>: <span style=\"color: #008080; text-decoration-color: #008080; font-weight: bold\">5</span>, <span style=\"color: #008000; text-decoration-color: #008000\">'batch_size'</span>: <span style=\"color: #008080; text-decoration-color: #008080; font-weight: bold\">1</span>, <span style=\"color: #008000; text-decoration-color: #008000\">'learning_rate_multiplier'</span>: <span style=\"color: #008080; text-decoration-color: #008080; font-weight: bold\">1.8</span><span style=\"font-weight: bold\">}}</span>\n",
       "<span style=\"color: #7fbf7f; text-decoration-color: #7fbf7f\">│   </span><span style=\"font-weight: bold\">}</span>\n",
       "<span style=\"font-weight: bold\">)</span>\n",
       "</pre>\n"
      ],
      "text/plain": [
       "\u001b[1;35mFineTuningJob\u001b[0m\u001b[1m(\u001b[0m\n",
       "\u001b[2;32m│   \u001b[0m\u001b[33mid\u001b[0m=\u001b[32m'ftjob-FbX6SJkbzI36bsniEn3lp4Jr'\u001b[0m,\n",
       "\u001b[2;32m│   \u001b[0m\u001b[33mcreated_at\u001b[0m=\u001b[1;36m1736955425\u001b[0m,\n",
       "\u001b[2;32m│   \u001b[0m\u001b[33merror\u001b[0m=\u001b[1;35mError\u001b[0m\u001b[1m(\u001b[0m\u001b[33mcode\u001b[0m=\u001b[3;35mNone\u001b[0m, \u001b[33mmessage\u001b[0m=\u001b[3;35mNone\u001b[0m, \u001b[33mparam\u001b[0m=\u001b[3;35mNone\u001b[0m\u001b[1m)\u001b[0m,\n",
       "\u001b[2;32m│   \u001b[0m\u001b[33mfine_tuned_model\u001b[0m=\u001b[32m'ft:gpt-4o-mini-2024-07-18:accelerate-science:medical-memo-5-epochs:ApzySybZ'\u001b[0m,\n",
       "\u001b[2;32m│   \u001b[0m\u001b[33mfinished_at\u001b[0m=\u001b[1;36m1736956319\u001b[0m,\n",
       "\u001b[2;32m│   \u001b[0m\u001b[33mhyperparameters\u001b[0m=\u001b[1;35mHyperparameters\u001b[0m\u001b[1m(\u001b[0m\u001b[33mn_epochs\u001b[0m=\u001b[1;36m5\u001b[0m, \u001b[33mbatch_size\u001b[0m=\u001b[1;36m1\u001b[0m, \u001b[33mlearning_rate_multiplier\u001b[0m=\u001b[1;36m1\u001b[0m\u001b[1;36m.8\u001b[0m\u001b[1m)\u001b[0m,\n",
       "\u001b[2;32m│   \u001b[0m\u001b[33mmodel\u001b[0m=\u001b[32m'gpt-4o-mini-2024-07-18'\u001b[0m,\n",
       "\u001b[2;32m│   \u001b[0m\u001b[33mobject\u001b[0m=\u001b[32m'fine_tuning.job'\u001b[0m,\n",
       "\u001b[2;32m│   \u001b[0m\u001b[33morganization_id\u001b[0m=\u001b[32m'org-HHSPDmvSUP6XH0pNIE3tgYO5'\u001b[0m,\n",
       "\u001b[2;32m│   \u001b[0m\u001b[33mresult_files\u001b[0m=\u001b[1m[\u001b[0m\u001b[32m'file-HYttyTDXUuhcKPD4rnc5HQ'\u001b[0m\u001b[1m]\u001b[0m,\n",
       "\u001b[2;32m│   \u001b[0m\u001b[33mseed\u001b[0m=\u001b[1;36m1688312300\u001b[0m,\n",
       "\u001b[2;32m│   \u001b[0m\u001b[33mstatus\u001b[0m=\u001b[32m'succeeded'\u001b[0m,\n",
       "\u001b[2;32m│   \u001b[0m\u001b[33mtrained_tokens\u001b[0m=\u001b[1;36m27245\u001b[0m,\n",
       "\u001b[2;32m│   \u001b[0m\u001b[33mtraining_file\u001b[0m=\u001b[32m'file-5DUayZdBwPrM6h8yf2HHmd'\u001b[0m,\n",
       "\u001b[2;32m│   \u001b[0m\u001b[33mvalidation_file\u001b[0m=\u001b[3;35mNone\u001b[0m,\n",
       "\u001b[2;32m│   \u001b[0m\u001b[33mestimated_finish\u001b[0m=\u001b[3;35mNone\u001b[0m,\n",
       "\u001b[2;32m│   \u001b[0m\u001b[33mintegrations\u001b[0m=\u001b[1m[\u001b[0m\u001b[1m]\u001b[0m,\n",
       "\u001b[2;32m│   \u001b[0m\u001b[33muser_provided_suffix\u001b[0m=\u001b[32m'medical-memo-5-epochs'\u001b[0m,\n",
       "\u001b[2;32m│   \u001b[0m\u001b[33mmethod\u001b[0m=\u001b[1m{\u001b[0m\n",
       "\u001b[2;32m│   │   \u001b[0m\u001b[32m'type'\u001b[0m: \u001b[32m'supervised'\u001b[0m,\n",
       "\u001b[2;32m│   │   \u001b[0m\u001b[32m'supervised'\u001b[0m: \u001b[1m{\u001b[0m\u001b[32m'hyperparameters'\u001b[0m: \u001b[1m{\u001b[0m\u001b[32m'n_epochs'\u001b[0m: \u001b[1;36m5\u001b[0m, \u001b[32m'batch_size'\u001b[0m: \u001b[1;36m1\u001b[0m, \u001b[32m'learning_rate_multiplier'\u001b[0m: \u001b[1;36m1.8\u001b[0m\u001b[1m}\u001b[0m\u001b[1m}\u001b[0m\n",
       "\u001b[2;32m│   \u001b[0m\u001b[1m}\u001b[0m\n",
       "\u001b[1m)\u001b[0m\n"
      ]
     },
     "metadata": {},
     "output_type": "display_data"
    }
   ],
   "source": [
    "results = client.fine_tuning.jobs.retrieve(job.id)\n",
    "pprint(results)"
   ]
  },
  {
   "cell_type": "markdown",
   "metadata": {},
   "source": [
    "Let's first take a look at the results file. We first have to retrieve it, decode it from base64, and then write it to a file."
   ]
  },
  {
   "cell_type": "code",
   "execution_count": 47,
   "metadata": {},
   "outputs": [],
   "source": [
    "import base64\n",
    "\n",
    "content = client.files.content(results.result_files[0])\n",
    "base64.b64decode(content.text.encode('utf-8'))\n",
    "with open('result.csv', 'wb') as f:\n",
    "    f.write(base64.b64decode(content.text.encode('utf-8')))"
   ]
  },
  {
   "cell_type": "code",
   "execution_count": 52,
   "metadata": {},
   "outputs": [
    {
     "data": {
      "text/html": [
       "<div>\n",
       "<style scoped>\n",
       "    .dataframe tbody tr th:only-of-type {\n",
       "        vertical-align: middle;\n",
       "    }\n",
       "\n",
       "    .dataframe tbody tr th {\n",
       "        vertical-align: top;\n",
       "    }\n",
       "\n",
       "    .dataframe thead th {\n",
       "        text-align: right;\n",
       "    }\n",
       "</style>\n",
       "<table border=\"1\" class=\"dataframe\">\n",
       "  <thead>\n",
       "    <tr style=\"text-align: right;\">\n",
       "      <th></th>\n",
       "      <th>step</th>\n",
       "      <th>train_loss</th>\n",
       "      <th>train_accuracy</th>\n",
       "      <th>valid_loss</th>\n",
       "      <th>valid_mean_token_accuracy</th>\n",
       "      <th>train_mean_reward</th>\n",
       "      <th>full_validation_mean_reward</th>\n",
       "    </tr>\n",
       "  </thead>\n",
       "  <tbody>\n",
       "    <tr>\n",
       "      <th>0</th>\n",
       "      <td>1</td>\n",
       "      <td>7.20229</td>\n",
       "      <td>0.33333</td>\n",
       "      <td>NaN</td>\n",
       "      <td>NaN</td>\n",
       "      <td>NaN</td>\n",
       "      <td>NaN</td>\n",
       "    </tr>\n",
       "    <tr>\n",
       "      <th>1</th>\n",
       "      <td>2</td>\n",
       "      <td>5.32964</td>\n",
       "      <td>0.33333</td>\n",
       "      <td>NaN</td>\n",
       "      <td>NaN</td>\n",
       "      <td>NaN</td>\n",
       "      <td>NaN</td>\n",
       "    </tr>\n",
       "    <tr>\n",
       "      <th>2</th>\n",
       "      <td>3</td>\n",
       "      <td>7.17531</td>\n",
       "      <td>0.50000</td>\n",
       "      <td>NaN</td>\n",
       "      <td>NaN</td>\n",
       "      <td>NaN</td>\n",
       "      <td>NaN</td>\n",
       "    </tr>\n",
       "    <tr>\n",
       "      <th>3</th>\n",
       "      <td>4</td>\n",
       "      <td>3.35477</td>\n",
       "      <td>0.47368</td>\n",
       "      <td>NaN</td>\n",
       "      <td>NaN</td>\n",
       "      <td>NaN</td>\n",
       "      <td>NaN</td>\n",
       "    </tr>\n",
       "    <tr>\n",
       "      <th>4</th>\n",
       "      <td>5</td>\n",
       "      <td>6.08353</td>\n",
       "      <td>0.61538</td>\n",
       "      <td>NaN</td>\n",
       "      <td>NaN</td>\n",
       "      <td>NaN</td>\n",
       "      <td>NaN</td>\n",
       "    </tr>\n",
       "  </tbody>\n",
       "</table>\n",
       "</div>"
      ],
      "text/plain": [
       "   step  train_loss  train_accuracy  valid_loss  valid_mean_token_accuracy  \\\n",
       "0     1     7.20229         0.33333         NaN                        NaN   \n",
       "1     2     5.32964         0.33333         NaN                        NaN   \n",
       "2     3     7.17531         0.50000         NaN                        NaN   \n",
       "3     4     3.35477         0.47368         NaN                        NaN   \n",
       "4     5     6.08353         0.61538         NaN                        NaN   \n",
       "\n",
       "   train_mean_reward  full_validation_mean_reward  \n",
       "0                NaN                          NaN  \n",
       "1                NaN                          NaN  \n",
       "2                NaN                          NaN  \n",
       "3                NaN                          NaN  \n",
       "4                NaN                          NaN  "
      ]
     },
     "execution_count": 52,
     "metadata": {},
     "output_type": "execute_result"
    }
   ],
   "source": [
    "df = pd.read_csv('result.csv')\n",
    "df.head()"
   ]
  },
  {
   "cell_type": "code",
   "execution_count": 53,
   "metadata": {},
   "outputs": [
    {
     "data": {
      "image/png": "[encoded data removed]",
      "text/plain": [
       "<Figure size 640x480 with 1 Axes>"
      ]
     },
     "metadata": {},
     "output_type": "display_data"
    }
   ],
   "source": [
    "import matplotlib.pyplot as plt\n",
    "\n",
    "plt.plot(df['step'], df['train_loss'], label='train loss')\n",
    "plt.plot(df['step'], df['train_accuracy'], label='accuracy')\n",
    "plt.show()"
   ]
  },
  {
   "cell_type": "markdown",
   "metadata": {},
   "source": [
    "OpenAI will save the final 3 epochs as checkpoints. We can get a list:"
   ]
  },
  {
   "cell_type": "code",
   "execution_count": 61,
   "metadata": {},
   "outputs": [
    {
     "name": "stdout",
     "output_type": "stream",
     "text": [
      "ft:gpt-4o-mini-2024-07-18:accelerate-science:medical-memo-5-epochs:ApzySf8o:ckpt-step-375\n",
      "ft:gpt-4o-mini-2024-07-18:accelerate-science:medical-memo-5-epochs:ApzySQIf:ckpt-step-500\n",
      "ft:gpt-4o-mini-2024-07-18:accelerate-science:medical-memo-5-epochs:ApzySybZ\n"
     ]
    }
   ],
   "source": [
    "checkpoints = []\n",
    "\n",
    "for model in client.models.list():\n",
    "    if model.id.startswith('ft:gpt-4'):\n",
    "        checkpoints.append(model.id)\n",
    "        print(model.id)"
   ]
  },
  {
   "cell_type": "code",
   "execution_count": 10,
   "metadata": {},
   "outputs": [
    {
     "name": "stderr",
     "output_type": "stream",
     "text": [
      "Processing judgments: 100%|██████████| 125/125 [00:05<00:00, 24.20it/s]]\n",
      "Processing judgments: 100%|██████████| 125/125 [00:05<00:00, 22.16it/s] \n",
      "Processing judgments: 100%|██████████| 125/125 [00:02<00:00, 52.11it/s]\n",
      "Processing judgments: 100%|██████████| 125/125 [00:03<00:00, 32.13it/s]\n"
     ]
    }
   ],
   "source": [
    "fine_tuned_completions_memo, fine_tuned_completions_gen = await asyncio.gather(\n",
    "    get_answers_async(prompts_memo, checkpoints[2]),\n",
    "    get_answers_async(prompts_gen, checkpoints[2])\n",
    ")\n",
    "\n",
    "fine_tuned_inputs_memo = [\n",
    "    {\n",
    "        'prompt': prompts_memo[i],\n",
    "        'answer': answers_memo[i],\n",
    "        'advice' : updated_fact_descriptions[i],\n",
    "        'completion': fine_tuned_completions_memo[i],\n",
    "    }\n",
    "    for i in range(len(prompts_memo))\n",
    "]\n",
    "\n",
    "fine_tuned_memo_results = await memo_judge.judge_all(fine_tuned_inputs_memo, temperature=0.0)\n",
    "\n",
    "fine_tuned_inputs_gen = [\n",
    "    {\n",
    "        'prompt': prompts_gen[i],\n",
    "        'answer': answers_gen[i],\n",
    "        'advice' : updated_fact_descriptions[i],\n",
    "        'completion': fine_tuned_completions_gen[i],\n",
    "    }\n",
    "    for i in range(len(prompts_gen))\n",
    "]\n",
    "\n",
    "fine_tuned_gen_results = await gen_judge.judge_all(fine_tuned_inputs_gen, temperature=0.0)\n",
    "\n",
    "fine_tuned_memo_results = [int(result) for result in fine_tuned_memo_results]\n",
    "fine_tuned_gen_results = [int(result) for result in fine_tuned_gen_results]\n"
   ]
  },
  {
   "cell_type": "markdown",
   "metadata": {},
   "source": [
    "#### First checkpoint"
   ]
  },
  {
   "cell_type": "code",
   "execution_count": 67,
   "metadata": {},
   "outputs": [
    {
     "name": "stdout",
     "output_type": "stream",
     "text": [
      "Memorization results: 87%\n",
      "Generalization results: 63%\n"
     ]
    }
   ],
   "source": [
    "print(f\"Memorization results: {sum(fine_tuned_memo_results)/len(fine_tuned_memo_results) * 100 :.0f}%\")\n",
    "print(f\"Generalization results: {sum(fine_tuned_gen_results)/len(fine_tuned_gen_results) * 100 :.0f}%\")"
   ]
  },
  {
   "cell_type": "markdown",
   "metadata": {},
   "source": [
    "#### Second checkpoint"
   ]
  },
  {
   "cell_type": "code",
   "execution_count": 14,
   "metadata": {},
   "outputs": [
    {
     "name": "stdout",
     "output_type": "stream",
     "text": [
      "Memorization results: 94%\n",
      "Generalization results: 62%\n"
     ]
    }
   ],
   "source": [
    "print(f\"Memorization results: {sum(fine_tuned_memo_results)/len(fine_tuned_memo_results) * 100 :.0f}%\")\n",
    "print(f\"Generalization results: {sum(fine_tuned_gen_results)/len(fine_tuned_gen_results) * 100 :.0f}%\")"
   ]
  },
  {
   "cell_type": "markdown",
   "metadata": {},
   "source": [
    "#### Final Checkpoint"
   ]
  },
  {
   "cell_type": "code",
   "execution_count": 11,
   "metadata": {},
   "outputs": [
    {
     "name": "stdout",
     "output_type": "stream",
     "text": [
      "Memorization results: 94%\n",
      "Generalization results: 66%\n"
     ]
    }
   ],
   "source": [
    "print(f\"Memorization results: {sum(fine_tuned_memo_results)/len(fine_tuned_memo_results) * 100 :.0f}%\")\n",
    "print(f\"Generalization results: {sum(fine_tuned_gen_results)/len(fine_tuned_gen_results) * 100 :.0f}%\")"
   ]
  },
  {
   "cell_type": "markdown",
   "metadata": {},
   "source": [
    "Performance has improved massively. Obviously on the memorization training dataset, the model has done very well. But on the generalization dataset, it has also done very well. This is a good sign that the model has learned the new information and can apply it to new situations.\n",
    "\n",
    "It might be worth checking out the paper mentioned at the start of this notebook, because their results are actually slightly different from ours..."
   ]
  },
  {
   "cell_type": "markdown",
   "metadata": {},
   "source": [
    "Let's look at some scenarios that the model got correct, and incorrect:"
   ]
  },
  {
   "cell_type": "code",
   "execution_count": 12,
   "metadata": {},
   "outputs": [
    {
     "name": "stdout",
     "output_type": "stream",
     "text": [
      "Prompt:\n",
      "A 65-year-old man is scheduled for elective cholecystectomy. He has hypertension and diabetes. His DASI score is 36, and he has no cardiac symptoms. Based on current guidelines, what is the appropriate next step in his preoperative cardiac evaluation?\n",
      "\n",
      "Completion:\n",
      "Proceed with surgery without additional cardiac testing\n",
      "\n",
      "Answer:\n",
      "Proceed directly to surgery without further cardiac testing, as DASI score >34 indicates adequate functional capacity\n",
      "\n"
     ]
    }
   ],
   "source": [
    "correct = np.where(np.array(fine_tuned_gen_results) == 1)[0][0]\n",
    "incorrect = np.where(np.array(fine_tuned_gen_results) == 0)[0][0]\n",
    "\n",
    "print(f\"Prompt:\\n{prompts_gen[correct]}\\n\")\n",
    "print(f\"Completion:\\n{fine_tuned_completions_gen[correct]}\\n\")\n",
    "print(f\"Answer:\\n{answers_gen[correct]}\\n\")"
   ]
  },
  {
   "cell_type": "code",
   "execution_count": 13,
   "metadata": {},
   "outputs": [
    {
     "name": "stdout",
     "output_type": "stream",
     "text": [
      "Prompt:\n",
      "A 58-year-old woman with type 2 diabetes taking empagliflozin is scheduled for knee replacement surgery in 5 days. When should you instruct her to stop her SGLT2 inhibitor?\n",
      "\n",
      "Completion:\n",
      "Continue empagliflozin up to the day of surgery\n",
      "\n",
      "Answer:\n",
      "Instruct patient to stop empagliflozin 3-4 days before surgery (2-3 days from now)\n",
      "\n"
     ]
    }
   ],
   "source": [
    "print(f\"Prompt:\\n{prompts_gen[incorrect]}\\n\")\n",
    "print(f\"Completion:\\n{fine_tuned_completions_gen[incorrect]}\\n\")\n",
    "print(f\"Answer:\\n{answers_gen[incorrect]}\\n\")"
   ]
  }
 ],
 "metadata": {
  "kernelspec": {
   "display_name": "venv",
   "language": "python",
   "name": "python3"
  },
  "language_info": {
   "codemirror_mode": {
    "name": "ipython",
    "version": 3
   },
   "file_extension": ".py",
   "mimetype": "text/x-python",
   "name": "python",
   "nbconvert_exporter": "python",
   "pygments_lexer": "ipython3",
   "version": "3.11.8"
  }
 },
 "nbformat": 4,
 "nbformat_minor": 2
}
